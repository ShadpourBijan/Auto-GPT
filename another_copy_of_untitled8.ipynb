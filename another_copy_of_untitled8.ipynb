{
  "nbformat": 4,
  "nbformat_minor": 0,
  "metadata": {
    "colab": {
      "provenance": [],
      "authorship_tag": "ABX9TyMCQGx77HA/s83yxApM1sOY",
      "include_colab_link": true
    },
    "kernelspec": {
      "name": "python3",
      "display_name": "Python 3"
    },
    "language_info": {
      "name": "python"
    }
  },
  "cells": [
    {
      "cell_type": "markdown",
      "metadata": {
        "id": "view-in-github",
        "colab_type": "text"
      },
      "source": [
        "<a href=\"https://colab.research.google.com/github/ShadpourBijan/Auto-GPT/blob/master/another_copy_of_untitled8.ipynb\" target=\"_parent\"><img src=\"https://colab.research.google.com/assets/colab-badge.svg\" alt=\"Open In Colab\"/></a>"
      ]
    },
    {
      "cell_type": "code",
      "execution_count": null,
      "metadata": {
        "colab": {
          "base_uri": "https://localhost:8080/"
        },
        "id": "Hr3QK7liuUek",
        "outputId": "8080a671-7549-4552-f235-ecb773765284"
      },
      "outputs": [
        {
          "output_type": "stream",
          "name": "stdout",
          "text": [
            "Requirement already satisfied: streamlit in /usr/local/lib/python3.10/dist-packages (1.29.0)\n",
            "Requirement already satisfied: altair<6,>=4.0 in /usr/local/lib/python3.10/dist-packages (from streamlit) (4.2.2)\n",
            "Requirement already satisfied: blinker<2,>=1.0.0 in /usr/lib/python3/dist-packages (from streamlit) (1.4)\n",
            "Requirement already satisfied: cachetools<6,>=4.0 in /usr/local/lib/python3.10/dist-packages (from streamlit) (5.3.2)\n",
            "Requirement already satisfied: click<9,>=7.0 in /usr/local/lib/python3.10/dist-packages (from streamlit) (8.1.7)\n",
            "Requirement already satisfied: importlib-metadata<7,>=1.4 in /usr/local/lib/python3.10/dist-packages (from streamlit) (6.11.0)\n",
            "Requirement already satisfied: numpy<2,>=1.19.3 in /usr/local/lib/python3.10/dist-packages (from streamlit) (1.23.5)\n",
            "Requirement already satisfied: packaging<24,>=16.8 in /usr/local/lib/python3.10/dist-packages (from streamlit) (23.2)\n",
            "Requirement already satisfied: pandas<3,>=1.3.0 in /usr/local/lib/python3.10/dist-packages (from streamlit) (1.5.3)\n",
            "Requirement already satisfied: pillow<11,>=7.1.0 in /usr/local/lib/python3.10/dist-packages (from streamlit) (9.4.0)\n",
            "Requirement already satisfied: protobuf<5,>=3.20 in /usr/local/lib/python3.10/dist-packages (from streamlit) (3.20.3)\n",
            "Requirement already satisfied: pyarrow>=6.0 in /usr/local/lib/python3.10/dist-packages (from streamlit) (10.0.1)\n",
            "Requirement already satisfied: python-dateutil<3,>=2.7.3 in /usr/local/lib/python3.10/dist-packages (from streamlit) (2.8.2)\n",
            "Requirement already satisfied: requests<3,>=2.27 in /usr/local/lib/python3.10/dist-packages (from streamlit) (2.31.0)\n",
            "Requirement already satisfied: rich<14,>=10.14.0 in /usr/local/lib/python3.10/dist-packages (from streamlit) (13.7.0)\n",
            "Requirement already satisfied: tenacity<9,>=8.1.0 in /usr/local/lib/python3.10/dist-packages (from streamlit) (8.2.3)\n",
            "Requirement already satisfied: toml<2,>=0.10.1 in /usr/local/lib/python3.10/dist-packages (from streamlit) (0.10.2)\n",
            "Requirement already satisfied: typing-extensions<5,>=4.3.0 in /usr/local/lib/python3.10/dist-packages (from streamlit) (4.5.0)\n",
            "Requirement already satisfied: tzlocal<6,>=1.1 in /usr/local/lib/python3.10/dist-packages (from streamlit) (5.2)\n",
            "Requirement already satisfied: validators<1,>=0.2 in /usr/local/lib/python3.10/dist-packages (from streamlit) (0.22.0)\n",
            "Requirement already satisfied: gitpython!=3.1.19,<4,>=3.0.7 in /usr/local/lib/python3.10/dist-packages (from streamlit) (3.1.40)\n",
            "Requirement already satisfied: pydeck<1,>=0.8.0b4 in /usr/local/lib/python3.10/dist-packages (from streamlit) (0.8.1b0)\n",
            "Requirement already satisfied: tornado<7,>=6.0.3 in /usr/local/lib/python3.10/dist-packages (from streamlit) (6.3.2)\n",
            "Requirement already satisfied: watchdog>=2.1.5 in /usr/local/lib/python3.10/dist-packages (from streamlit) (3.0.0)\n",
            "Requirement already satisfied: entrypoints in /usr/local/lib/python3.10/dist-packages (from altair<6,>=4.0->streamlit) (0.4)\n",
            "Requirement already satisfied: jinja2 in /usr/local/lib/python3.10/dist-packages (from altair<6,>=4.0->streamlit) (3.1.2)\n",
            "Requirement already satisfied: jsonschema>=3.0 in /usr/local/lib/python3.10/dist-packages (from altair<6,>=4.0->streamlit) (4.19.2)\n",
            "Requirement already satisfied: toolz in /usr/local/lib/python3.10/dist-packages (from altair<6,>=4.0->streamlit) (0.12.0)\n",
            "Requirement already satisfied: gitdb<5,>=4.0.1 in /usr/local/lib/python3.10/dist-packages (from gitpython!=3.1.19,<4,>=3.0.7->streamlit) (4.0.11)\n",
            "Requirement already satisfied: zipp>=0.5 in /usr/local/lib/python3.10/dist-packages (from importlib-metadata<7,>=1.4->streamlit) (3.17.0)\n",
            "Requirement already satisfied: pytz>=2020.1 in /usr/local/lib/python3.10/dist-packages (from pandas<3,>=1.3.0->streamlit) (2023.3.post1)\n",
            "Requirement already satisfied: six>=1.5 in /usr/local/lib/python3.10/dist-packages (from python-dateutil<3,>=2.7.3->streamlit) (1.16.0)\n",
            "Requirement already satisfied: charset-normalizer<4,>=2 in /usr/local/lib/python3.10/dist-packages (from requests<3,>=2.27->streamlit) (3.3.2)\n",
            "Requirement already satisfied: idna<4,>=2.5 in /usr/local/lib/python3.10/dist-packages (from requests<3,>=2.27->streamlit) (3.6)\n",
            "Requirement already satisfied: urllib3<3,>=1.21.1 in /usr/local/lib/python3.10/dist-packages (from requests<3,>=2.27->streamlit) (2.0.7)\n",
            "Requirement already satisfied: certifi>=2017.4.17 in /usr/local/lib/python3.10/dist-packages (from requests<3,>=2.27->streamlit) (2022.12.7)\n",
            "Requirement already satisfied: markdown-it-py>=2.2.0 in /usr/local/lib/python3.10/dist-packages (from rich<14,>=10.14.0->streamlit) (3.0.0)\n",
            "Requirement already satisfied: pygments<3.0.0,>=2.13.0 in /usr/local/lib/python3.10/dist-packages (from rich<14,>=10.14.0->streamlit) (2.16.1)\n",
            "Requirement already satisfied: smmap<6,>=3.0.1 in /usr/local/lib/python3.10/dist-packages (from gitdb<5,>=4.0.1->gitpython!=3.1.19,<4,>=3.0.7->streamlit) (5.0.1)\n",
            "Requirement already satisfied: MarkupSafe>=2.0 in /usr/local/lib/python3.10/dist-packages (from jinja2->altair<6,>=4.0->streamlit) (2.1.3)\n",
            "Requirement already satisfied: attrs>=22.2.0 in /usr/local/lib/python3.10/dist-packages (from jsonschema>=3.0->altair<6,>=4.0->streamlit) (23.1.0)\n",
            "Requirement already satisfied: jsonschema-specifications>=2023.03.6 in /usr/local/lib/python3.10/dist-packages (from jsonschema>=3.0->altair<6,>=4.0->streamlit) (2023.11.2)\n",
            "Requirement already satisfied: referencing>=0.28.4 in /usr/local/lib/python3.10/dist-packages (from jsonschema>=3.0->altair<6,>=4.0->streamlit) (0.32.0)\n",
            "Requirement already satisfied: rpds-py>=0.7.1 in /usr/local/lib/python3.10/dist-packages (from jsonschema>=3.0->altair<6,>=4.0->streamlit) (0.13.2)\n",
            "Requirement already satisfied: mdurl~=0.1 in /usr/local/lib/python3.10/dist-packages (from markdown-it-py>=2.2.0->rich<14,>=10.14.0->streamlit) (0.1.2)\n"
          ]
        }
      ],
      "source": [
        "pip install streamlit"
      ]
    },
    {
      "cell_type": "code",
      "source": [
        "pip install pyChatGPT"
      ],
      "metadata": {
        "colab": {
          "base_uri": "https://localhost:8080/"
        },
        "id": "IAaFP0SGBwnA",
        "outputId": "490b2387-6405-4388-8fc1-f2a0f22a5793"
      },
      "execution_count": null,
      "outputs": [
        {
          "output_type": "stream",
          "name": "stdout",
          "text": [
            "Requirement already satisfied: pyChatGPT in /usr/local/lib/python3.10/dist-packages (0.4.3.3)\n",
            "Requirement already satisfied: undetected-chromedriver>=3.2.1 in /usr/local/lib/python3.10/dist-packages (from pyChatGPT) (3.5.4)\n",
            "Requirement already satisfied: markdownify>=0.11.6 in /usr/local/lib/python3.10/dist-packages (from pyChatGPT) (0.11.6)\n",
            "Requirement already satisfied: beautifulsoup4<5,>=4.9 in /usr/local/lib/python3.10/dist-packages (from markdownify>=0.11.6->pyChatGPT) (4.11.2)\n",
            "Requirement already satisfied: six<2,>=1.15 in /usr/local/lib/python3.10/dist-packages (from markdownify>=0.11.6->pyChatGPT) (1.16.0)\n",
            "Requirement already satisfied: selenium>=4.9.0 in /usr/local/lib/python3.10/dist-packages (from undetected-chromedriver>=3.2.1->pyChatGPT) (4.16.0)\n",
            "Requirement already satisfied: requests in /usr/local/lib/python3.10/dist-packages (from undetected-chromedriver>=3.2.1->pyChatGPT) (2.31.0)\n",
            "Requirement already satisfied: websockets in /usr/local/lib/python3.10/dist-packages (from undetected-chromedriver>=3.2.1->pyChatGPT) (12.0)\n",
            "Requirement already satisfied: soupsieve>1.2 in /usr/local/lib/python3.10/dist-packages (from beautifulsoup4<5,>=4.9->markdownify>=0.11.6->pyChatGPT) (2.5)\n",
            "Requirement already satisfied: urllib3[socks]<3,>=1.26 in /usr/local/lib/python3.10/dist-packages (from selenium>=4.9.0->undetected-chromedriver>=3.2.1->pyChatGPT) (2.0.7)\n",
            "Requirement already satisfied: trio~=0.17 in /usr/local/lib/python3.10/dist-packages (from selenium>=4.9.0->undetected-chromedriver>=3.2.1->pyChatGPT) (0.23.2)\n",
            "Requirement already satisfied: trio-websocket~=0.9 in /usr/local/lib/python3.10/dist-packages (from selenium>=4.9.0->undetected-chromedriver>=3.2.1->pyChatGPT) (0.11.1)\n",
            "Requirement already satisfied: certifi>=2021.10.8 in /usr/local/lib/python3.10/dist-packages (from selenium>=4.9.0->undetected-chromedriver>=3.2.1->pyChatGPT) (2022.12.7)\n",
            "Requirement already satisfied: charset-normalizer<4,>=2 in /usr/local/lib/python3.10/dist-packages (from requests->undetected-chromedriver>=3.2.1->pyChatGPT) (3.3.2)\n",
            "Requirement already satisfied: idna<4,>=2.5 in /usr/local/lib/python3.10/dist-packages (from requests->undetected-chromedriver>=3.2.1->pyChatGPT) (3.6)\n",
            "Requirement already satisfied: attrs>=20.1.0 in /usr/local/lib/python3.10/dist-packages (from trio~=0.17->selenium>=4.9.0->undetected-chromedriver>=3.2.1->pyChatGPT) (23.1.0)\n",
            "Requirement already satisfied: sortedcontainers in /usr/local/lib/python3.10/dist-packages (from trio~=0.17->selenium>=4.9.0->undetected-chromedriver>=3.2.1->pyChatGPT) (2.4.0)\n",
            "Requirement already satisfied: outcome in /usr/local/lib/python3.10/dist-packages (from trio~=0.17->selenium>=4.9.0->undetected-chromedriver>=3.2.1->pyChatGPT) (1.3.0.post0)\n",
            "Requirement already satisfied: sniffio>=1.3.0 in /usr/local/lib/python3.10/dist-packages (from trio~=0.17->selenium>=4.9.0->undetected-chromedriver>=3.2.1->pyChatGPT) (1.3.0)\n",
            "Requirement already satisfied: exceptiongroup in /usr/local/lib/python3.10/dist-packages (from trio~=0.17->selenium>=4.9.0->undetected-chromedriver>=3.2.1->pyChatGPT) (1.2.0)\n",
            "Requirement already satisfied: wsproto>=0.14 in /usr/local/lib/python3.10/dist-packages (from trio-websocket~=0.9->selenium>=4.9.0->undetected-chromedriver>=3.2.1->pyChatGPT) (1.2.0)\n",
            "Requirement already satisfied: pysocks!=1.5.7,<2.0,>=1.5.6 in /usr/local/lib/python3.10/dist-packages (from urllib3[socks]<3,>=1.26->selenium>=4.9.0->undetected-chromedriver>=3.2.1->pyChatGPT) (1.7.1)\n",
            "Requirement already satisfied: h11<1,>=0.9.0 in /usr/local/lib/python3.10/dist-packages (from wsproto>=0.14->trio-websocket~=0.9->selenium>=4.9.0->undetected-chromedriver>=3.2.1->pyChatGPT) (0.14.0)\n"
          ]
        }
      ]
    },
    {
      "cell_type": "code",
      "source": [
        "pip install deep_translator"
      ],
      "metadata": {
        "colab": {
          "base_uri": "https://localhost:8080/"
        },
        "id": "VZzOrFBcCGFQ",
        "outputId": "939c6786-d1d8-4683-dd6f-2f62998d92fb"
      },
      "execution_count": null,
      "outputs": [
        {
          "output_type": "stream",
          "name": "stdout",
          "text": [
            "Requirement already satisfied: deep_translator in /usr/local/lib/python3.10/dist-packages (1.11.4)\n",
            "Requirement already satisfied: beautifulsoup4<5.0.0,>=4.9.1 in /usr/local/lib/python3.10/dist-packages (from deep_translator) (4.11.2)\n",
            "Requirement already satisfied: requests<3.0.0,>=2.23.0 in /usr/local/lib/python3.10/dist-packages (from deep_translator) (2.31.0)\n",
            "Requirement already satisfied: soupsieve>1.2 in /usr/local/lib/python3.10/dist-packages (from beautifulsoup4<5.0.0,>=4.9.1->deep_translator) (2.5)\n",
            "Requirement already satisfied: charset-normalizer<4,>=2 in /usr/local/lib/python3.10/dist-packages (from requests<3.0.0,>=2.23.0->deep_translator) (3.3.2)\n",
            "Requirement already satisfied: idna<4,>=2.5 in /usr/local/lib/python3.10/dist-packages (from requests<3.0.0,>=2.23.0->deep_translator) (3.6)\n",
            "Requirement already satisfied: urllib3<3,>=1.21.1 in /usr/local/lib/python3.10/dist-packages (from requests<3.0.0,>=2.23.0->deep_translator) (2.0.7)\n",
            "Requirement already satisfied: certifi>=2017.4.17 in /usr/local/lib/python3.10/dist-packages (from requests<3.0.0,>=2.23.0->deep_translator) (2022.12.7)\n"
          ]
        }
      ]
    },
    {
      "cell_type": "code",
      "source": [
        "import streamlit as st\n",
        "import databutton as db\n",
        "from pyChatGPT import ChatGPT\n",
        "from   deep_translator import GoogleTranslator\n",
        "session = \"eyJhbGciOiJkaXIiLCJlbmMiOiJBMjU2R0NNIn0..P4fB3rtBKRP_8aM9.VLgM_WZGF9CWFi--ZR1cK1dwpxbAWsUxNQiRPayNX8uNn21xwZ0s0a2lOhI7WI-Vrfe9hwiS4EhSdjNQauRi9cBne0gXeFO8ZYb7tTIbK2T-tRXzfXDZZSqP9WoGJWmUgdu-8lgYFZj48QaHMttUm6sNip947STrdJcYRS74X2fwDl5uMTsyrYqZ__wxpiI76Vr05SIazYuemFo15ZzUs4w4x69h12e1ESqcKavufl2iZ9XF8bABxXjZgs6hzfnrzVzx0gVwLmTmL56ZhaKuJbpnzdtZG833PbFpE39XRw1PE2-q37ocopiDhsvAyctlJ9ChqgREZcV3N225g5PWkfhaDH6bKJJajpKrMLKT2CrbJfVda0Zo7q4MtoTAms_0qMRS0ue2Fo_sVRhkTQwvq7cOpg_LeuCtIOYnIYKxg1RsneEzMPRbeua3XGM-x6FT4irHcQAG342ZcPm9sJdA1VbFpAIXHDZKxTrzr-ymJbXP8VwtrA5v2zaIybVZO5xNP9SJinpOA2HjPFrhQZqIB3X27ZZPMYbbCgrr2X6mo94BUfYSzUIFyVmTH4yPDyLot9Rjet4xhrFTViwkwp7zbnROUT7KjrgbekSi5Zuf5zynYCtRjD0chzAzvfpwVOCoPxEpH9OOYFUwBnEE44HCifPC8iLa-i9VyhPHKgp91U3bcEtmj7hCXYzP91KJOwPaOFEhgIFCpulw1ZZQAz5RmDCWLFDINSkeoi-xuxcntS3KBKblecMm3_6WPlWOP2Zw7du6veW723nMHDRUr5zVTPUn9zinAOhGcJ1wT8bkHoqDZwLZ-HBPT5Ho8OXJ6qjCNYUa6mfvF25XvnOX18mfeYUpxBA9kANy1engbgsjh8y23NL-iAGFvwRx3mABKr9t1imdjE3DN2dKVdX5o7hKINczf8KwKO61i_3QHIZw4CkyADsMVxGL2VXpVg6i6A94mZ-Vf2wbSxUlMoZID3gajEQEW6GQqcOD3DGaiHpTEOdawLfIhgv6EwkunGAxrMv2YAm-mZgvZaucTvqcC_7CZlLFtSXdCdXywo93m6Yt8tN1FHkDCE_3Wouboknd_RCY9jFd-SOWPkcp7KOgmAtxE6ouoixYejZAQHvX8kEJhrPIidgjl6XdFPSk-kBeFKtciDu5gzmaYp7nqnvQYhAYAj3w_4XJOlw6f-IhN9O1brhleufv-7Lqo99ilgWx_BaNP_fLrRKwoiQiAL9sFxJryH9L7-bY0_sDfH9bVXfHUYrebnXZ2ab0kAqbyzHcDnT1PrNvC2nJlIjW0pTN1EEga2F4rA1nfmVvTdf39u9KCBooBNLZxcKcTk1ue29zlAA7Nc6SrcMRyKGBtHlS2y8WQv5IK7zb0C_BYylXMWe734uPOrQj2uDipOLuf-M2A8EKkbJanJ2FXD7jhQ1aNF28Q8n0bmv85pdwEY6m8sXC1L83xy1b3YIDmM7GNIn3r1PjeJaAYOLT-lzqnqy9T6rho-RsUCy7kQJj_DyhYFFYDcRNwuO-wLShTyXOSB2OS2shRueCFY1K2PQH0E7f1qXJHPs19lMGX4jywdFs7VheH4oNzKXcHqjPsDmCaIbYBZ1kPdt-8_fIKzhhESFrehP-4exMDHVGvYZTDuWMG3stBC1JWiAVWt3POcqbAyj4SKrVyk2Olvz4hlU_BxLLdrCQzW07WMsRtz6vzwvjZglM9IMOdc8US70nKfZ9uM7BBlDQuvr_d6Z9KzG1l6dzyPCy8WeGnjFhlJDvd6JW2Ci3FFT3kSbfgIe_DEb4gHUIY0wS15ty3UBVkI_KdZqqq9OXrvs5S9xJDpEgeZs6YTK-O0WK8KGmpv-iumq17yK7J1BuCGubvJS_rLHLAFZPmYUfSdWET7gllFHmBqiMQ-e3QFsW1ZUi2WUDLQSs-q04P9Dxy6lPDSCxR1AVIl_vFv1NDwRRzCLjwGaSx7NunkDHp94FUeUPchtS_TA3n5c_DTixnZdOydnxz7B7fMbN7BHSUeGPOsNd3-mDFlFSAQxCUSacJK5BH8q6vJCwNbks7nbIZRlNqPGjfVGvL8kunkyBGNVcd_t095YYTk90K3cQ0E4nSoHEI2v8p3KlqYKOUb9FtNhL5lRLPIPfXRPuau-MVKj4vQgb60hHA5lZwsBZ3qUee4nw7jh56y60jPbWbOsVmUTJod7vTfCskmveqPVzlxZooqLQtyFGSqhXdiVjYDshdIM3_eT-xjmdb8jA1AUmJxv4Pvy_gm_54AAdxW5feAOXqhzCrR6IvKCiePu7OuFsNJpzqAxKOrksvCWOAUR1GsMgLd56fL2R1qLidTmuYHfNhhxaqUklYeCFqL_QR_BuJqFZkt_mbI94ic_kCP-Z8T2lPlgAMMbcft4FIXOrfLKYpec6avlfFanJIs175WmbuPLQi6HqDlZ78oPL-KNU0h8_nN1bvl7HyA0iF9h4zSk48cX_wNL4GVmEdRpX3AK1wg2Rj0Hr_qSRj31qUBzHoaHLP0l1JDILayb3LzKjGaDMpZz58fRObJNOoBnPArcDQcAJjtWlEZ_VPaAuAZ-4L_wBt7ZRlRb1uJyqWwiLtrFRKGAVf7-d4B1ur650JWgfpK5WhMwYFXsDCd4FCCEo1LW6ka8ipnh6HH2rhsPMCfqf_hPt-0SXqm-PdQCLDXptoLFDcycv9jNojrxxfGq1tokyTwCw12XsEBiGK_JyYYGv49KA0FU0lAhGiyPyhDVCpMqSS005XwZD7w4DIf-x8rTHK7PHRsdum51s1oQofj4kBmsnb4Sxy2albN1A2KOiDbYHecAdwiCMabDyL0y8uhmzIG_VbhrZ_m163xinKtKMjh8B6UT3AXMwe_kgl6Z6oxM6scThupWUUJAGLTa_1VM5H-rMsUIebKwjqVgNulmGs2qgwgQs-bzQ5fWY-nyh-c0s1MrPWO3r2vBTWto0eDwVz12a.gBskX1_NvMGFSSPSlx6XDA\"\n",
        "## session=  \"eyJhbGciOiJkaXIiLCJlbmMiOiJBMjU2R0NNIn0..CNzCgxFN2rbBJpHa.oUPFXW8c5GhClaNOKAVvuA-PQWXEZGLphnjG9XJnzjVxTD6tYNVCucK4SLy6oN1sFg-XtMYMn6amo-7xEuon9O2hZeG1xRJqiucMSFiXpCqXsVoJsNw4cstMBzeyYYCDZbaqOvR9Vfx6A1alBC7xdU13X2UyvAMj_ZryVpk2QxwLC3pJ1lQHxX8eN-tm6LhgnhIZMICqvLaFLvb56XsyseDoOsre63CoKQz5QnnIyMaw-9eXU99qMuQCv-bh17uabqiYO2gY7_sGHQqqTXtu4JBXj452-vj1elSwt3YWi0q-XWBJ2Plu2JFbc2FGKre4homtXNO9MCMFj5GYsjvqgao0-vQitoy2vyV3qLF6saliU8lE36EtLlmvErfI4azLhWkW5myLd-fKyMjII3D2zlxp15n9B_1hyAdV7Cfok-hGNNtnxe0SePD4gIcN5X3kBs-8jEjdrhaaqtT5q-9y0kuRxKY1_ZZD9_TRiaL_POhw9ccVpek0ArKayhNsr8ai1RA483qiKXX8vW-dXqOE2DVSviP1VYl99mf3RDVWLbZpxQKdPUGlg1CCQxY4BFllN7Efo8KBa_vpNp30E8VZr75wMS7diTyE0m1eXtPIrIvpM4Yt93fW05Iqk29dgNw2psXj8HUb19gXPk1U6SZsVZI9bZ6F_CCGFnxyNvJrBB4hH4TC62IsLthrp315EzPqaCoEdhvGQG1kQZAKFpPWRKWjidPVpRFo3ur2t7s6yEqCc4njPh7e7FE0vOJCsAZJBy8GrF1-mC1QYAXH-4EY9uv1EgMpIZmX69aKEDngm-XQh75zJQfJIvSNynNgAV3jsRBr7sWXMgG_1EUH70eV7nMtzD0Y2KHWp37QyKbMLqQstPUP6JAoxuGNExrN5OGn7yUEElhcVvgm20YvUUA9McQwrxpxIvj-djLdWwWnfvMeF2fthhg6zmt8P9jXhRyV36gbubjZGC3oGgJcis9aHKj8oe80qUTpidwmHEwxRFMKyYyXHTm4J7BZ-T8L-LkSoQy6lVkYO3KafPgu3p93riVaXfIBOnQ4uO61glYFl_UWqO7LYET2j222P6Br7_VGJTgoFpYHlqiqqjOWUbYwKplY-aX9YuapjB7mAaRE-JFJ7JNfRuEz-zGWeLBwVlfwyL6VveaH-oH0MgTD6As9QjLX2D7u8mmBqtAfS4X8O8ccvVXusUjH_VlWy_XbTJEusocAOyi4vm_sjXbIyT2UQDEGjgNUKx2fOx1jgFN3hDlWGUGF67y4cLqWeWy2e6qRadhButUb1YyLyQAQS0vyh8oh0wbSjnB4dX4r__33mRboyE85ChKzaEA17XYK8gsftuHZLB-2MsoLjyJek1HEOpX2jooIuTpGrxqvrYJll-IGbuqmdMA_bKZCMOYbJAujysZsBhabpobTmRbUO8mzbo1Oi3GYo62zJtlvZTrhj2C83emSMxx0nHQKlshLAO0ijEgz8dXPYjxlznsv04oAfa1JHmqbfIC0QEj8eg7sgzXt-XIGWDBXiUfXOWDjqwohRah9Sxo9ajK4CREYcH6ltQSOScan9TeqkMi3nNpbV65W2OcEMY0_KxvWjHBm_KwXxCQLzW2LsOjk0lraCT4YrAqNxyBoIiaLQTcK9GLPL5tt81sTNIAUFLVxn8vRFb1K_nPptwLh5MEbnjFgtym_9XDw1WndWWDH_QlbcMfrMeNrnobYr-t6Ao9GlGYDeassm3pGtTP3T2Lm293fvoMiRoUFD8Zr0HtNMP7uW6wxPWGQK4sIIYioGoB5U-yzserRyLESAxIbs90XtrSJHAb_hZbOizq-RykYnBSO5eBPpCZ183lpao5Z3WU3lNBKSRBAKn1lmUPnjbt9-yDEKWKqoLFjD-JXPP-qKMiXqP0THFngfHOBzvbvxbKvDhVPiK0XgSdYyOFivqZTssSX01aB1tjae23q1L8FHUbsYW9m1cw_R0s933j7HijlE7wTv8aoVVB1q5EXxlsUQjr3GhKjpo61cwKkHZ7d-gE2U6BTCvpj-0s55fxx5ID6efqorb2kIUhMqrSMxysuH4GZkHTHnj06vhs0uQMjPCtnKgHXHnqAkJCKnViMmeo3MgHBGwgPQ3f5GIuKORRYhjixNwOSN-oObUy5u9DEk_tPpHzb1y8r3S4uD9X3i_zxY87bNS9n_Q3g2Aqxt4s5Z49739xWvXygXIaCMP4ou_UQdh940wbaZnbhKiLDOeVsJl4It7Vt7WOcQWssE4Wma6jbg0noMVGo5o1VqkZ4UEZJvFWo4UGX7rcjdJH9riN2sSdNTFmUH1vyxbG2u0bAePbUlP2nA9eOlhkkJMZ7B6b_JZwunOHDFpjNC6OkQPwgPcGCFGF6m4BeA0Xnyx-RB2WgDLImX_It7Dyw4n7kbY8ebJV59LRi_5qZgcIUV7vtFdT-gc56Nj8hcWSfB1mRzg1-uUJjFp7iyU9T3IR8J3rU10DAYOnkiIXPNVLNh3xC066NQ8_HI0a36gEI5NEYoZk8VIYc8IXsOM6-wMrr1Pfxd41OwUdavAsPFRbzsGRjfy_ezsIM3-ObbCATCIZWODcw7pWJOXE_krA3BM5t7mv1rZTCF6AGR5Y_2rF2WbIR2nEbdTBHWaZZ0X73Zo7bwKDz3iOkz1FuWIMmBVno67tFNboYJ-7-9ztjE_JGv579gCQXZSGCOVjmjJPEdA2bIyQiFZP2JcOo4PutNWH64S-9foQc2msV.x4C8cWtlHQfjeeVv8C6n3w\"\n",
        "\n",
        "api =  ChatGPT(session)\n",
        "\n",
        "x = api.send_message(\"who are you ?\")\n",
        "st.write(x)\n"
      ],
      "metadata": {
        "colab": {
          "base_uri": "https://localhost:8080/",
          "height": 460
        },
        "id": "iu3h7OUhCR0a",
        "outputId": "50a763b6-4920-4430-b5cf-9ee659973980"
      },
      "execution_count": null,
      "outputs": [
        {
          "output_type": "stream",
          "name": "stderr",
          "text": [
            "DEBUG:pyChatGPT:Starting virtual display...\n"
          ]
        },
        {
          "output_type": "error",
          "ename": "ValueError",
          "evalue": "ignored",
          "traceback": [
            "\u001b[0;31m---------------------------------------------------------------------------\u001b[0m",
            "\u001b[0;31mFileNotFoundError\u001b[0m                         Traceback (most recent call last)",
            "\u001b[0;32m/usr/local/lib/python3.10/dist-packages/pyChatGPT/pyChatGPT.py\u001b[0m in \u001b[0;36m__init_browser\u001b[0;34m(self)\u001b[0m\n\u001b[1;32m    162\u001b[0m \u001b[0;34m\u001b[0m\u001b[0m\n\u001b[0;32m--> 163\u001b[0;31m                 \u001b[0mself\u001b[0m\u001b[0;34m.\u001b[0m\u001b[0mdisplay\u001b[0m \u001b[0;34m=\u001b[0m \u001b[0mDisplay\u001b[0m\u001b[0;34m(\u001b[0m\u001b[0;34m)\u001b[0m\u001b[0;34m\u001b[0m\u001b[0;34m\u001b[0m\u001b[0m\n\u001b[0m\u001b[1;32m    164\u001b[0m             \u001b[0;32mexcept\u001b[0m \u001b[0mModuleNotFoundError\u001b[0m\u001b[0;34m:\u001b[0m\u001b[0;34m\u001b[0m\u001b[0;34m\u001b[0m\u001b[0m\n",
            "\u001b[0;32m/usr/local/lib/python3.10/dist-packages/pyvirtualdisplay/display.py\u001b[0m in \u001b[0;36m__init__\u001b[0;34m(self, backend, visible, size, color_depth, bgcolor, use_xauth, retries, extra_args, manage_global_env, **kwargs)\u001b[0m\n\u001b[1;32m     53\u001b[0m \u001b[0;34m\u001b[0m\u001b[0m\n\u001b[0;32m---> 54\u001b[0;31m         self._obj = cls(\n\u001b[0m\u001b[1;32m     55\u001b[0m             \u001b[0msize\u001b[0m\u001b[0;34m=\u001b[0m\u001b[0msize\u001b[0m\u001b[0;34m,\u001b[0m\u001b[0;34m\u001b[0m\u001b[0;34m\u001b[0m\u001b[0m\n",
            "\u001b[0;32m/usr/local/lib/python3.10/dist-packages/pyvirtualdisplay/xvfb.py\u001b[0m in \u001b[0;36m__init__\u001b[0;34m(self, size, color_depth, bgcolor, use_xauth, fbdir, dpi, retries, extra_args, manage_global_env)\u001b[0m\n\u001b[1;32m     43\u001b[0m \u001b[0;34m\u001b[0m\u001b[0m\n\u001b[0;32m---> 44\u001b[0;31m         AbstractDisplay.__init__(\n\u001b[0m\u001b[1;32m     45\u001b[0m             \u001b[0mself\u001b[0m\u001b[0;34m,\u001b[0m\u001b[0;34m\u001b[0m\u001b[0;34m\u001b[0m\u001b[0m\n",
            "\u001b[0;32m/usr/local/lib/python3.10/dist-packages/pyvirtualdisplay/abstractdisplay.py\u001b[0m in \u001b[0;36m__init__\u001b[0;34m(self, program, use_xauth, retries, extra_args, manage_global_env)\u001b[0m\n\u001b[1;32m     84\u001b[0m \u001b[0;34m\u001b[0m\u001b[0m\n\u001b[0;32m---> 85\u001b[0;31m         \u001b[0mhelptext\u001b[0m \u001b[0;34m=\u001b[0m \u001b[0mget_helptext\u001b[0m\u001b[0;34m(\u001b[0m\u001b[0mprogram\u001b[0m\u001b[0;34m)\u001b[0m\u001b[0;34m\u001b[0m\u001b[0;34m\u001b[0m\u001b[0m\n\u001b[0m\u001b[1;32m     86\u001b[0m         \u001b[0mself\u001b[0m\u001b[0;34m.\u001b[0m\u001b[0m_has_displayfd\u001b[0m \u001b[0;34m=\u001b[0m \u001b[0;34m\"-displayfd\"\u001b[0m \u001b[0;32min\u001b[0m \u001b[0mhelptext\u001b[0m\u001b[0;34m\u001b[0m\u001b[0;34m\u001b[0m\u001b[0m\n",
            "\u001b[0;32m/usr/local/lib/python3.10/dist-packages/pyvirtualdisplay/util.py\u001b[0m in \u001b[0;36mget_helptext\u001b[0;34m(program)\u001b[0m\n\u001b[1;32m     12\u001b[0m     \u001b[0;31m# py3.6 also\u001b[0m\u001b[0;34m\u001b[0m\u001b[0;34m\u001b[0m\u001b[0m\n\u001b[0;32m---> 13\u001b[0;31m     p = subprocess.Popen(\n\u001b[0m\u001b[1;32m     14\u001b[0m         \u001b[0mcmd\u001b[0m\u001b[0;34m,\u001b[0m\u001b[0;34m\u001b[0m\u001b[0;34m\u001b[0m\u001b[0m\n",
            "\u001b[0;32m/usr/lib/python3.10/subprocess.py\u001b[0m in \u001b[0;36m__init__\u001b[0;34m(self, args, bufsize, executable, stdin, stdout, stderr, preexec_fn, close_fds, shell, cwd, env, universal_newlines, startupinfo, creationflags, restore_signals, start_new_session, pass_fds, user, group, extra_groups, encoding, errors, text, umask, pipesize)\u001b[0m\n\u001b[1;32m    970\u001b[0m \u001b[0;34m\u001b[0m\u001b[0m\n\u001b[0;32m--> 971\u001b[0;31m             self._execute_child(args, executable, preexec_fn, close_fds,\n\u001b[0m\u001b[1;32m    972\u001b[0m                                 \u001b[0mpass_fds\u001b[0m\u001b[0;34m,\u001b[0m \u001b[0mcwd\u001b[0m\u001b[0;34m,\u001b[0m \u001b[0menv\u001b[0m\u001b[0;34m,\u001b[0m\u001b[0;34m\u001b[0m\u001b[0;34m\u001b[0m\u001b[0m\n",
            "\u001b[0;32m/usr/lib/python3.10/subprocess.py\u001b[0m in \u001b[0;36m_execute_child\u001b[0;34m(self, args, executable, preexec_fn, close_fds, pass_fds, cwd, env, startupinfo, creationflags, shell, p2cread, p2cwrite, c2pread, c2pwrite, errread, errwrite, restore_signals, gid, gids, uid, umask, start_new_session)\u001b[0m\n\u001b[1;32m   1862\u001b[0m                         \u001b[0merr_msg\u001b[0m \u001b[0;34m=\u001b[0m \u001b[0mos\u001b[0m\u001b[0;34m.\u001b[0m\u001b[0mstrerror\u001b[0m\u001b[0;34m(\u001b[0m\u001b[0merrno_num\u001b[0m\u001b[0;34m)\u001b[0m\u001b[0;34m\u001b[0m\u001b[0;34m\u001b[0m\u001b[0m\n\u001b[0;32m-> 1863\u001b[0;31m                     \u001b[0;32mraise\u001b[0m \u001b[0mchild_exception_type\u001b[0m\u001b[0;34m(\u001b[0m\u001b[0merrno_num\u001b[0m\u001b[0;34m,\u001b[0m \u001b[0merr_msg\u001b[0m\u001b[0;34m,\u001b[0m \u001b[0merr_filename\u001b[0m\u001b[0;34m)\u001b[0m\u001b[0;34m\u001b[0m\u001b[0;34m\u001b[0m\u001b[0m\n\u001b[0m\u001b[1;32m   1864\u001b[0m                 \u001b[0;32mraise\u001b[0m \u001b[0mchild_exception_type\u001b[0m\u001b[0;34m(\u001b[0m\u001b[0merr_msg\u001b[0m\u001b[0;34m)\u001b[0m\u001b[0;34m\u001b[0m\u001b[0;34m\u001b[0m\u001b[0m\n",
            "\u001b[0;31mFileNotFoundError\u001b[0m: [Errno 2] No such file or directory: 'Xvfb'",
            "\nDuring handling of the above exception, another exception occurred:\n",
            "\u001b[0;31mValueError\u001b[0m                                Traceback (most recent call last)",
            "\u001b[0;32m<ipython-input-8-8d54ab8c71d6>\u001b[0m in \u001b[0;36m<cell line: 8>\u001b[0;34m()\u001b[0m\n\u001b[1;32m      6\u001b[0m \u001b[0;31m## session=  \"eyJhbGciOiJkaXIiLCJlbmMiOiJBMjU2R0NNIn0..CNzCgxFN2rbBJpHa.oUPFXW8c5GhClaNOKAVvuA-PQWXEZGLphnjG9XJnzjVxTD6tYNVCucK4SLy6oN1sFg-XtMYMn6amo-7xEuon9O2hZeG1xRJqiucMSFiXpCqXsVoJsNw4cstMBzeyYYCDZbaqOvR9Vfx6A1alBC7xdU13X2UyvAMj_ZryVpk2QxwLC3pJ1lQHxX8eN-tm6LhgnhIZMICqvLaFLvb56XsyseDoOsre63CoKQz5QnnIyMaw-9eXU99qMuQCv-bh17uabqiYO2gY7_sGHQqqTXtu4JBXj452-vj1elSwt3YWi0q-XWBJ2Plu2JFbc2FGKre4homtXNO9MCMFj5GYsjvqgao0-vQitoy2vyV3qLF6saliU8lE36EtLlmvErfI4azLhWkW5myLd-fKyMjII3D2zlxp15n9B_1hyAdV7Cfok-hGNNtnxe0SePD4gIcN5X3kBs-8jEjdrhaaqtT5q-9y0kuRxKY1_ZZD9_TRiaL_POhw9ccVpek0ArKayhNsr8ai1RA483qiKXX8vW-dXqOE2DVSviP1VYl99mf3RDVWLbZpxQKdPUGlg1CCQxY4BFllN7Efo8KBa_vpNp30E8VZr75wMS7diTyE0m1eXtPIrIvpM4Yt93fW05Iqk29dgNw2psXj8HUb19gXPk1U6SZsVZI9bZ6F_CCGFnxyNvJrBB4hH4TC62IsLthrp315EzPqaCoEdhvGQG1kQZAKFpPWRKWjidPVpRFo3ur2t7s6yEqCc4njPh7e7FE0vOJCsAZJBy8GrF1-mC1QYAXH-4EY9uv1EgMpIZmX69aKEDngm-XQh75zJQfJIvSNynNgAV3jsRBr7sWXMgG_1EUH70eV7nMtzD0Y2KHWp37QyKbMLqQstPUP6JAoxuGNExrN5OGn7yUEElhcVvgm20YvUUA9McQwrxpxIvj-djLdWwWnfvMeF2fthhg6zmt8P9jXhRyV36gbubjZGC3oGgJcis9aHKj8oe80qUTpidwmHEwxRFMKyYyXHTm4J7BZ-T8L-LkSoQy6lVkYO3KafPgu3p93riVaXfIBOnQ4uO61glYFl_UWqO7LYET2j222P6Br7_VGJTgoFpYHlqiqqjOWUbYwKplY-aX9YuapjB7mAaRE-JFJ7JNfRuEz-zGWeLBwVlfwyL6VveaH-oH0MgTD6As9QjLX2D7u8mmBqtAfS4X8O8ccvVXusUjH_VlWy_XbTJEusocAOyi4vm_sjXbIyT2UQDEGjgNUKx2fOx1jgFN3hDlWGUGF67y4cLqWeWy2e6qRadhButUb1YyLyQAQS0vyh8oh0wbSjnB4dX4r__33mRboyE85ChKzaEA17XYK8gsftuHZLB-2MsoLjyJek1HEOpX2jooIuTpGrxqvrYJll-IGbuqmdMA_bKZ...\n\u001b[1;32m      7\u001b[0m \u001b[0;34m\u001b[0m\u001b[0m\n\u001b[0;32m----> 8\u001b[0;31m \u001b[0mapi\u001b[0m \u001b[0;34m=\u001b[0m  \u001b[0mChatGPT\u001b[0m\u001b[0;34m(\u001b[0m\u001b[0msession\u001b[0m\u001b[0;34m)\u001b[0m\u001b[0;34m\u001b[0m\u001b[0;34m\u001b[0m\u001b[0m\n\u001b[0m\u001b[1;32m      9\u001b[0m \u001b[0;34m\u001b[0m\u001b[0m\n\u001b[1;32m     10\u001b[0m \u001b[0mx\u001b[0m \u001b[0;34m=\u001b[0m \u001b[0mapi\u001b[0m\u001b[0;34m.\u001b[0m\u001b[0msend_message\u001b[0m\u001b[0;34m(\u001b[0m\u001b[0;34m\"who are you ?\"\u001b[0m\u001b[0;34m)\u001b[0m\u001b[0;34m\u001b[0m\u001b[0;34m\u001b[0m\u001b[0m\n",
            "\u001b[0;32m/usr/local/lib/python3.10/dist-packages/pyChatGPT/pyChatGPT.py\u001b[0m in \u001b[0;36m__init__\u001b[0;34m(self, session_token, conversation_id, auth_type, email, password, login_cookies_path, captcha_solver, solver_apikey, proxy, chrome_args, moderation, verbose)\u001b[0m\n\u001b[1;32m    124\u001b[0m             \u001b[0mos\u001b[0m\u001b[0;34m.\u001b[0m\u001b[0menviron\u001b[0m\u001b[0;34m[\u001b[0m\u001b[0;34m'PATH'\u001b[0m\u001b[0;34m]\u001b[0m \u001b[0;34m+=\u001b[0m \u001b[0mos\u001b[0m\u001b[0;34m.\u001b[0m\u001b[0mpathsep\u001b[0m \u001b[0;34m+\u001b[0m \u001b[0mffdl\u001b[0m\u001b[0;34m.\u001b[0m\u001b[0mffmpeg_dir\u001b[0m\u001b[0;34m\u001b[0m\u001b[0;34m\u001b[0m\u001b[0m\n\u001b[1;32m    125\u001b[0m \u001b[0;34m\u001b[0m\u001b[0m\n\u001b[0;32m--> 126\u001b[0;31m         \u001b[0mself\u001b[0m\u001b[0;34m.\u001b[0m\u001b[0m__init_browser\u001b[0m\u001b[0;34m(\u001b[0m\u001b[0;34m)\u001b[0m\u001b[0;34m\u001b[0m\u001b[0;34m\u001b[0m\u001b[0m\n\u001b[0m\u001b[1;32m    127\u001b[0m         \u001b[0mweakref\u001b[0m\u001b[0;34m.\u001b[0m\u001b[0mfinalize\u001b[0m\u001b[0;34m(\u001b[0m\u001b[0mself\u001b[0m\u001b[0;34m,\u001b[0m \u001b[0mself\u001b[0m\u001b[0;34m.\u001b[0m\u001b[0m__del__\u001b[0m\u001b[0;34m)\u001b[0m\u001b[0;34m\u001b[0m\u001b[0;34m\u001b[0m\u001b[0m\n\u001b[1;32m    128\u001b[0m \u001b[0;34m\u001b[0m\u001b[0m\n",
            "\u001b[0;32m/usr/local/lib/python3.10/dist-packages/pyChatGPT/pyChatGPT.py\u001b[0m in \u001b[0;36m__init_browser\u001b[0;34m(self)\u001b[0m\n\u001b[1;32m    168\u001b[0m             \u001b[0;32mexcept\u001b[0m \u001b[0mFileNotFoundError\u001b[0m \u001b[0;32mas\u001b[0m \u001b[0me\u001b[0m\u001b[0;34m:\u001b[0m\u001b[0;34m\u001b[0m\u001b[0;34m\u001b[0m\u001b[0m\n\u001b[1;32m    169\u001b[0m                 \u001b[0;32mif\u001b[0m \u001b[0;34m'No such file or directory: \\'Xvfb\\''\u001b[0m \u001b[0;32min\u001b[0m \u001b[0mstr\u001b[0m\u001b[0;34m(\u001b[0m\u001b[0me\u001b[0m\u001b[0;34m)\u001b[0m\u001b[0;34m:\u001b[0m\u001b[0;34m\u001b[0m\u001b[0;34m\u001b[0m\u001b[0m\n\u001b[0;32m--> 170\u001b[0;31m                     raise ValueError(\n\u001b[0m\u001b[1;32m    171\u001b[0m                         \u001b[0;34m'Please install Xvfb to start a virtual display by running `sudo apt install xvfb`'\u001b[0m\u001b[0;34m\u001b[0m\u001b[0;34m\u001b[0m\u001b[0m\n\u001b[1;32m    172\u001b[0m                     )\n",
            "\u001b[0;31mValueError\u001b[0m: Please install Xvfb to start a virtual display by running `sudo apt install xvfb`"
          ]
        }
      ]
    },
    {
      "cell_type": "code",
      "source": [
        "pip install pyvirtualdisplay"
      ],
      "metadata": {
        "colab": {
          "base_uri": "https://localhost:8080/"
        },
        "id": "lse2CRI3Zwb6",
        "outputId": "a6b3e596-e1fd-4162-c7ae-f88b151a9dd1"
      },
      "execution_count": null,
      "outputs": [
        {
          "output_type": "stream",
          "name": "stdout",
          "text": [
            "Requirement already satisfied: pyvirtualdisplay in /usr/local/lib/python3.10/dist-packages (3.0)\n"
          ]
        }
      ]
    },
    {
      "cell_type": "code",
      "source": [
        "pip install PyVirtualDisplay"
      ],
      "metadata": {
        "colab": {
          "base_uri": "https://localhost:8080/"
        },
        "id": "AcvyeEjKDOQb",
        "outputId": "0a43a68f-9cf3-478a-d2af-2b5884561e71"
      },
      "execution_count": null,
      "outputs": [
        {
          "output_type": "stream",
          "name": "stdout",
          "text": [
            "Requirement already satisfied: PyVirtualDisplay in /usr/local/lib/python3.10/dist-packages (3.0)\n"
          ]
        }
      ]
    },
    {
      "cell_type": "code",
      "source": [
        "pip install databutton"
      ],
      "metadata": {
        "colab": {
          "base_uri": "https://localhost:8080/"
        },
        "id": "KieMx-Q-Bjap",
        "outputId": "26847825-198b-4724-a862-f44aef2f2cac"
      },
      "execution_count": null,
      "outputs": [
        {
          "output_type": "stream",
          "name": "stdout",
          "text": [
            "Requirement already satisfied: databutton in /usr/local/lib/python3.10/dist-packages (0.36.7)\n",
            "Requirement already satisfied: PyJWT<3.0.0,>=2.2.0 in /usr/lib/python3/dist-packages (from databutton) (2.3.0)\n",
            "Requirement already satisfied: PyYAML<7.0,>=6.0 in /usr/local/lib/python3.10/dist-packages (from databutton) (6.0.1)\n",
            "Requirement already satisfied: certifi<2023.0.0,>=2022.12.7 in /usr/local/lib/python3.10/dist-packages (from databutton) (2022.12.7)\n",
            "Requirement already satisfied: cryptography<41.0.0,>=40.0.1 in /usr/local/lib/python3.10/dist-packages (from databutton) (40.0.2)\n",
            "Requirement already satisfied: httpx<1,>=0.20.0 in /usr/local/lib/python3.10/dist-packages (from databutton) (0.25.2)\n",
            "Requirement already satisfied: pandas<3,>=0.25 in /usr/local/lib/python3.10/dist-packages (from databutton) (1.5.3)\n",
            "Requirement already satisfied: pydantic<2.0.0,>=1.8.0 in /usr/local/lib/python3.10/dist-packages (from databutton) (1.10.13)\n",
            "Requirement already satisfied: streamlit<2.0.0,>=1.20.0 in /usr/local/lib/python3.10/dist-packages (from databutton) (1.29.0)\n",
            "Requirement already satisfied: tenacity<9.0.0,>=8.0.0 in /usr/local/lib/python3.10/dist-packages (from databutton) (8.2.3)\n",
            "Requirement already satisfied: cffi>=1.12 in /usr/local/lib/python3.10/dist-packages (from cryptography<41.0.0,>=40.0.1->databutton) (1.16.0)\n",
            "Requirement already satisfied: anyio in /usr/local/lib/python3.10/dist-packages (from httpx<1,>=0.20.0->databutton) (3.7.1)\n",
            "Requirement already satisfied: httpcore==1.* in /usr/local/lib/python3.10/dist-packages (from httpx<1,>=0.20.0->databutton) (1.0.2)\n",
            "Requirement already satisfied: idna in /usr/local/lib/python3.10/dist-packages (from httpx<1,>=0.20.0->databutton) (3.6)\n",
            "Requirement already satisfied: sniffio in /usr/local/lib/python3.10/dist-packages (from httpx<1,>=0.20.0->databutton) (1.3.0)\n",
            "Requirement already satisfied: h11<0.15,>=0.13 in /usr/local/lib/python3.10/dist-packages (from httpcore==1.*->httpx<1,>=0.20.0->databutton) (0.14.0)\n",
            "Requirement already satisfied: python-dateutil>=2.8.1 in /usr/local/lib/python3.10/dist-packages (from pandas<3,>=0.25->databutton) (2.8.2)\n",
            "Requirement already satisfied: pytz>=2020.1 in /usr/local/lib/python3.10/dist-packages (from pandas<3,>=0.25->databutton) (2023.3.post1)\n",
            "Requirement already satisfied: numpy>=1.21.0 in /usr/local/lib/python3.10/dist-packages (from pandas<3,>=0.25->databutton) (1.23.5)\n",
            "Requirement already satisfied: typing-extensions>=4.2.0 in /usr/local/lib/python3.10/dist-packages (from pydantic<2.0.0,>=1.8.0->databutton) (4.5.0)\n",
            "Requirement already satisfied: altair<6,>=4.0 in /usr/local/lib/python3.10/dist-packages (from streamlit<2.0.0,>=1.20.0->databutton) (4.2.2)\n",
            "Requirement already satisfied: blinker<2,>=1.0.0 in /usr/lib/python3/dist-packages (from streamlit<2.0.0,>=1.20.0->databutton) (1.4)\n",
            "Requirement already satisfied: cachetools<6,>=4.0 in /usr/local/lib/python3.10/dist-packages (from streamlit<2.0.0,>=1.20.0->databutton) (5.3.2)\n",
            "Requirement already satisfied: click<9,>=7.0 in /usr/local/lib/python3.10/dist-packages (from streamlit<2.0.0,>=1.20.0->databutton) (8.1.7)\n",
            "Requirement already satisfied: importlib-metadata<7,>=1.4 in /usr/local/lib/python3.10/dist-packages (from streamlit<2.0.0,>=1.20.0->databutton) (6.11.0)\n",
            "Requirement already satisfied: packaging<24,>=16.8 in /usr/local/lib/python3.10/dist-packages (from streamlit<2.0.0,>=1.20.0->databutton) (23.2)\n",
            "Requirement already satisfied: pillow<11,>=7.1.0 in /usr/local/lib/python3.10/dist-packages (from streamlit<2.0.0,>=1.20.0->databutton) (9.4.0)\n",
            "Requirement already satisfied: protobuf<5,>=3.20 in /usr/local/lib/python3.10/dist-packages (from streamlit<2.0.0,>=1.20.0->databutton) (3.20.3)\n",
            "Requirement already satisfied: pyarrow>=6.0 in /usr/local/lib/python3.10/dist-packages (from streamlit<2.0.0,>=1.20.0->databutton) (10.0.1)\n",
            "Requirement already satisfied: requests<3,>=2.27 in /usr/local/lib/python3.10/dist-packages (from streamlit<2.0.0,>=1.20.0->databutton) (2.31.0)\n",
            "Requirement already satisfied: rich<14,>=10.14.0 in /usr/local/lib/python3.10/dist-packages (from streamlit<2.0.0,>=1.20.0->databutton) (13.7.0)\n",
            "Requirement already satisfied: toml<2,>=0.10.1 in /usr/local/lib/python3.10/dist-packages (from streamlit<2.0.0,>=1.20.0->databutton) (0.10.2)\n",
            "Requirement already satisfied: tzlocal<6,>=1.1 in /usr/local/lib/python3.10/dist-packages (from streamlit<2.0.0,>=1.20.0->databutton) (5.2)\n",
            "Requirement already satisfied: validators<1,>=0.2 in /usr/local/lib/python3.10/dist-packages (from streamlit<2.0.0,>=1.20.0->databutton) (0.22.0)\n",
            "Requirement already satisfied: gitpython!=3.1.19,<4,>=3.0.7 in /usr/local/lib/python3.10/dist-packages (from streamlit<2.0.0,>=1.20.0->databutton) (3.1.40)\n",
            "Requirement already satisfied: pydeck<1,>=0.8.0b4 in /usr/local/lib/python3.10/dist-packages (from streamlit<2.0.0,>=1.20.0->databutton) (0.8.1b0)\n",
            "Requirement already satisfied: tornado<7,>=6.0.3 in /usr/local/lib/python3.10/dist-packages (from streamlit<2.0.0,>=1.20.0->databutton) (6.3.2)\n",
            "Requirement already satisfied: watchdog>=2.1.5 in /usr/local/lib/python3.10/dist-packages (from streamlit<2.0.0,>=1.20.0->databutton) (3.0.0)\n",
            "Requirement already satisfied: entrypoints in /usr/local/lib/python3.10/dist-packages (from altair<6,>=4.0->streamlit<2.0.0,>=1.20.0->databutton) (0.4)\n",
            "Requirement already satisfied: jinja2 in /usr/local/lib/python3.10/dist-packages (from altair<6,>=4.0->streamlit<2.0.0,>=1.20.0->databutton) (3.1.2)\n",
            "Requirement already satisfied: jsonschema>=3.0 in /usr/local/lib/python3.10/dist-packages (from altair<6,>=4.0->streamlit<2.0.0,>=1.20.0->databutton) (4.19.2)\n",
            "Requirement already satisfied: toolz in /usr/local/lib/python3.10/dist-packages (from altair<6,>=4.0->streamlit<2.0.0,>=1.20.0->databutton) (0.12.0)\n",
            "Requirement already satisfied: pycparser in /usr/local/lib/python3.10/dist-packages (from cffi>=1.12->cryptography<41.0.0,>=40.0.1->databutton) (2.21)\n",
            "Requirement already satisfied: gitdb<5,>=4.0.1 in /usr/local/lib/python3.10/dist-packages (from gitpython!=3.1.19,<4,>=3.0.7->streamlit<2.0.0,>=1.20.0->databutton) (4.0.11)\n",
            "Requirement already satisfied: zipp>=0.5 in /usr/local/lib/python3.10/dist-packages (from importlib-metadata<7,>=1.4->streamlit<2.0.0,>=1.20.0->databutton) (3.17.0)\n",
            "Requirement already satisfied: six>=1.5 in /usr/local/lib/python3.10/dist-packages (from python-dateutil>=2.8.1->pandas<3,>=0.25->databutton) (1.16.0)\n",
            "Requirement already satisfied: charset-normalizer<4,>=2 in /usr/local/lib/python3.10/dist-packages (from requests<3,>=2.27->streamlit<2.0.0,>=1.20.0->databutton) (3.3.2)\n",
            "Requirement already satisfied: urllib3<3,>=1.21.1 in /usr/local/lib/python3.10/dist-packages (from requests<3,>=2.27->streamlit<2.0.0,>=1.20.0->databutton) (2.0.7)\n",
            "Requirement already satisfied: markdown-it-py>=2.2.0 in /usr/local/lib/python3.10/dist-packages (from rich<14,>=10.14.0->streamlit<2.0.0,>=1.20.0->databutton) (3.0.0)\n",
            "Requirement already satisfied: pygments<3.0.0,>=2.13.0 in /usr/local/lib/python3.10/dist-packages (from rich<14,>=10.14.0->streamlit<2.0.0,>=1.20.0->databutton) (2.16.1)\n",
            "Requirement already satisfied: exceptiongroup in /usr/local/lib/python3.10/dist-packages (from anyio->httpx<1,>=0.20.0->databutton) (1.2.0)\n",
            "Requirement already satisfied: smmap<6,>=3.0.1 in /usr/local/lib/python3.10/dist-packages (from gitdb<5,>=4.0.1->gitpython!=3.1.19,<4,>=3.0.7->streamlit<2.0.0,>=1.20.0->databutton) (5.0.1)\n",
            "Requirement already satisfied: MarkupSafe>=2.0 in /usr/local/lib/python3.10/dist-packages (from jinja2->altair<6,>=4.0->streamlit<2.0.0,>=1.20.0->databutton) (2.1.3)\n",
            "Requirement already satisfied: attrs>=22.2.0 in /usr/local/lib/python3.10/dist-packages (from jsonschema>=3.0->altair<6,>=4.0->streamlit<2.0.0,>=1.20.0->databutton) (23.1.0)\n",
            "Requirement already satisfied: jsonschema-specifications>=2023.03.6 in /usr/local/lib/python3.10/dist-packages (from jsonschema>=3.0->altair<6,>=4.0->streamlit<2.0.0,>=1.20.0->databutton) (2023.11.2)\n",
            "Requirement already satisfied: referencing>=0.28.4 in /usr/local/lib/python3.10/dist-packages (from jsonschema>=3.0->altair<6,>=4.0->streamlit<2.0.0,>=1.20.0->databutton) (0.32.0)\n",
            "Requirement already satisfied: rpds-py>=0.7.1 in /usr/local/lib/python3.10/dist-packages (from jsonschema>=3.0->altair<6,>=4.0->streamlit<2.0.0,>=1.20.0->databutton) (0.13.2)\n",
            "Requirement already satisfied: mdurl~=0.1 in /usr/local/lib/python3.10/dist-packages (from markdown-it-py>=2.2.0->rich<14,>=10.14.0->streamlit<2.0.0,>=1.20.0->databutton) (0.1.2)\n"
          ]
        }
      ]
    },
    {
      "cell_type": "code",
      "source": [
        "pip install databutton"
      ],
      "metadata": {
        "colab": {
          "base_uri": "https://localhost:8080/"
        },
        "id": "T6e8AWs8uq98",
        "outputId": "1d8f4916-d502-4ac5-b6db-751ade0a92f5"
      },
      "execution_count": null,
      "outputs": [
        {
          "output_type": "stream",
          "name": "stdout",
          "text": [
            "Requirement already satisfied: databutton in /usr/local/lib/python3.10/dist-packages (0.36.7)\n",
            "Requirement already satisfied: PyJWT<3.0.0,>=2.2.0 in /usr/lib/python3/dist-packages (from databutton) (2.3.0)\n",
            "Requirement already satisfied: PyYAML<7.0,>=6.0 in /usr/local/lib/python3.10/dist-packages (from databutton) (6.0.1)\n",
            "Requirement already satisfied: certifi<2023.0.0,>=2022.12.7 in /usr/local/lib/python3.10/dist-packages (from databutton) (2022.12.7)\n",
            "Requirement already satisfied: cryptography<41.0.0,>=40.0.1 in /usr/local/lib/python3.10/dist-packages (from databutton) (40.0.2)\n",
            "Requirement already satisfied: httpx<1,>=0.20.0 in /usr/local/lib/python3.10/dist-packages (from databutton) (0.25.2)\n",
            "Requirement already satisfied: pandas<3,>=0.25 in /usr/local/lib/python3.10/dist-packages (from databutton) (1.5.3)\n",
            "Requirement already satisfied: pydantic<2.0.0,>=1.8.0 in /usr/local/lib/python3.10/dist-packages (from databutton) (1.10.13)\n",
            "Requirement already satisfied: streamlit<2.0.0,>=1.20.0 in /usr/local/lib/python3.10/dist-packages (from databutton) (1.29.0)\n",
            "Requirement already satisfied: tenacity<9.0.0,>=8.0.0 in /usr/local/lib/python3.10/dist-packages (from databutton) (8.2.3)\n",
            "Requirement already satisfied: cffi>=1.12 in /usr/local/lib/python3.10/dist-packages (from cryptography<41.0.0,>=40.0.1->databutton) (1.16.0)\n",
            "Requirement already satisfied: anyio in /usr/local/lib/python3.10/dist-packages (from httpx<1,>=0.20.0->databutton) (3.7.1)\n",
            "Requirement already satisfied: httpcore==1.* in /usr/local/lib/python3.10/dist-packages (from httpx<1,>=0.20.0->databutton) (1.0.2)\n",
            "Requirement already satisfied: idna in /usr/local/lib/python3.10/dist-packages (from httpx<1,>=0.20.0->databutton) (3.6)\n",
            "Requirement already satisfied: sniffio in /usr/local/lib/python3.10/dist-packages (from httpx<1,>=0.20.0->databutton) (1.3.0)\n",
            "Requirement already satisfied: h11<0.15,>=0.13 in /usr/local/lib/python3.10/dist-packages (from httpcore==1.*->httpx<1,>=0.20.0->databutton) (0.14.0)\n",
            "Requirement already satisfied: python-dateutil>=2.8.1 in /usr/local/lib/python3.10/dist-packages (from pandas<3,>=0.25->databutton) (2.8.2)\n",
            "Requirement already satisfied: pytz>=2020.1 in /usr/local/lib/python3.10/dist-packages (from pandas<3,>=0.25->databutton) (2023.3.post1)\n",
            "Requirement already satisfied: numpy>=1.21.0 in /usr/local/lib/python3.10/dist-packages (from pandas<3,>=0.25->databutton) (1.23.5)\n",
            "Requirement already satisfied: typing-extensions>=4.2.0 in /usr/local/lib/python3.10/dist-packages (from pydantic<2.0.0,>=1.8.0->databutton) (4.5.0)\n",
            "Requirement already satisfied: altair<6,>=4.0 in /usr/local/lib/python3.10/dist-packages (from streamlit<2.0.0,>=1.20.0->databutton) (4.2.2)\n",
            "Requirement already satisfied: blinker<2,>=1.0.0 in /usr/lib/python3/dist-packages (from streamlit<2.0.0,>=1.20.0->databutton) (1.4)\n",
            "Requirement already satisfied: cachetools<6,>=4.0 in /usr/local/lib/python3.10/dist-packages (from streamlit<2.0.0,>=1.20.0->databutton) (5.3.2)\n",
            "Requirement already satisfied: click<9,>=7.0 in /usr/local/lib/python3.10/dist-packages (from streamlit<2.0.0,>=1.20.0->databutton) (8.1.7)\n",
            "Requirement already satisfied: importlib-metadata<7,>=1.4 in /usr/local/lib/python3.10/dist-packages (from streamlit<2.0.0,>=1.20.0->databutton) (6.11.0)\n",
            "Requirement already satisfied: packaging<24,>=16.8 in /usr/local/lib/python3.10/dist-packages (from streamlit<2.0.0,>=1.20.0->databutton) (23.2)\n",
            "Requirement already satisfied: pillow<11,>=7.1.0 in /usr/local/lib/python3.10/dist-packages (from streamlit<2.0.0,>=1.20.0->databutton) (9.4.0)\n",
            "Requirement already satisfied: protobuf<5,>=3.20 in /usr/local/lib/python3.10/dist-packages (from streamlit<2.0.0,>=1.20.0->databutton) (3.20.3)\n",
            "Requirement already satisfied: pyarrow>=6.0 in /usr/local/lib/python3.10/dist-packages (from streamlit<2.0.0,>=1.20.0->databutton) (10.0.1)\n",
            "Requirement already satisfied: requests<3,>=2.27 in /usr/local/lib/python3.10/dist-packages (from streamlit<2.0.0,>=1.20.0->databutton) (2.31.0)\n",
            "Requirement already satisfied: rich<14,>=10.14.0 in /usr/local/lib/python3.10/dist-packages (from streamlit<2.0.0,>=1.20.0->databutton) (13.7.0)\n",
            "Requirement already satisfied: toml<2,>=0.10.1 in /usr/local/lib/python3.10/dist-packages (from streamlit<2.0.0,>=1.20.0->databutton) (0.10.2)\n",
            "Requirement already satisfied: tzlocal<6,>=1.1 in /usr/local/lib/python3.10/dist-packages (from streamlit<2.0.0,>=1.20.0->databutton) (5.2)\n",
            "Requirement already satisfied: validators<1,>=0.2 in /usr/local/lib/python3.10/dist-packages (from streamlit<2.0.0,>=1.20.0->databutton) (0.22.0)\n",
            "Requirement already satisfied: gitpython!=3.1.19,<4,>=3.0.7 in /usr/local/lib/python3.10/dist-packages (from streamlit<2.0.0,>=1.20.0->databutton) (3.1.40)\n",
            "Requirement already satisfied: pydeck<1,>=0.8.0b4 in /usr/local/lib/python3.10/dist-packages (from streamlit<2.0.0,>=1.20.0->databutton) (0.8.1b0)\n",
            "Requirement already satisfied: tornado<7,>=6.0.3 in /usr/local/lib/python3.10/dist-packages (from streamlit<2.0.0,>=1.20.0->databutton) (6.3.2)\n",
            "Requirement already satisfied: watchdog>=2.1.5 in /usr/local/lib/python3.10/dist-packages (from streamlit<2.0.0,>=1.20.0->databutton) (3.0.0)\n",
            "Requirement already satisfied: entrypoints in /usr/local/lib/python3.10/dist-packages (from altair<6,>=4.0->streamlit<2.0.0,>=1.20.0->databutton) (0.4)\n",
            "Requirement already satisfied: jinja2 in /usr/local/lib/python3.10/dist-packages (from altair<6,>=4.0->streamlit<2.0.0,>=1.20.0->databutton) (3.1.2)\n",
            "Requirement already satisfied: jsonschema>=3.0 in /usr/local/lib/python3.10/dist-packages (from altair<6,>=4.0->streamlit<2.0.0,>=1.20.0->databutton) (4.19.2)\n",
            "Requirement already satisfied: toolz in /usr/local/lib/python3.10/dist-packages (from altair<6,>=4.0->streamlit<2.0.0,>=1.20.0->databutton) (0.12.0)\n",
            "Requirement already satisfied: pycparser in /usr/local/lib/python3.10/dist-packages (from cffi>=1.12->cryptography<41.0.0,>=40.0.1->databutton) (2.21)\n",
            "Requirement already satisfied: gitdb<5,>=4.0.1 in /usr/local/lib/python3.10/dist-packages (from gitpython!=3.1.19,<4,>=3.0.7->streamlit<2.0.0,>=1.20.0->databutton) (4.0.11)\n",
            "Requirement already satisfied: zipp>=0.5 in /usr/local/lib/python3.10/dist-packages (from importlib-metadata<7,>=1.4->streamlit<2.0.0,>=1.20.0->databutton) (3.17.0)\n",
            "Requirement already satisfied: six>=1.5 in /usr/local/lib/python3.10/dist-packages (from python-dateutil>=2.8.1->pandas<3,>=0.25->databutton) (1.16.0)\n",
            "Requirement already satisfied: charset-normalizer<4,>=2 in /usr/local/lib/python3.10/dist-packages (from requests<3,>=2.27->streamlit<2.0.0,>=1.20.0->databutton) (3.3.2)\n",
            "Requirement already satisfied: urllib3<3,>=1.21.1 in /usr/local/lib/python3.10/dist-packages (from requests<3,>=2.27->streamlit<2.0.0,>=1.20.0->databutton) (2.0.7)\n",
            "Requirement already satisfied: markdown-it-py>=2.2.0 in /usr/local/lib/python3.10/dist-packages (from rich<14,>=10.14.0->streamlit<2.0.0,>=1.20.0->databutton) (3.0.0)\n",
            "Requirement already satisfied: pygments<3.0.0,>=2.13.0 in /usr/local/lib/python3.10/dist-packages (from rich<14,>=10.14.0->streamlit<2.0.0,>=1.20.0->databutton) (2.16.1)\n",
            "Requirement already satisfied: exceptiongroup in /usr/local/lib/python3.10/dist-packages (from anyio->httpx<1,>=0.20.0->databutton) (1.2.0)\n",
            "Requirement already satisfied: smmap<6,>=3.0.1 in /usr/local/lib/python3.10/dist-packages (from gitdb<5,>=4.0.1->gitpython!=3.1.19,<4,>=3.0.7->streamlit<2.0.0,>=1.20.0->databutton) (5.0.1)\n",
            "Requirement already satisfied: MarkupSafe>=2.0 in /usr/local/lib/python3.10/dist-packages (from jinja2->altair<6,>=4.0->streamlit<2.0.0,>=1.20.0->databutton) (2.1.3)\n",
            "Requirement already satisfied: attrs>=22.2.0 in /usr/local/lib/python3.10/dist-packages (from jsonschema>=3.0->altair<6,>=4.0->streamlit<2.0.0,>=1.20.0->databutton) (23.1.0)\n",
            "Requirement already satisfied: jsonschema-specifications>=2023.03.6 in /usr/local/lib/python3.10/dist-packages (from jsonschema>=3.0->altair<6,>=4.0->streamlit<2.0.0,>=1.20.0->databutton) (2023.11.2)\n",
            "Requirement already satisfied: referencing>=0.28.4 in /usr/local/lib/python3.10/dist-packages (from jsonschema>=3.0->altair<6,>=4.0->streamlit<2.0.0,>=1.20.0->databutton) (0.32.0)\n",
            "Requirement already satisfied: rpds-py>=0.7.1 in /usr/local/lib/python3.10/dist-packages (from jsonschema>=3.0->altair<6,>=4.0->streamlit<2.0.0,>=1.20.0->databutton) (0.13.2)\n",
            "Requirement already satisfied: mdurl~=0.1 in /usr/local/lib/python3.10/dist-packages (from markdown-it-py>=2.2.0->rich<14,>=10.14.0->streamlit<2.0.0,>=1.20.0->databutton) (0.1.2)\n"
          ]
        }
      ]
    },
    {
      "cell_type": "code",
      "source": [
        " pip install pyChatGPT"
      ],
      "metadata": {
        "colab": {
          "base_uri": "https://localhost:8080/"
        },
        "id": "1yF0krz8u3kg",
        "outputId": "a240bf43-fbf1-43f1-8525-0e487b8916db"
      },
      "execution_count": null,
      "outputs": [
        {
          "output_type": "stream",
          "name": "stdout",
          "text": [
            "Requirement already satisfied: pyChatGPT in /usr/local/lib/python3.10/dist-packages (0.4.3.3)\n",
            "Requirement already satisfied: undetected-chromedriver>=3.2.1 in /usr/local/lib/python3.10/dist-packages (from pyChatGPT) (3.5.4)\n",
            "Requirement already satisfied: markdownify>=0.11.6 in /usr/local/lib/python3.10/dist-packages (from pyChatGPT) (0.11.6)\n",
            "Requirement already satisfied: beautifulsoup4<5,>=4.9 in /usr/local/lib/python3.10/dist-packages (from markdownify>=0.11.6->pyChatGPT) (4.11.2)\n",
            "Requirement already satisfied: six<2,>=1.15 in /usr/local/lib/python3.10/dist-packages (from markdownify>=0.11.6->pyChatGPT) (1.16.0)\n",
            "Requirement already satisfied: selenium>=4.9.0 in /usr/local/lib/python3.10/dist-packages (from undetected-chromedriver>=3.2.1->pyChatGPT) (4.16.0)\n",
            "Requirement already satisfied: requests in /usr/local/lib/python3.10/dist-packages (from undetected-chromedriver>=3.2.1->pyChatGPT) (2.31.0)\n",
            "Requirement already satisfied: websockets in /usr/local/lib/python3.10/dist-packages (from undetected-chromedriver>=3.2.1->pyChatGPT) (12.0)\n",
            "Requirement already satisfied: soupsieve>1.2 in /usr/local/lib/python3.10/dist-packages (from beautifulsoup4<5,>=4.9->markdownify>=0.11.6->pyChatGPT) (2.5)\n",
            "Requirement already satisfied: urllib3[socks]<3,>=1.26 in /usr/local/lib/python3.10/dist-packages (from selenium>=4.9.0->undetected-chromedriver>=3.2.1->pyChatGPT) (2.0.7)\n",
            "Requirement already satisfied: trio~=0.17 in /usr/local/lib/python3.10/dist-packages (from selenium>=4.9.0->undetected-chromedriver>=3.2.1->pyChatGPT) (0.23.2)\n",
            "Requirement already satisfied: trio-websocket~=0.9 in /usr/local/lib/python3.10/dist-packages (from selenium>=4.9.0->undetected-chromedriver>=3.2.1->pyChatGPT) (0.11.1)\n",
            "Requirement already satisfied: certifi>=2021.10.8 in /usr/local/lib/python3.10/dist-packages (from selenium>=4.9.0->undetected-chromedriver>=3.2.1->pyChatGPT) (2022.12.7)\n",
            "Requirement already satisfied: charset-normalizer<4,>=2 in /usr/local/lib/python3.10/dist-packages (from requests->undetected-chromedriver>=3.2.1->pyChatGPT) (3.3.2)\n",
            "Requirement already satisfied: idna<4,>=2.5 in /usr/local/lib/python3.10/dist-packages (from requests->undetected-chromedriver>=3.2.1->pyChatGPT) (3.6)\n",
            "Requirement already satisfied: attrs>=20.1.0 in /usr/local/lib/python3.10/dist-packages (from trio~=0.17->selenium>=4.9.0->undetected-chromedriver>=3.2.1->pyChatGPT) (23.1.0)\n",
            "Requirement already satisfied: sortedcontainers in /usr/local/lib/python3.10/dist-packages (from trio~=0.17->selenium>=4.9.0->undetected-chromedriver>=3.2.1->pyChatGPT) (2.4.0)\n",
            "Requirement already satisfied: outcome in /usr/local/lib/python3.10/dist-packages (from trio~=0.17->selenium>=4.9.0->undetected-chromedriver>=3.2.1->pyChatGPT) (1.3.0.post0)\n",
            "Requirement already satisfied: sniffio>=1.3.0 in /usr/local/lib/python3.10/dist-packages (from trio~=0.17->selenium>=4.9.0->undetected-chromedriver>=3.2.1->pyChatGPT) (1.3.0)\n",
            "Requirement already satisfied: exceptiongroup in /usr/local/lib/python3.10/dist-packages (from trio~=0.17->selenium>=4.9.0->undetected-chromedriver>=3.2.1->pyChatGPT) (1.2.0)\n",
            "Requirement already satisfied: wsproto>=0.14 in /usr/local/lib/python3.10/dist-packages (from trio-websocket~=0.9->selenium>=4.9.0->undetected-chromedriver>=3.2.1->pyChatGPT) (1.2.0)\n",
            "Requirement already satisfied: pysocks!=1.5.7,<2.0,>=1.5.6 in /usr/local/lib/python3.10/dist-packages (from urllib3[socks]<3,>=1.26->selenium>=4.9.0->undetected-chromedriver>=3.2.1->pyChatGPT) (1.7.1)\n",
            "Requirement already satisfied: h11<1,>=0.9.0 in /usr/local/lib/python3.10/dist-packages (from wsproto>=0.14->trio-websocket~=0.9->selenium>=4.9.0->undetected-chromedriver>=3.2.1->pyChatGPT) (0.14.0)\n"
          ]
        }
      ]
    },
    {
      "cell_type": "code",
      "source": [
        "# #   pip install deep_translator\n"
      ],
      "metadata": {
        "id": "DxXsMJ5OvDID"
      },
      "execution_count": null,
      "outputs": []
    },
    {
      "cell_type": "code",
      "source": [
        "import streamlit as st\n",
        "import databutton as db\n",
        "from pyChatGPT import ChatGPT\n",
        "from   deep_translator import GoogleTranslator\n",
        "session = \"eyJhbGciOiJkaXIiLCJlbmMiOiJBMjU2R0NNIn0..P4fB3rtBKRP_8aM9.VLgM_WZGF9CWFi--ZR1cK1dwpxbAWsUxNQiRPayNX8uNn21xwZ0s0a2lOhI7WI-Vrfe9hwiS4EhSdjNQauRi9cBne0gXeFO8ZYb7tTIbK2T-tRXzfXDZZSqP9WoGJWmUgdu-8lgYFZj48QaHMttUm6sNip947STrdJcYRS74X2fwDl5uMTsyrYqZ__wxpiI76Vr05SIazYuemFo15ZzUs4w4x69h12e1ESqcKavufl2iZ9XF8bABxXjZgs6hzfnrzVzx0gVwLmTmL56ZhaKuJbpnzdtZG833PbFpE39XRw1PE2-q37ocopiDhsvAyctlJ9ChqgREZcV3N225g5PWkfhaDH6bKJJajpKrMLKT2CrbJfVda0Zo7q4MtoTAms_0qMRS0ue2Fo_sVRhkTQwvq7cOpg_LeuCtIOYnIYKxg1RsneEzMPRbeua3XGM-x6FT4irHcQAG342ZcPm9sJdA1VbFpAIXHDZKxTrzr-ymJbXP8VwtrA5v2zaIybVZO5xNP9SJinpOA2HjPFrhQZqIB3X27ZZPMYbbCgrr2X6mo94BUfYSzUIFyVmTH4yPDyLot9Rjet4xhrFTViwkwp7zbnROUT7KjrgbekSi5Zuf5zynYCtRjD0chzAzvfpwVOCoPxEpH9OOYFUwBnEE44HCifPC8iLa-i9VyhPHKgp91U3bcEtmj7hCXYzP91KJOwPaOFEhgIFCpulw1ZZQAz5RmDCWLFDINSkeoi-xuxcntS3KBKblecMm3_6WPlWOP2Zw7du6veW723nMHDRUr5zVTPUn9zinAOhGcJ1wT8bkHoqDZwLZ-HBPT5Ho8OXJ6qjCNYUa6mfvF25XvnOX18mfeYUpxBA9kANy1engbgsjh8y23NL-iAGFvwRx3mABKr9t1imdjE3DN2dKVdX5o7hKINczf8KwKO61i_3QHIZw4CkyADsMVxGL2VXpVg6i6A94mZ-Vf2wbSxUlMoZID3gajEQEW6GQqcOD3DGaiHpTEOdawLfIhgv6EwkunGAxrMv2YAm-mZgvZaucTvqcC_7CZlLFtSXdCdXywo93m6Yt8tN1FHkDCE_3Wouboknd_RCY9jFd-SOWPkcp7KOgmAtxE6ouoixYejZAQHvX8kEJhrPIidgjl6XdFPSk-kBeFKtciDu5gzmaYp7nqnvQYhAYAj3w_4XJOlw6f-IhN9O1brhleufv-7Lqo99ilgWx_BaNP_fLrRKwoiQiAL9sFxJryH9L7-bY0_sDfH9bVXfHUYrebnXZ2ab0kAqbyzHcDnT1PrNvC2nJlIjW0pTN1EEga2F4rA1nfmVvTdf39u9KCBooBNLZxcKcTk1ue29zlAA7Nc6SrcMRyKGBtHlS2y8WQv5IK7zb0C_BYylXMWe734uPOrQj2uDipOLuf-M2A8EKkbJanJ2FXD7jhQ1aNF28Q8n0bmv85pdwEY6m8sXC1L83xy1b3YIDmM7GNIn3r1PjeJaAYOLT-lzqnqy9T6rho-RsUCy7kQJj_DyhYFFYDcRNwuO-wLShTyXOSB2OS2shRueCFY1K2PQH0E7f1qXJHPs19lMGX4jywdFs7VheH4oNzKXcHqjPsDmCaIbYBZ1kPdt-8_fIKzhhESFrehP-4exMDHVGvYZTDuWMG3stBC1JWiAVWt3POcqbAyj4SKrVyk2Olvz4hlU_BxLLdrCQzW07WMsRtz6vzwvjZglM9IMOdc8US70nKfZ9uM7BBlDQuvr_d6Z9KzG1l6dzyPCy8WeGnjFhlJDvd6JW2Ci3FFT3kSbfgIe_DEb4gHUIY0wS15ty3UBVkI_KdZqqq9OXrvs5S9xJDpEgeZs6YTK-O0WK8KGmpv-iumq17yK7J1BuCGubvJS_rLHLAFZPmYUfSdWET7gllFHmBqiMQ-e3QFsW1ZUi2WUDLQSs-q04P9Dxy6lPDSCxR1AVIl_vFv1NDwRRzCLjwGaSx7NunkDHp94FUeUPchtS_TA3n5c_DTixnZdOydnxz7B7fMbN7BHSUeGPOsNd3-mDFlFSAQxCUSacJK5BH8q6vJCwNbks7nbIZRlNqPGjfVGvL8kunkyBGNVcd_t095YYTk90K3cQ0E4nSoHEI2v8p3KlqYKOUb9FtNhL5lRLPIPfXRPuau-MVKj4vQgb60hHA5lZwsBZ3qUee4nw7jh56y60jPbWbOsVmUTJod7vTfCskmveqPVzlxZooqLQtyFGSqhXdiVjYDshdIM3_eT-xjmdb8jA1AUmJxv4Pvy_gm_54AAdxW5feAOXqhzCrR6IvKCiePu7OuFsNJpzqAxKOrksvCWOAUR1GsMgLd56fL2R1qLidTmuYHfNhhxaqUklYeCFqL_QR_BuJqFZkt_mbI94ic_kCP-Z8T2lPlgAMMbcft4FIXOrfLKYpec6avlfFanJIs175WmbuPLQi6HqDlZ78oPL-KNU0h8_nN1bvl7HyA0iF9h4zSk48cX_wNL4GVmEdRpX3AK1wg2Rj0Hr_qSRj31qUBzHoaHLP0l1JDILayb3LzKjGaDMpZz58fRObJNOoBnPArcDQcAJjtWlEZ_VPaAuAZ-4L_wBt7ZRlRb1uJyqWwiLtrFRKGAVf7-d4B1ur650JWgfpK5WhMwYFXsDCd4FCCEo1LW6ka8ipnh6HH2rhsPMCfqf_hPt-0SXqm-PdQCLDXptoLFDcycv9jNojrxxfGq1tokyTwCw12XsEBiGK_JyYYGv49KA0FU0lAhGiyPyhDVCpMqSS005XwZD7w4DIf-x8rTHK7PHRsdum51s1oQofj4kBmsnb4Sxy2albN1A2KOiDbYHecAdwiCMabDyL0y8uhmzIG_VbhrZ_m163xinKtKMjh8B6UT3AXMwe_kgl6Z6oxM6scThupWUUJAGLTa_1VM5H-rMsUIebKwjqVgNulmGs2qgwgQs-bzQ5fWY-nyh-c0s1MrPWO3r2vBTWto0eDwVz12a.gBskX1_NvMGFSSPSlx6XDA\"\n",
        "## deep translator and pycharm\n",
        "api = ChatGPT (session)\n",
        "\n",
        "x = api.send_message(\"who are you ?\")\n",
        "st.write(x)"
      ],
      "metadata": {
        "colab": {
          "base_uri": "https://localhost:8080/",
          "height": 460
        },
        "id": "yleoqZTVvPPg",
        "outputId": "eeea3db5-f6da-4082-87bb-85c7fe5bf494"
      },
      "execution_count": null,
      "outputs": [
        {
          "output_type": "stream",
          "name": "stderr",
          "text": [
            "DEBUG:pyChatGPT:Starting virtual display...\n"
          ]
        },
        {
          "output_type": "error",
          "ename": "ValueError",
          "evalue": "ignored",
          "traceback": [
            "\u001b[0;31m---------------------------------------------------------------------------\u001b[0m",
            "\u001b[0;31mFileNotFoundError\u001b[0m                         Traceback (most recent call last)",
            "\u001b[0;32m/usr/local/lib/python3.10/dist-packages/pyChatGPT/pyChatGPT.py\u001b[0m in \u001b[0;36m__init_browser\u001b[0;34m(self)\u001b[0m\n\u001b[1;32m    162\u001b[0m \u001b[0;34m\u001b[0m\u001b[0m\n\u001b[0;32m--> 163\u001b[0;31m                 \u001b[0mself\u001b[0m\u001b[0;34m.\u001b[0m\u001b[0mdisplay\u001b[0m \u001b[0;34m=\u001b[0m \u001b[0mDisplay\u001b[0m\u001b[0;34m(\u001b[0m\u001b[0;34m)\u001b[0m\u001b[0;34m\u001b[0m\u001b[0;34m\u001b[0m\u001b[0m\n\u001b[0m\u001b[1;32m    164\u001b[0m             \u001b[0;32mexcept\u001b[0m \u001b[0mModuleNotFoundError\u001b[0m\u001b[0;34m:\u001b[0m\u001b[0;34m\u001b[0m\u001b[0;34m\u001b[0m\u001b[0m\n",
            "\u001b[0;32m/usr/local/lib/python3.10/dist-packages/pyvirtualdisplay/display.py\u001b[0m in \u001b[0;36m__init__\u001b[0;34m(self, backend, visible, size, color_depth, bgcolor, use_xauth, retries, extra_args, manage_global_env, **kwargs)\u001b[0m\n\u001b[1;32m     53\u001b[0m \u001b[0;34m\u001b[0m\u001b[0m\n\u001b[0;32m---> 54\u001b[0;31m         self._obj = cls(\n\u001b[0m\u001b[1;32m     55\u001b[0m             \u001b[0msize\u001b[0m\u001b[0;34m=\u001b[0m\u001b[0msize\u001b[0m\u001b[0;34m,\u001b[0m\u001b[0;34m\u001b[0m\u001b[0;34m\u001b[0m\u001b[0m\n",
            "\u001b[0;32m/usr/local/lib/python3.10/dist-packages/pyvirtualdisplay/xvfb.py\u001b[0m in \u001b[0;36m__init__\u001b[0;34m(self, size, color_depth, bgcolor, use_xauth, fbdir, dpi, retries, extra_args, manage_global_env)\u001b[0m\n\u001b[1;32m     43\u001b[0m \u001b[0;34m\u001b[0m\u001b[0m\n\u001b[0;32m---> 44\u001b[0;31m         AbstractDisplay.__init__(\n\u001b[0m\u001b[1;32m     45\u001b[0m             \u001b[0mself\u001b[0m\u001b[0;34m,\u001b[0m\u001b[0;34m\u001b[0m\u001b[0;34m\u001b[0m\u001b[0m\n",
            "\u001b[0;32m/usr/local/lib/python3.10/dist-packages/pyvirtualdisplay/abstractdisplay.py\u001b[0m in \u001b[0;36m__init__\u001b[0;34m(self, program, use_xauth, retries, extra_args, manage_global_env)\u001b[0m\n\u001b[1;32m     84\u001b[0m \u001b[0;34m\u001b[0m\u001b[0m\n\u001b[0;32m---> 85\u001b[0;31m         \u001b[0mhelptext\u001b[0m \u001b[0;34m=\u001b[0m \u001b[0mget_helptext\u001b[0m\u001b[0;34m(\u001b[0m\u001b[0mprogram\u001b[0m\u001b[0;34m)\u001b[0m\u001b[0;34m\u001b[0m\u001b[0;34m\u001b[0m\u001b[0m\n\u001b[0m\u001b[1;32m     86\u001b[0m         \u001b[0mself\u001b[0m\u001b[0;34m.\u001b[0m\u001b[0m_has_displayfd\u001b[0m \u001b[0;34m=\u001b[0m \u001b[0;34m\"-displayfd\"\u001b[0m \u001b[0;32min\u001b[0m \u001b[0mhelptext\u001b[0m\u001b[0;34m\u001b[0m\u001b[0;34m\u001b[0m\u001b[0m\n",
            "\u001b[0;32m/usr/local/lib/python3.10/dist-packages/pyvirtualdisplay/util.py\u001b[0m in \u001b[0;36mget_helptext\u001b[0;34m(program)\u001b[0m\n\u001b[1;32m     12\u001b[0m     \u001b[0;31m# py3.6 also\u001b[0m\u001b[0;34m\u001b[0m\u001b[0;34m\u001b[0m\u001b[0m\n\u001b[0;32m---> 13\u001b[0;31m     p = subprocess.Popen(\n\u001b[0m\u001b[1;32m     14\u001b[0m         \u001b[0mcmd\u001b[0m\u001b[0;34m,\u001b[0m\u001b[0;34m\u001b[0m\u001b[0;34m\u001b[0m\u001b[0m\n",
            "\u001b[0;32m/usr/lib/python3.10/subprocess.py\u001b[0m in \u001b[0;36m__init__\u001b[0;34m(self, args, bufsize, executable, stdin, stdout, stderr, preexec_fn, close_fds, shell, cwd, env, universal_newlines, startupinfo, creationflags, restore_signals, start_new_session, pass_fds, user, group, extra_groups, encoding, errors, text, umask, pipesize)\u001b[0m\n\u001b[1;32m    970\u001b[0m \u001b[0;34m\u001b[0m\u001b[0m\n\u001b[0;32m--> 971\u001b[0;31m             self._execute_child(args, executable, preexec_fn, close_fds,\n\u001b[0m\u001b[1;32m    972\u001b[0m                                 \u001b[0mpass_fds\u001b[0m\u001b[0;34m,\u001b[0m \u001b[0mcwd\u001b[0m\u001b[0;34m,\u001b[0m \u001b[0menv\u001b[0m\u001b[0;34m,\u001b[0m\u001b[0;34m\u001b[0m\u001b[0;34m\u001b[0m\u001b[0m\n",
            "\u001b[0;32m/usr/lib/python3.10/subprocess.py\u001b[0m in \u001b[0;36m_execute_child\u001b[0;34m(self, args, executable, preexec_fn, close_fds, pass_fds, cwd, env, startupinfo, creationflags, shell, p2cread, p2cwrite, c2pread, c2pwrite, errread, errwrite, restore_signals, gid, gids, uid, umask, start_new_session)\u001b[0m\n\u001b[1;32m   1862\u001b[0m                         \u001b[0merr_msg\u001b[0m \u001b[0;34m=\u001b[0m \u001b[0mos\u001b[0m\u001b[0;34m.\u001b[0m\u001b[0mstrerror\u001b[0m\u001b[0;34m(\u001b[0m\u001b[0merrno_num\u001b[0m\u001b[0;34m)\u001b[0m\u001b[0;34m\u001b[0m\u001b[0;34m\u001b[0m\u001b[0m\n\u001b[0;32m-> 1863\u001b[0;31m                     \u001b[0;32mraise\u001b[0m \u001b[0mchild_exception_type\u001b[0m\u001b[0;34m(\u001b[0m\u001b[0merrno_num\u001b[0m\u001b[0;34m,\u001b[0m \u001b[0merr_msg\u001b[0m\u001b[0;34m,\u001b[0m \u001b[0merr_filename\u001b[0m\u001b[0;34m)\u001b[0m\u001b[0;34m\u001b[0m\u001b[0;34m\u001b[0m\u001b[0m\n\u001b[0m\u001b[1;32m   1864\u001b[0m                 \u001b[0;32mraise\u001b[0m \u001b[0mchild_exception_type\u001b[0m\u001b[0;34m(\u001b[0m\u001b[0merr_msg\u001b[0m\u001b[0;34m)\u001b[0m\u001b[0;34m\u001b[0m\u001b[0;34m\u001b[0m\u001b[0m\n",
            "\u001b[0;31mFileNotFoundError\u001b[0m: [Errno 2] No such file or directory: 'Xvfb'",
            "\nDuring handling of the above exception, another exception occurred:\n",
            "\u001b[0;31mValueError\u001b[0m                                Traceback (most recent call last)",
            "\u001b[0;32m<ipython-input-23-ad7d2dc67ea7>\u001b[0m in \u001b[0;36m<cell line: 7>\u001b[0;34m()\u001b[0m\n\u001b[1;32m      5\u001b[0m \u001b[0msession\u001b[0m \u001b[0;34m=\u001b[0m \u001b[0;34m\"eyJhbGciOiJkaXIiLCJlbmMiOiJBMjU2R0NNIn0..P4fB3rtBKRP_8aM9.VLgM_WZGF9CWFi--ZR1cK1dwpxbAWsUxNQiRPayNX8uNn21xwZ0s0a2lOhI7WI-Vrfe9hwiS4EhSdjNQauRi9cBne0gXeFO8ZYb7tTIbK2T-tRXzfXDZZSqP9WoGJWmUgdu-8lgYFZj48QaHMttUm6sNip947STrdJcYRS74X2fwDl5uMTsyrYqZ__wxpiI76Vr05SIazYuemFo15ZzUs4w4x69h12e1ESqcKavufl2iZ9XF8bABxXjZgs6hzfnrzVzx0gVwLmTmL56ZhaKuJbpnzdtZG833PbFpE39XRw1PE2-q37ocopiDhsvAyctlJ9ChqgREZcV3N225g5PWkfhaDH6bKJJajpKrMLKT2CrbJfVda0Zo7q4MtoTAms_0qMRS0ue2Fo_sVRhkTQwvq7cOpg_LeuCtIOYnIYKxg1RsneEzMPRbeua3XGM-x6FT4irHcQAG342ZcPm9sJdA1VbFpAIXHDZKxTrzr-ymJbXP8VwtrA5v2zaIybVZO5xNP9SJinpOA2HjPFrhQZqIB3X27ZZPMYbbCgrr2X6mo94BUfYSzUIFyVmTH4yPDyLot9Rjet4xhrFTViwkwp7zbnROUT7KjrgbekSi5Zuf5zynYCtRjD0chzAzvfpwVOCoPxEpH9OOYFUwBnEE44HCifPC8iLa-i9VyhPHKgp91U3bcEtmj7hCXYzP91KJOwPaOFEhgIFCpulw1ZZQAz5RmDCWLFDINSkeoi-xuxcntS3KBKblecMm3_6WPlWOP2Zw7du6veW723nMHDRUr5zVTPUn9zinAOhGcJ1wT8bkHoqDZwLZ-HBPT5Ho8OXJ6qjCNYUa6mfvF25XvnOX18mfeYUpxBA9kANy1engbgsjh8y23NL-iAGFvwRx3mABKr9t1imdjE3DN2dKVdX5o7hKINczf8KwKO61i_3QHIZw4CkyADsMVxGL2VXpVg6i6A94mZ-Vf2wbSxUlMoZID3gajEQEW6GQqcOD3DGaiHpTEOdawLfIhgv6EwkunGAxrMv2YAm-mZgvZaucTvqcC_7CZlLFtSXdCdXywo93m6Yt8tN1FHkDCE_3Wouboknd_RCY9jFd-SOWPkcp7KOgmAtxE6ouoixYejZAQHvX8kEJhrPIidgjl6XdFPSk-kBeFKtciDu5gzmaYp7nqnvQYhAYAj3w_4XJOlw6f-IhN9O1brhleufv-7Lqo99ilgWx_BaNP_fLrRKwoiQiAL9sFxJryH9L7-bY0_sDfH9bVXfHUYrebnXZ2ab0kAqbyzHcDnT1PrNvC2nJlIjW0pTN1EEga2F4rA1nfmVvTdf39u9KCBooBNLZxcKcTk1ue29zlAA7Nc6SrcMRyKGBtHlS2y8WQv5IK7zb0C_BYylXMWe...\n\u001b[1;32m      6\u001b[0m \u001b[0;31m## deep translator and pycharm\u001b[0m\u001b[0;34m\u001b[0m\u001b[0;34m\u001b[0m\u001b[0m\n\u001b[0;32m----> 7\u001b[0;31m \u001b[0mapi\u001b[0m \u001b[0;34m=\u001b[0m \u001b[0mChatGPT\u001b[0m \u001b[0;34m(\u001b[0m\u001b[0msession\u001b[0m\u001b[0;34m)\u001b[0m\u001b[0;34m\u001b[0m\u001b[0;34m\u001b[0m\u001b[0m\n\u001b[0m\u001b[1;32m      8\u001b[0m \u001b[0;34m\u001b[0m\u001b[0m\n\u001b[1;32m      9\u001b[0m \u001b[0mx\u001b[0m \u001b[0;34m=\u001b[0m \u001b[0mapi\u001b[0m\u001b[0;34m.\u001b[0m\u001b[0msend_message\u001b[0m\u001b[0;34m(\u001b[0m\u001b[0;34m\"who are you ?\"\u001b[0m\u001b[0;34m)\u001b[0m\u001b[0;34m\u001b[0m\u001b[0;34m\u001b[0m\u001b[0m\n",
            "\u001b[0;32m/usr/local/lib/python3.10/dist-packages/pyChatGPT/pyChatGPT.py\u001b[0m in \u001b[0;36m__init__\u001b[0;34m(self, session_token, conversation_id, auth_type, email, password, login_cookies_path, captcha_solver, solver_apikey, proxy, chrome_args, moderation, verbose)\u001b[0m\n\u001b[1;32m    124\u001b[0m             \u001b[0mos\u001b[0m\u001b[0;34m.\u001b[0m\u001b[0menviron\u001b[0m\u001b[0;34m[\u001b[0m\u001b[0;34m'PATH'\u001b[0m\u001b[0;34m]\u001b[0m \u001b[0;34m+=\u001b[0m \u001b[0mos\u001b[0m\u001b[0;34m.\u001b[0m\u001b[0mpathsep\u001b[0m \u001b[0;34m+\u001b[0m \u001b[0mffdl\u001b[0m\u001b[0;34m.\u001b[0m\u001b[0mffmpeg_dir\u001b[0m\u001b[0;34m\u001b[0m\u001b[0;34m\u001b[0m\u001b[0m\n\u001b[1;32m    125\u001b[0m \u001b[0;34m\u001b[0m\u001b[0m\n\u001b[0;32m--> 126\u001b[0;31m         \u001b[0mself\u001b[0m\u001b[0;34m.\u001b[0m\u001b[0m__init_browser\u001b[0m\u001b[0;34m(\u001b[0m\u001b[0;34m)\u001b[0m\u001b[0;34m\u001b[0m\u001b[0;34m\u001b[0m\u001b[0m\n\u001b[0m\u001b[1;32m    127\u001b[0m         \u001b[0mweakref\u001b[0m\u001b[0;34m.\u001b[0m\u001b[0mfinalize\u001b[0m\u001b[0;34m(\u001b[0m\u001b[0mself\u001b[0m\u001b[0;34m,\u001b[0m \u001b[0mself\u001b[0m\u001b[0;34m.\u001b[0m\u001b[0m__del__\u001b[0m\u001b[0;34m)\u001b[0m\u001b[0;34m\u001b[0m\u001b[0;34m\u001b[0m\u001b[0m\n\u001b[1;32m    128\u001b[0m \u001b[0;34m\u001b[0m\u001b[0m\n",
            "\u001b[0;32m/usr/local/lib/python3.10/dist-packages/pyChatGPT/pyChatGPT.py\u001b[0m in \u001b[0;36m__init_browser\u001b[0;34m(self)\u001b[0m\n\u001b[1;32m    168\u001b[0m             \u001b[0;32mexcept\u001b[0m \u001b[0mFileNotFoundError\u001b[0m \u001b[0;32mas\u001b[0m \u001b[0me\u001b[0m\u001b[0;34m:\u001b[0m\u001b[0;34m\u001b[0m\u001b[0;34m\u001b[0m\u001b[0m\n\u001b[1;32m    169\u001b[0m                 \u001b[0;32mif\u001b[0m \u001b[0;34m'No such file or directory: \\'Xvfb\\''\u001b[0m \u001b[0;32min\u001b[0m \u001b[0mstr\u001b[0m\u001b[0;34m(\u001b[0m\u001b[0me\u001b[0m\u001b[0;34m)\u001b[0m\u001b[0;34m:\u001b[0m\u001b[0;34m\u001b[0m\u001b[0;34m\u001b[0m\u001b[0m\n\u001b[0;32m--> 170\u001b[0;31m                     raise ValueError(\n\u001b[0m\u001b[1;32m    171\u001b[0m                         \u001b[0;34m'Please install Xvfb to start a virtual display by running `sudo apt install xvfb`'\u001b[0m\u001b[0;34m\u001b[0m\u001b[0;34m\u001b[0m\u001b[0m\n\u001b[1;32m    172\u001b[0m                     )\n",
            "\u001b[0;31mValueError\u001b[0m: Please install Xvfb to start a virtual display by running `sudo apt install xvfb`"
          ]
        }
      ]
    },
    {
      "cell_type": "code",
      "source": [
        "pip install Xvfb"
      ],
      "metadata": {
        "colab": {
          "base_uri": "https://localhost:8080/"
        },
        "id": "42t4PACqbctV",
        "outputId": "f9a21a70-36b8-4de2-a78b-9da2431bf42f"
      },
      "execution_count": null,
      "outputs": [
        {
          "output_type": "stream",
          "name": "stdout",
          "text": [
            "\u001b[31mERROR: Could not find a version that satisfies the requirement Xvfb (from versions: none)\u001b[0m\u001b[31m\n",
            "\u001b[0m\u001b[31mERROR: No matching distribution found for Xvfb\u001b[0m\u001b[31m\n",
            "\u001b[0m"
          ]
        }
      ]
    },
    {
      "cell_type": "code",
      "source": [],
      "metadata": {
        "id": "NfbVJuRIcfxe"
      },
      "execution_count": null,
      "outputs": []
    },
    {
      "cell_type": "code",
      "source": [
        "pip install pyChatGPT"
      ],
      "metadata": {
        "colab": {
          "base_uri": "https://localhost:8080/"
        },
        "id": "fIFb9o09qYW2",
        "outputId": "b755ea09-aa53-48be-ca7e-d2852013cc21"
      },
      "execution_count": null,
      "outputs": [
        {
          "output_type": "stream",
          "name": "stdout",
          "text": [
            "Collecting pyChatGPT\n",
            "  Downloading pyChatGPT-0.4.3.3-py3-none-any.whl (23 kB)\n",
            "Collecting undetected-chromedriver>=3.2.1 (from pyChatGPT)\n",
            "  Downloading undetected-chromedriver-3.5.4.tar.gz (65 kB)\n",
            "\u001b[2K     \u001b[90m━━━━━━━━━━━━━━━━━━━━━━━━━━━━━━━━━━━━━━━━\u001b[0m \u001b[32m65.4/65.4 kB\u001b[0m \u001b[31m1.5 MB/s\u001b[0m eta \u001b[36m0:00:00\u001b[0m\n",
            "\u001b[?25h  Preparing metadata (setup.py) ... \u001b[?25l\u001b[?25hdone\n",
            "Collecting markdownify>=0.11.6 (from pyChatGPT)\n",
            "  Downloading markdownify-0.11.6-py3-none-any.whl (16 kB)\n",
            "Requirement already satisfied: beautifulsoup4<5,>=4.9 in /usr/local/lib/python3.10/dist-packages (from markdownify>=0.11.6->pyChatGPT) (4.11.2)\n",
            "Requirement already satisfied: six<2,>=1.15 in /usr/local/lib/python3.10/dist-packages (from markdownify>=0.11.6->pyChatGPT) (1.16.0)\n",
            "Collecting selenium>=4.9.0 (from undetected-chromedriver>=3.2.1->pyChatGPT)\n",
            "  Downloading selenium-4.16.0-py3-none-any.whl (10.0 MB)\n",
            "\u001b[2K     \u001b[90m━━━━━━━━━━━━━━━━━━━━━━━━━━━━━━━━━━━━━━━━\u001b[0m \u001b[32m10.0/10.0 MB\u001b[0m \u001b[31m34.6 MB/s\u001b[0m eta \u001b[36m0:00:00\u001b[0m\n",
            "\u001b[?25hRequirement already satisfied: requests in /usr/local/lib/python3.10/dist-packages (from undetected-chromedriver>=3.2.1->pyChatGPT) (2.31.0)\n",
            "Collecting websockets (from undetected-chromedriver>=3.2.1->pyChatGPT)\n",
            "  Downloading websockets-12.0-cp310-cp310-manylinux_2_5_x86_64.manylinux1_x86_64.manylinux_2_17_x86_64.manylinux2014_x86_64.whl (130 kB)\n",
            "\u001b[2K     \u001b[90m━━━━━━━━━━━━━━━━━━━━━━━━━━━━━━━━━━━━━━━━\u001b[0m \u001b[32m130.2/130.2 kB\u001b[0m \u001b[31m15.3 MB/s\u001b[0m eta \u001b[36m0:00:00\u001b[0m\n",
            "\u001b[?25hRequirement already satisfied: soupsieve>1.2 in /usr/local/lib/python3.10/dist-packages (from beautifulsoup4<5,>=4.9->markdownify>=0.11.6->pyChatGPT) (2.5)\n",
            "Requirement already satisfied: urllib3[socks]<3,>=1.26 in /usr/local/lib/python3.10/dist-packages (from selenium>=4.9.0->undetected-chromedriver>=3.2.1->pyChatGPT) (2.0.7)\n",
            "Collecting trio~=0.17 (from selenium>=4.9.0->undetected-chromedriver>=3.2.1->pyChatGPT)\n",
            "  Downloading trio-0.23.2-py3-none-any.whl (461 kB)\n",
            "\u001b[2K     \u001b[90m━━━━━━━━━━━━━━━━━━━━━━━━━━━━━━━━━━━━━━━━\u001b[0m \u001b[32m461.6/461.6 kB\u001b[0m \u001b[31m38.1 MB/s\u001b[0m eta \u001b[36m0:00:00\u001b[0m\n",
            "\u001b[?25hCollecting trio-websocket~=0.9 (from selenium>=4.9.0->undetected-chromedriver>=3.2.1->pyChatGPT)\n",
            "  Downloading trio_websocket-0.11.1-py3-none-any.whl (17 kB)\n",
            "Requirement already satisfied: certifi>=2021.10.8 in /usr/local/lib/python3.10/dist-packages (from selenium>=4.9.0->undetected-chromedriver>=3.2.1->pyChatGPT) (2022.12.7)\n",
            "Requirement already satisfied: charset-normalizer<4,>=2 in /usr/local/lib/python3.10/dist-packages (from requests->undetected-chromedriver>=3.2.1->pyChatGPT) (3.3.2)\n",
            "Requirement already satisfied: idna<4,>=2.5 in /usr/local/lib/python3.10/dist-packages (from requests->undetected-chromedriver>=3.2.1->pyChatGPT) (3.6)\n",
            "Requirement already satisfied: attrs>=20.1.0 in /usr/local/lib/python3.10/dist-packages (from trio~=0.17->selenium>=4.9.0->undetected-chromedriver>=3.2.1->pyChatGPT) (23.1.0)\n",
            "Requirement already satisfied: sortedcontainers in /usr/local/lib/python3.10/dist-packages (from trio~=0.17->selenium>=4.9.0->undetected-chromedriver>=3.2.1->pyChatGPT) (2.4.0)\n",
            "Collecting outcome (from trio~=0.17->selenium>=4.9.0->undetected-chromedriver>=3.2.1->pyChatGPT)\n",
            "  Downloading outcome-1.3.0.post0-py2.py3-none-any.whl (10 kB)\n",
            "Requirement already satisfied: sniffio>=1.3.0 in /usr/local/lib/python3.10/dist-packages (from trio~=0.17->selenium>=4.9.0->undetected-chromedriver>=3.2.1->pyChatGPT) (1.3.0)\n",
            "Requirement already satisfied: exceptiongroup in /usr/local/lib/python3.10/dist-packages (from trio~=0.17->selenium>=4.9.0->undetected-chromedriver>=3.2.1->pyChatGPT) (1.2.0)\n",
            "Collecting wsproto>=0.14 (from trio-websocket~=0.9->selenium>=4.9.0->undetected-chromedriver>=3.2.1->pyChatGPT)\n",
            "  Downloading wsproto-1.2.0-py3-none-any.whl (24 kB)\n",
            "Requirement already satisfied: pysocks!=1.5.7,<2.0,>=1.5.6 in /usr/local/lib/python3.10/dist-packages (from urllib3[socks]<3,>=1.26->selenium>=4.9.0->undetected-chromedriver>=3.2.1->pyChatGPT) (1.7.1)\n",
            "Requirement already satisfied: h11<1,>=0.9.0 in /usr/local/lib/python3.10/dist-packages (from wsproto>=0.14->trio-websocket~=0.9->selenium>=4.9.0->undetected-chromedriver>=3.2.1->pyChatGPT) (0.14.0)\n",
            "Building wheels for collected packages: undetected-chromedriver\n",
            "  Building wheel for undetected-chromedriver (setup.py) ... \u001b[?25l\u001b[?25hdone\n",
            "  Created wheel for undetected-chromedriver: filename=undetected_chromedriver-3.5.4-py3-none-any.whl size=47055 sha256=3b6b65943a70bbaeff2653aad55d3793c751a344d391cb10b50681c23625e4a4\n",
            "  Stored in directory: /root/.cache/pip/wheels/0c/a6/72/5c948853baf75d52f1da173bd8fc9d7ad7615608e0ffaead6d\n",
            "Successfully built undetected-chromedriver\n",
            "Installing collected packages: wsproto, websockets, outcome, trio, markdownify, trio-websocket, selenium, undetected-chromedriver, pyChatGPT\n",
            "Successfully installed markdownify-0.11.6 outcome-1.3.0.post0 pyChatGPT-0.4.3.3 selenium-4.16.0 trio-0.23.2 trio-websocket-0.11.1 undetected-chromedriver-3.5.4 websockets-12.0 wsproto-1.2.0\n"
          ]
        }
      ]
    },
    {
      "cell_type": "code",
      "source": [
        "pip install databutton"
      ],
      "metadata": {
        "colab": {
          "base_uri": "https://localhost:8080/",
          "height": 1000
        },
        "id": "jYCAjKYUm7Nm",
        "outputId": "02a2d039-129c-46a9-de61-342eb605753f"
      },
      "execution_count": null,
      "outputs": [
        {
          "output_type": "stream",
          "name": "stdout",
          "text": [
            "Collecting databutton\n",
            "  Downloading databutton-0.36.7-py3-none-any.whl (22 kB)\n",
            "Requirement already satisfied: PyJWT<3.0.0,>=2.2.0 in /usr/lib/python3/dist-packages (from databutton) (2.3.0)\n",
            "Requirement already satisfied: PyYAML<7.0,>=6.0 in /usr/local/lib/python3.10/dist-packages (from databutton) (6.0.1)\n",
            "Collecting certifi<2023.0.0,>=2022.12.7 (from databutton)\n",
            "  Downloading certifi-2022.12.7-py3-none-any.whl (155 kB)\n",
            "\u001b[2K     \u001b[90m━━━━━━━━━━━━━━━━━━━━━━━━━━━━━━━━━━━━━━━━\u001b[0m \u001b[32m155.3/155.3 kB\u001b[0m \u001b[31m2.2 MB/s\u001b[0m eta \u001b[36m0:00:00\u001b[0m\n",
            "\u001b[?25hCollecting cryptography<41.0.0,>=40.0.1 (from databutton)\n",
            "  Downloading cryptography-40.0.2-cp36-abi3-manylinux_2_28_x86_64.whl (3.7 MB)\n",
            "\u001b[2K     \u001b[90m━━━━━━━━━━━━━━━━━━━━━━━━━━━━━━━━━━━━━━━━\u001b[0m \u001b[32m3.7/3.7 MB\u001b[0m \u001b[31m23.6 MB/s\u001b[0m eta \u001b[36m0:00:00\u001b[0m\n",
            "\u001b[?25hCollecting httpx<1,>=0.20.0 (from databutton)\n",
            "  Downloading httpx-0.25.2-py3-none-any.whl (74 kB)\n",
            "\u001b[2K     \u001b[90m━━━━━━━━━━━━━━━━━━━━━━━━━━━━━━━━━━━━━━━━\u001b[0m \u001b[32m75.0/75.0 kB\u001b[0m \u001b[31m9.6 MB/s\u001b[0m eta \u001b[36m0:00:00\u001b[0m\n",
            "\u001b[?25hRequirement already satisfied: pandas<3,>=0.25 in /usr/local/lib/python3.10/dist-packages (from databutton) (1.5.3)\n",
            "Requirement already satisfied: pydantic<2.0.0,>=1.8.0 in /usr/local/lib/python3.10/dist-packages (from databutton) (1.10.13)\n",
            "Requirement already satisfied: streamlit<2.0.0,>=1.20.0 in /usr/local/lib/python3.10/dist-packages (from databutton) (1.29.0)\n",
            "Requirement already satisfied: tenacity<9.0.0,>=8.0.0 in /usr/local/lib/python3.10/dist-packages (from databutton) (8.2.3)\n",
            "Requirement already satisfied: cffi>=1.12 in /usr/local/lib/python3.10/dist-packages (from cryptography<41.0.0,>=40.0.1->databutton) (1.16.0)\n",
            "Requirement already satisfied: anyio in /usr/local/lib/python3.10/dist-packages (from httpx<1,>=0.20.0->databutton) (3.7.1)\n",
            "Collecting httpcore==1.* (from httpx<1,>=0.20.0->databutton)\n",
            "  Downloading httpcore-1.0.2-py3-none-any.whl (76 kB)\n",
            "\u001b[2K     \u001b[90m━━━━━━━━━━━━━━━━━━━━━━━━━━━━━━━━━━━━━━━━\u001b[0m \u001b[32m76.9/76.9 kB\u001b[0m \u001b[31m8.8 MB/s\u001b[0m eta \u001b[36m0:00:00\u001b[0m\n",
            "\u001b[?25hRequirement already satisfied: idna in /usr/local/lib/python3.10/dist-packages (from httpx<1,>=0.20.0->databutton) (3.6)\n",
            "Requirement already satisfied: sniffio in /usr/local/lib/python3.10/dist-packages (from httpx<1,>=0.20.0->databutton) (1.3.0)\n",
            "Collecting h11<0.15,>=0.13 (from httpcore==1.*->httpx<1,>=0.20.0->databutton)\n",
            "  Downloading h11-0.14.0-py3-none-any.whl (58 kB)\n",
            "\u001b[2K     \u001b[90m━━━━━━━━━━━━━━━━━━━━━━━━━━━━━━━━━━━━━━━━\u001b[0m \u001b[32m58.3/58.3 kB\u001b[0m \u001b[31m6.5 MB/s\u001b[0m eta \u001b[36m0:00:00\u001b[0m\n",
            "\u001b[?25hRequirement already satisfied: python-dateutil>=2.8.1 in /usr/local/lib/python3.10/dist-packages (from pandas<3,>=0.25->databutton) (2.8.2)\n",
            "Requirement already satisfied: pytz>=2020.1 in /usr/local/lib/python3.10/dist-packages (from pandas<3,>=0.25->databutton) (2023.3.post1)\n",
            "Requirement already satisfied: numpy>=1.21.0 in /usr/local/lib/python3.10/dist-packages (from pandas<3,>=0.25->databutton) (1.23.5)\n",
            "Requirement already satisfied: typing-extensions>=4.2.0 in /usr/local/lib/python3.10/dist-packages (from pydantic<2.0.0,>=1.8.0->databutton) (4.5.0)\n",
            "Requirement already satisfied: altair<6,>=4.0 in /usr/local/lib/python3.10/dist-packages (from streamlit<2.0.0,>=1.20.0->databutton) (4.2.2)\n",
            "Requirement already satisfied: blinker<2,>=1.0.0 in /usr/lib/python3/dist-packages (from streamlit<2.0.0,>=1.20.0->databutton) (1.4)\n",
            "Requirement already satisfied: cachetools<6,>=4.0 in /usr/local/lib/python3.10/dist-packages (from streamlit<2.0.0,>=1.20.0->databutton) (5.3.2)\n",
            "Requirement already satisfied: click<9,>=7.0 in /usr/local/lib/python3.10/dist-packages (from streamlit<2.0.0,>=1.20.0->databutton) (8.1.7)\n",
            "Requirement already satisfied: importlib-metadata<7,>=1.4 in /usr/local/lib/python3.10/dist-packages (from streamlit<2.0.0,>=1.20.0->databutton) (6.11.0)\n",
            "Requirement already satisfied: packaging<24,>=16.8 in /usr/local/lib/python3.10/dist-packages (from streamlit<2.0.0,>=1.20.0->databutton) (23.2)\n",
            "Requirement already satisfied: pillow<11,>=7.1.0 in /usr/local/lib/python3.10/dist-packages (from streamlit<2.0.0,>=1.20.0->databutton) (9.4.0)\n",
            "Requirement already satisfied: protobuf<5,>=3.20 in /usr/local/lib/python3.10/dist-packages (from streamlit<2.0.0,>=1.20.0->databutton) (3.20.3)\n",
            "Requirement already satisfied: pyarrow>=6.0 in /usr/local/lib/python3.10/dist-packages (from streamlit<2.0.0,>=1.20.0->databutton) (10.0.1)\n",
            "Requirement already satisfied: requests<3,>=2.27 in /usr/local/lib/python3.10/dist-packages (from streamlit<2.0.0,>=1.20.0->databutton) (2.31.0)\n",
            "Requirement already satisfied: rich<14,>=10.14.0 in /usr/local/lib/python3.10/dist-packages (from streamlit<2.0.0,>=1.20.0->databutton) (13.7.0)\n",
            "Requirement already satisfied: toml<2,>=0.10.1 in /usr/local/lib/python3.10/dist-packages (from streamlit<2.0.0,>=1.20.0->databutton) (0.10.2)\n",
            "Requirement already satisfied: tzlocal<6,>=1.1 in /usr/local/lib/python3.10/dist-packages (from streamlit<2.0.0,>=1.20.0->databutton) (5.2)\n",
            "Requirement already satisfied: validators<1,>=0.2 in /usr/local/lib/python3.10/dist-packages (from streamlit<2.0.0,>=1.20.0->databutton) (0.22.0)\n",
            "Requirement already satisfied: gitpython!=3.1.19,<4,>=3.0.7 in /usr/local/lib/python3.10/dist-packages (from streamlit<2.0.0,>=1.20.0->databutton) (3.1.40)\n",
            "Requirement already satisfied: pydeck<1,>=0.8.0b4 in /usr/local/lib/python3.10/dist-packages (from streamlit<2.0.0,>=1.20.0->databutton) (0.8.1b0)\n",
            "Requirement already satisfied: tornado<7,>=6.0.3 in /usr/local/lib/python3.10/dist-packages (from streamlit<2.0.0,>=1.20.0->databutton) (6.3.2)\n",
            "Requirement already satisfied: watchdog>=2.1.5 in /usr/local/lib/python3.10/dist-packages (from streamlit<2.0.0,>=1.20.0->databutton) (3.0.0)\n",
            "Requirement already satisfied: entrypoints in /usr/local/lib/python3.10/dist-packages (from altair<6,>=4.0->streamlit<2.0.0,>=1.20.0->databutton) (0.4)\n",
            "Requirement already satisfied: jinja2 in /usr/local/lib/python3.10/dist-packages (from altair<6,>=4.0->streamlit<2.0.0,>=1.20.0->databutton) (3.1.2)\n",
            "Requirement already satisfied: jsonschema>=3.0 in /usr/local/lib/python3.10/dist-packages (from altair<6,>=4.0->streamlit<2.0.0,>=1.20.0->databutton) (4.19.2)\n",
            "Requirement already satisfied: toolz in /usr/local/lib/python3.10/dist-packages (from altair<6,>=4.0->streamlit<2.0.0,>=1.20.0->databutton) (0.12.0)\n",
            "Requirement already satisfied: pycparser in /usr/local/lib/python3.10/dist-packages (from cffi>=1.12->cryptography<41.0.0,>=40.0.1->databutton) (2.21)\n",
            "Requirement already satisfied: gitdb<5,>=4.0.1 in /usr/local/lib/python3.10/dist-packages (from gitpython!=3.1.19,<4,>=3.0.7->streamlit<2.0.0,>=1.20.0->databutton) (4.0.11)\n",
            "Requirement already satisfied: zipp>=0.5 in /usr/local/lib/python3.10/dist-packages (from importlib-metadata<7,>=1.4->streamlit<2.0.0,>=1.20.0->databutton) (3.17.0)\n",
            "Requirement already satisfied: six>=1.5 in /usr/local/lib/python3.10/dist-packages (from python-dateutil>=2.8.1->pandas<3,>=0.25->databutton) (1.16.0)\n",
            "Requirement already satisfied: charset-normalizer<4,>=2 in /usr/local/lib/python3.10/dist-packages (from requests<3,>=2.27->streamlit<2.0.0,>=1.20.0->databutton) (3.3.2)\n",
            "Requirement already satisfied: urllib3<3,>=1.21.1 in /usr/local/lib/python3.10/dist-packages (from requests<3,>=2.27->streamlit<2.0.0,>=1.20.0->databutton) (2.0.7)\n",
            "Requirement already satisfied: markdown-it-py>=2.2.0 in /usr/local/lib/python3.10/dist-packages (from rich<14,>=10.14.0->streamlit<2.0.0,>=1.20.0->databutton) (3.0.0)\n",
            "Requirement already satisfied: pygments<3.0.0,>=2.13.0 in /usr/local/lib/python3.10/dist-packages (from rich<14,>=10.14.0->streamlit<2.0.0,>=1.20.0->databutton) (2.16.1)\n",
            "Requirement already satisfied: exceptiongroup in /usr/local/lib/python3.10/dist-packages (from anyio->httpx<1,>=0.20.0->databutton) (1.2.0)\n",
            "Requirement already satisfied: smmap<6,>=3.0.1 in /usr/local/lib/python3.10/dist-packages (from gitdb<5,>=4.0.1->gitpython!=3.1.19,<4,>=3.0.7->streamlit<2.0.0,>=1.20.0->databutton) (5.0.1)\n",
            "Requirement already satisfied: MarkupSafe>=2.0 in /usr/local/lib/python3.10/dist-packages (from jinja2->altair<6,>=4.0->streamlit<2.0.0,>=1.20.0->databutton) (2.1.3)\n",
            "Requirement already satisfied: attrs>=22.2.0 in /usr/local/lib/python3.10/dist-packages (from jsonschema>=3.0->altair<6,>=4.0->streamlit<2.0.0,>=1.20.0->databutton) (23.1.0)\n",
            "Requirement already satisfied: jsonschema-specifications>=2023.03.6 in /usr/local/lib/python3.10/dist-packages (from jsonschema>=3.0->altair<6,>=4.0->streamlit<2.0.0,>=1.20.0->databutton) (2023.11.2)\n",
            "Requirement already satisfied: referencing>=0.28.4 in /usr/local/lib/python3.10/dist-packages (from jsonschema>=3.0->altair<6,>=4.0->streamlit<2.0.0,>=1.20.0->databutton) (0.32.0)\n",
            "Requirement already satisfied: rpds-py>=0.7.1 in /usr/local/lib/python3.10/dist-packages (from jsonschema>=3.0->altair<6,>=4.0->streamlit<2.0.0,>=1.20.0->databutton) (0.13.2)\n",
            "Requirement already satisfied: mdurl~=0.1 in /usr/local/lib/python3.10/dist-packages (from markdown-it-py>=2.2.0->rich<14,>=10.14.0->streamlit<2.0.0,>=1.20.0->databutton) (0.1.2)\n",
            "Installing collected packages: h11, certifi, httpcore, cryptography, httpx, databutton\n",
            "  Attempting uninstall: certifi\n",
            "    Found existing installation: certifi 2023.11.17\n",
            "    Uninstalling certifi-2023.11.17:\n",
            "      Successfully uninstalled certifi-2023.11.17\n",
            "  Attempting uninstall: cryptography\n",
            "    Found existing installation: cryptography 41.0.7\n",
            "    Uninstalling cryptography-41.0.7:\n",
            "      Successfully uninstalled cryptography-41.0.7\n",
            "\u001b[31mERROR: pip's dependency resolver does not currently take into account all the packages that are installed. This behaviour is the source of the following dependency conflicts.\n",
            "lida 0.0.10 requires fastapi, which is not installed.\n",
            "lida 0.0.10 requires kaleido, which is not installed.\n",
            "lida 0.0.10 requires python-multipart, which is not installed.\n",
            "lida 0.0.10 requires uvicorn, which is not installed.\n",
            "pyopenssl 23.3.0 requires cryptography<42,>=41.0.5, but you have cryptography 40.0.2 which is incompatible.\u001b[0m\u001b[31m\n",
            "\u001b[0mSuccessfully installed certifi-2022.12.7 cryptography-40.0.2 databutton-0.36.7 h11-0.14.0 httpcore-1.0.2 httpx-0.25.2\n"
          ]
        },
        {
          "output_type": "display_data",
          "data": {
            "application/vnd.colab-display-data+json": {
              "pip_warning": {
                "packages": [
                  "certifi"
                ]
              }
            }
          },
          "metadata": {}
        }
      ]
    },
    {
      "cell_type": "code",
      "source": [
        "pip instll databutton"
      ],
      "metadata": {
        "colab": {
          "base_uri": "https://localhost:8080/"
        },
        "id": "73bilcCFmsRB",
        "outputId": "12a79b54-3b01-4c5b-dd73-d9807e79b9c4"
      },
      "execution_count": null,
      "outputs": [
        {
          "output_type": "stream",
          "name": "stdout",
          "text": [
            "ERROR: unknown command \"instll\" - maybe you meant \"install\"\n"
          ]
        }
      ]
    },
    {
      "cell_type": "code",
      "source": [
        "pip install streamlit"
      ],
      "metadata": {
        "colab": {
          "base_uri": "https://localhost:8080/"
        },
        "id": "1sa8R5DfmXKh",
        "outputId": "772e09b4-23f8-4435-8ab3-56593c7f49f5"
      },
      "execution_count": null,
      "outputs": [
        {
          "output_type": "stream",
          "name": "stdout",
          "text": [
            "Collecting streamlit\n",
            "  Downloading streamlit-1.29.0-py2.py3-none-any.whl (8.4 MB)\n",
            "\u001b[2K     \u001b[90m━━━━━━━━━━━━━━━━━━━━━━━━━━━━━━━━━━━━━━━━\u001b[0m \u001b[32m8.4/8.4 MB\u001b[0m \u001b[31m16.4 MB/s\u001b[0m eta \u001b[36m0:00:00\u001b[0m\n",
            "\u001b[?25hRequirement already satisfied: altair<6,>=4.0 in /usr/local/lib/python3.10/dist-packages (from streamlit) (4.2.2)\n",
            "Requirement already satisfied: blinker<2,>=1.0.0 in /usr/lib/python3/dist-packages (from streamlit) (1.4)\n",
            "Requirement already satisfied: cachetools<6,>=4.0 in /usr/local/lib/python3.10/dist-packages (from streamlit) (5.3.2)\n",
            "Requirement already satisfied: click<9,>=7.0 in /usr/local/lib/python3.10/dist-packages (from streamlit) (8.1.7)\n",
            "Collecting importlib-metadata<7,>=1.4 (from streamlit)\n",
            "  Downloading importlib_metadata-6.11.0-py3-none-any.whl (23 kB)\n",
            "Requirement already satisfied: numpy<2,>=1.19.3 in /usr/local/lib/python3.10/dist-packages (from streamlit) (1.23.5)\n",
            "Requirement already satisfied: packaging<24,>=16.8 in /usr/local/lib/python3.10/dist-packages (from streamlit) (23.2)\n",
            "Requirement already satisfied: pandas<3,>=1.3.0 in /usr/local/lib/python3.10/dist-packages (from streamlit) (1.5.3)\n",
            "Requirement already satisfied: pillow<11,>=7.1.0 in /usr/local/lib/python3.10/dist-packages (from streamlit) (9.4.0)\n",
            "Requirement already satisfied: protobuf<5,>=3.20 in /usr/local/lib/python3.10/dist-packages (from streamlit) (3.20.3)\n",
            "Requirement already satisfied: pyarrow>=6.0 in /usr/local/lib/python3.10/dist-packages (from streamlit) (10.0.1)\n",
            "Requirement already satisfied: python-dateutil<3,>=2.7.3 in /usr/local/lib/python3.10/dist-packages (from streamlit) (2.8.2)\n",
            "Requirement already satisfied: requests<3,>=2.27 in /usr/local/lib/python3.10/dist-packages (from streamlit) (2.31.0)\n",
            "Requirement already satisfied: rich<14,>=10.14.0 in /usr/local/lib/python3.10/dist-packages (from streamlit) (13.7.0)\n",
            "Requirement already satisfied: tenacity<9,>=8.1.0 in /usr/local/lib/python3.10/dist-packages (from streamlit) (8.2.3)\n",
            "Requirement already satisfied: toml<2,>=0.10.1 in /usr/local/lib/python3.10/dist-packages (from streamlit) (0.10.2)\n",
            "Requirement already satisfied: typing-extensions<5,>=4.3.0 in /usr/local/lib/python3.10/dist-packages (from streamlit) (4.5.0)\n",
            "Requirement already satisfied: tzlocal<6,>=1.1 in /usr/local/lib/python3.10/dist-packages (from streamlit) (5.2)\n",
            "Collecting validators<1,>=0.2 (from streamlit)\n",
            "  Downloading validators-0.22.0-py3-none-any.whl (26 kB)\n",
            "Collecting gitpython!=3.1.19,<4,>=3.0.7 (from streamlit)\n",
            "  Downloading GitPython-3.1.40-py3-none-any.whl (190 kB)\n",
            "\u001b[2K     \u001b[90m━━━━━━━━━━━━━━━━━━━━━━━━━━━━━━━━━━━━━━━━\u001b[0m \u001b[32m190.6/190.6 kB\u001b[0m \u001b[31m14.9 MB/s\u001b[0m eta \u001b[36m0:00:00\u001b[0m\n",
            "\u001b[?25hCollecting pydeck<1,>=0.8.0b4 (from streamlit)\n",
            "  Downloading pydeck-0.8.1b0-py2.py3-none-any.whl (4.8 MB)\n",
            "\u001b[2K     \u001b[90m━━━━━━━━━━━━━━━━━━━━━━━━━━━━━━━━━━━━━━━━\u001b[0m \u001b[32m4.8/4.8 MB\u001b[0m \u001b[31m27.2 MB/s\u001b[0m eta \u001b[36m0:00:00\u001b[0m\n",
            "\u001b[?25hRequirement already satisfied: tornado<7,>=6.0.3 in /usr/local/lib/python3.10/dist-packages (from streamlit) (6.3.2)\n",
            "Collecting watchdog>=2.1.5 (from streamlit)\n",
            "  Downloading watchdog-3.0.0-py3-none-manylinux2014_x86_64.whl (82 kB)\n",
            "\u001b[2K     \u001b[90m━━━━━━━━━━━━━━━━━━━━━━━━━━━━━━━━━━━━━━━━\u001b[0m \u001b[32m82.1/82.1 kB\u001b[0m \u001b[31m2.5 MB/s\u001b[0m eta \u001b[36m0:00:00\u001b[0m\n",
            "\u001b[?25hRequirement already satisfied: entrypoints in /usr/local/lib/python3.10/dist-packages (from altair<6,>=4.0->streamlit) (0.4)\n",
            "Requirement already satisfied: jinja2 in /usr/local/lib/python3.10/dist-packages (from altair<6,>=4.0->streamlit) (3.1.2)\n",
            "Requirement already satisfied: jsonschema>=3.0 in /usr/local/lib/python3.10/dist-packages (from altair<6,>=4.0->streamlit) (4.19.2)\n",
            "Requirement already satisfied: toolz in /usr/local/lib/python3.10/dist-packages (from altair<6,>=4.0->streamlit) (0.12.0)\n",
            "Collecting gitdb<5,>=4.0.1 (from gitpython!=3.1.19,<4,>=3.0.7->streamlit)\n",
            "  Downloading gitdb-4.0.11-py3-none-any.whl (62 kB)\n",
            "\u001b[2K     \u001b[90m━━━━━━━━━━━━━━━━━━━━━━━━━━━━━━━━━━━━━━━━\u001b[0m \u001b[32m62.7/62.7 kB\u001b[0m \u001b[31m5.6 MB/s\u001b[0m eta \u001b[36m0:00:00\u001b[0m\n",
            "\u001b[?25hRequirement already satisfied: zipp>=0.5 in /usr/local/lib/python3.10/dist-packages (from importlib-metadata<7,>=1.4->streamlit) (3.17.0)\n",
            "Requirement already satisfied: pytz>=2020.1 in /usr/local/lib/python3.10/dist-packages (from pandas<3,>=1.3.0->streamlit) (2023.3.post1)\n",
            "Requirement already satisfied: six>=1.5 in /usr/local/lib/python3.10/dist-packages (from python-dateutil<3,>=2.7.3->streamlit) (1.16.0)\n",
            "Requirement already satisfied: charset-normalizer<4,>=2 in /usr/local/lib/python3.10/dist-packages (from requests<3,>=2.27->streamlit) (3.3.2)\n",
            "Requirement already satisfied: idna<4,>=2.5 in /usr/local/lib/python3.10/dist-packages (from requests<3,>=2.27->streamlit) (3.6)\n",
            "Requirement already satisfied: urllib3<3,>=1.21.1 in /usr/local/lib/python3.10/dist-packages (from requests<3,>=2.27->streamlit) (2.0.7)\n",
            "Requirement already satisfied: certifi>=2017.4.17 in /usr/local/lib/python3.10/dist-packages (from requests<3,>=2.27->streamlit) (2023.11.17)\n",
            "Requirement already satisfied: markdown-it-py>=2.2.0 in /usr/local/lib/python3.10/dist-packages (from rich<14,>=10.14.0->streamlit) (3.0.0)\n",
            "Requirement already satisfied: pygments<3.0.0,>=2.13.0 in /usr/local/lib/python3.10/dist-packages (from rich<14,>=10.14.0->streamlit) (2.16.1)\n",
            "Collecting smmap<6,>=3.0.1 (from gitdb<5,>=4.0.1->gitpython!=3.1.19,<4,>=3.0.7->streamlit)\n",
            "  Downloading smmap-5.0.1-py3-none-any.whl (24 kB)\n",
            "Requirement already satisfied: MarkupSafe>=2.0 in /usr/local/lib/python3.10/dist-packages (from jinja2->altair<6,>=4.0->streamlit) (2.1.3)\n",
            "Requirement already satisfied: attrs>=22.2.0 in /usr/local/lib/python3.10/dist-packages (from jsonschema>=3.0->altair<6,>=4.0->streamlit) (23.1.0)\n",
            "Requirement already satisfied: jsonschema-specifications>=2023.03.6 in /usr/local/lib/python3.10/dist-packages (from jsonschema>=3.0->altair<6,>=4.0->streamlit) (2023.11.2)\n",
            "Requirement already satisfied: referencing>=0.28.4 in /usr/local/lib/python3.10/dist-packages (from jsonschema>=3.0->altair<6,>=4.0->streamlit) (0.32.0)\n",
            "Requirement already satisfied: rpds-py>=0.7.1 in /usr/local/lib/python3.10/dist-packages (from jsonschema>=3.0->altair<6,>=4.0->streamlit) (0.13.2)\n",
            "Requirement already satisfied: mdurl~=0.1 in /usr/local/lib/python3.10/dist-packages (from markdown-it-py>=2.2.0->rich<14,>=10.14.0->streamlit) (0.1.2)\n",
            "Installing collected packages: watchdog, validators, smmap, importlib-metadata, pydeck, gitdb, gitpython, streamlit\n",
            "  Attempting uninstall: importlib-metadata\n",
            "    Found existing installation: importlib-metadata 7.0.0\n",
            "    Uninstalling importlib-metadata-7.0.0:\n",
            "      Successfully uninstalled importlib-metadata-7.0.0\n",
            "Successfully installed gitdb-4.0.11 gitpython-3.1.40 importlib-metadata-6.11.0 pydeck-0.8.1b0 smmap-5.0.1 streamlit-1.29.0 validators-0.22.0 watchdog-3.0.0\n"
          ]
        }
      ]
    },
    {
      "cell_type": "code",
      "source": [
        "pip install PyVirtualDisplay"
      ],
      "metadata": {
        "colab": {
          "base_uri": "https://localhost:8080/"
        },
        "id": "C0lpO-XpmC-A",
        "outputId": "8a7e6fed-a79d-42d8-e823-91bf5f0c28c3"
      },
      "execution_count": null,
      "outputs": [
        {
          "output_type": "stream",
          "name": "stdout",
          "text": [
            "Collecting PyVirtualDisplay\n",
            "  Downloading PyVirtualDisplay-3.0-py3-none-any.whl (15 kB)\n",
            "Installing collected packages: PyVirtualDisplay\n",
            "Successfully installed PyVirtualDisplay-3.0\n"
          ]
        }
      ]
    }
  ]
}