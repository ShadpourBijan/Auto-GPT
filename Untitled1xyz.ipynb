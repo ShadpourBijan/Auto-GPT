{
  "nbformat": 4,
  "nbformat_minor": 0,
  "metadata": {
    "colab": {
      "provenance": [],
      "authorship_tag": "ABX9TyOKvD2q1e4Dc9e96Lg2VF6L",
      "include_colab_link": true
    },
    "kernelspec": {
      "name": "python3",
      "display_name": "Python 3"
    },
    "language_info": {
      "name": "python"
    }
  },
  "cells": [
    {
      "cell_type": "markdown",
      "metadata": {
        "id": "view-in-github",
        "colab_type": "text"
      },
      "source": [
        "<a href=\"https://colab.research.google.com/github/ShadpourBijan/Auto-GPT/blob/master/Untitled1xyz.ipynb\" target=\"_parent\"><img src=\"https://colab.research.google.com/assets/colab-badge.svg\" alt=\"Open In Colab\"/></a>"
      ]
    },
    {
      "cell_type": "code",
      "execution_count": null,
      "metadata": {
        "colab": {
          "base_uri": "https://localhost:8080/"
        },
        "id": "RBEcI6wfdfZw",
        "outputId": "a7a86252-6aa0-4bf3-a3cd-ad14babe8246"
      },
      "outputs": [
        {
          "output_type": "stream",
          "name": "stdout",
          "text": [
            "Collecting deep_translator\n",
            "  Downloading deep_translator-1.11.4-py3-none-any.whl (42 kB)\n",
            "\u001b[?25l     \u001b[90m━━━━━━━━━━━━━━━━━━━━━━━━━━━━━━━━━━━━━━━━\u001b[0m \u001b[32m0.0/42.3 kB\u001b[0m \u001b[31m?\u001b[0m eta \u001b[36m-:--:--\u001b[0m\r\u001b[2K     \u001b[91m━━━━━━━━━━━━━━━━━━━━━━━━━━━━━━━━━━━━━━\u001b[0m\u001b[91m╸\u001b[0m\u001b[90m━\u001b[0m \u001b[32m41.0/42.3 kB\u001b[0m \u001b[31m1.1 MB/s\u001b[0m eta \u001b[36m0:00:01\u001b[0m\r\u001b[2K     \u001b[90m━━━━━━━━━━━━━━━━━━━━━━━━━━━━━━━━━━━━━━━━\u001b[0m \u001b[32m42.3/42.3 kB\u001b[0m \u001b[31m955.3 kB/s\u001b[0m eta \u001b[36m0:00:00\u001b[0m\n",
            "\u001b[?25hRequirement already satisfied: beautifulsoup4<5.0.0,>=4.9.1 in /usr/local/lib/python3.10/dist-packages (from deep_translator) (4.11.2)\n",
            "Requirement already satisfied: requests<3.0.0,>=2.23.0 in /usr/local/lib/python3.10/dist-packages (from deep_translator) (2.31.0)\n",
            "Requirement already satisfied: soupsieve>1.2 in /usr/local/lib/python3.10/dist-packages (from beautifulsoup4<5.0.0,>=4.9.1->deep_translator) (2.5)\n",
            "Requirement already satisfied: charset-normalizer<4,>=2 in /usr/local/lib/python3.10/dist-packages (from requests<3.0.0,>=2.23.0->deep_translator) (3.3.2)\n",
            "Requirement already satisfied: idna<4,>=2.5 in /usr/local/lib/python3.10/dist-packages (from requests<3.0.0,>=2.23.0->deep_translator) (3.6)\n",
            "Requirement already satisfied: urllib3<3,>=1.21.1 in /usr/local/lib/python3.10/dist-packages (from requests<3.0.0,>=2.23.0->deep_translator) (2.0.7)\n",
            "Requirement already satisfied: certifi>=2017.4.17 in /usr/local/lib/python3.10/dist-packages (from requests<3.0.0,>=2.23.0->deep_translator) (2023.11.17)\n",
            "Installing collected packages: deep_translator\n",
            "Successfully installed deep_translator-1.11.4\n"
          ]
        }
      ],
      "source": [
        "pip install deep_translator"
      ]
    },
    {
      "cell_type": "code",
      "source": [
        "pip install streamlit"
      ],
      "metadata": {
        "colab": {
          "base_uri": "https://localhost:8080/"
        },
        "id": "n2ZdvW-QeDpE",
        "outputId": "debcfeea-20aa-4232-e5a3-4c024e48bcb2"
      },
      "execution_count": null,
      "outputs": [
        {
          "output_type": "stream",
          "name": "stdout",
          "text": [
            "Collecting streamlit\n",
            "  Downloading streamlit-1.29.0-py2.py3-none-any.whl (8.4 MB)\n",
            "\u001b[2K     \u001b[90m━━━━━━━━━━━━━━━━━━━━━━━━━━━━━━━━━━━━━━━━\u001b[0m \u001b[32m8.4/8.4 MB\u001b[0m \u001b[31m52.1 MB/s\u001b[0m eta \u001b[36m0:00:00\u001b[0m\n",
            "\u001b[?25hRequirement already satisfied: altair<6,>=4.0 in /usr/local/lib/python3.10/dist-packages (from streamlit) (4.2.2)\n",
            "Requirement already satisfied: blinker<2,>=1.0.0 in /usr/lib/python3/dist-packages (from streamlit) (1.4)\n",
            "Requirement already satisfied: cachetools<6,>=4.0 in /usr/local/lib/python3.10/dist-packages (from streamlit) (5.3.2)\n",
            "Requirement already satisfied: click<9,>=7.0 in /usr/local/lib/python3.10/dist-packages (from streamlit) (8.1.7)\n",
            "Requirement already satisfied: importlib-metadata<7,>=1.4 in /usr/local/lib/python3.10/dist-packages (from streamlit) (6.8.0)\n",
            "Requirement already satisfied: numpy<2,>=1.19.3 in /usr/local/lib/python3.10/dist-packages (from streamlit) (1.23.5)\n",
            "Requirement already satisfied: packaging<24,>=16.8 in /usr/local/lib/python3.10/dist-packages (from streamlit) (23.2)\n",
            "Requirement already satisfied: pandas<3,>=1.3.0 in /usr/local/lib/python3.10/dist-packages (from streamlit) (1.5.3)\n",
            "Requirement already satisfied: pillow<11,>=7.1.0 in /usr/local/lib/python3.10/dist-packages (from streamlit) (9.4.0)\n",
            "Requirement already satisfied: protobuf<5,>=3.20 in /usr/local/lib/python3.10/dist-packages (from streamlit) (3.20.3)\n",
            "Requirement already satisfied: pyarrow>=6.0 in /usr/local/lib/python3.10/dist-packages (from streamlit) (9.0.0)\n",
            "Requirement already satisfied: python-dateutil<3,>=2.7.3 in /usr/local/lib/python3.10/dist-packages (from streamlit) (2.8.2)\n",
            "Requirement already satisfied: requests<3,>=2.27 in /usr/local/lib/python3.10/dist-packages (from streamlit) (2.31.0)\n",
            "Requirement already satisfied: rich<14,>=10.14.0 in /usr/local/lib/python3.10/dist-packages (from streamlit) (13.7.0)\n",
            "Requirement already satisfied: tenacity<9,>=8.1.0 in /usr/local/lib/python3.10/dist-packages (from streamlit) (8.2.3)\n",
            "Requirement already satisfied: toml<2,>=0.10.1 in /usr/local/lib/python3.10/dist-packages (from streamlit) (0.10.2)\n",
            "Requirement already satisfied: typing-extensions<5,>=4.3.0 in /usr/local/lib/python3.10/dist-packages (from streamlit) (4.5.0)\n",
            "Requirement already satisfied: tzlocal<6,>=1.1 in /usr/local/lib/python3.10/dist-packages (from streamlit) (5.2)\n",
            "Collecting validators<1,>=0.2 (from streamlit)\n",
            "  Downloading validators-0.22.0-py3-none-any.whl (26 kB)\n",
            "Collecting gitpython!=3.1.19,<4,>=3.0.7 (from streamlit)\n",
            "  Downloading GitPython-3.1.40-py3-none-any.whl (190 kB)\n",
            "\u001b[2K     \u001b[90m━━━━━━━━━━━━━━━━━━━━━━━━━━━━━━━━━━━━━━━━\u001b[0m \u001b[32m190.6/190.6 kB\u001b[0m \u001b[31m17.5 MB/s\u001b[0m eta \u001b[36m0:00:00\u001b[0m\n",
            "\u001b[?25hCollecting pydeck<1,>=0.8.0b4 (from streamlit)\n",
            "  Downloading pydeck-0.8.1b0-py2.py3-none-any.whl (4.8 MB)\n",
            "\u001b[2K     \u001b[90m━━━━━━━━━━━━━━━━━━━━━━━━━━━━━━━━━━━━━━━━\u001b[0m \u001b[32m4.8/4.8 MB\u001b[0m \u001b[31m81.0 MB/s\u001b[0m eta \u001b[36m0:00:00\u001b[0m\n",
            "\u001b[?25hRequirement already satisfied: tornado<7,>=6.0.3 in /usr/local/lib/python3.10/dist-packages (from streamlit) (6.3.2)\n",
            "Collecting watchdog>=2.1.5 (from streamlit)\n",
            "  Downloading watchdog-3.0.0-py3-none-manylinux2014_x86_64.whl (82 kB)\n",
            "\u001b[2K     \u001b[90m━━━━━━━━━━━━━━━━━━━━━━━━━━━━━━━━━━━━━━━━\u001b[0m \u001b[32m82.1/82.1 kB\u001b[0m \u001b[31m6.7 MB/s\u001b[0m eta \u001b[36m0:00:00\u001b[0m\n",
            "\u001b[?25hRequirement already satisfied: entrypoints in /usr/local/lib/python3.10/dist-packages (from altair<6,>=4.0->streamlit) (0.4)\n",
            "Requirement already satisfied: jinja2 in /usr/local/lib/python3.10/dist-packages (from altair<6,>=4.0->streamlit) (3.1.2)\n",
            "Requirement already satisfied: jsonschema>=3.0 in /usr/local/lib/python3.10/dist-packages (from altair<6,>=4.0->streamlit) (4.19.2)\n",
            "Requirement already satisfied: toolz in /usr/local/lib/python3.10/dist-packages (from altair<6,>=4.0->streamlit) (0.12.0)\n",
            "Collecting gitdb<5,>=4.0.1 (from gitpython!=3.1.19,<4,>=3.0.7->streamlit)\n",
            "  Downloading gitdb-4.0.11-py3-none-any.whl (62 kB)\n",
            "\u001b[2K     \u001b[90m━━━━━━━━━━━━━━━━━━━━━━━━━━━━━━━━━━━━━━━━\u001b[0m \u001b[32m62.7/62.7 kB\u001b[0m \u001b[31m6.9 MB/s\u001b[0m eta \u001b[36m0:00:00\u001b[0m\n",
            "\u001b[?25hRequirement already satisfied: zipp>=0.5 in /usr/local/lib/python3.10/dist-packages (from importlib-metadata<7,>=1.4->streamlit) (3.17.0)\n",
            "Requirement already satisfied: pytz>=2020.1 in /usr/local/lib/python3.10/dist-packages (from pandas<3,>=1.3.0->streamlit) (2023.3.post1)\n",
            "Requirement already satisfied: six>=1.5 in /usr/local/lib/python3.10/dist-packages (from python-dateutil<3,>=2.7.3->streamlit) (1.16.0)\n",
            "Requirement already satisfied: charset-normalizer<4,>=2 in /usr/local/lib/python3.10/dist-packages (from requests<3,>=2.27->streamlit) (3.3.2)\n",
            "Requirement already satisfied: idna<4,>=2.5 in /usr/local/lib/python3.10/dist-packages (from requests<3,>=2.27->streamlit) (3.6)\n",
            "Requirement already satisfied: urllib3<3,>=1.21.1 in /usr/local/lib/python3.10/dist-packages (from requests<3,>=2.27->streamlit) (2.0.7)\n",
            "Requirement already satisfied: certifi>=2017.4.17 in /usr/local/lib/python3.10/dist-packages (from requests<3,>=2.27->streamlit) (2023.11.17)\n",
            "Requirement already satisfied: markdown-it-py>=2.2.0 in /usr/local/lib/python3.10/dist-packages (from rich<14,>=10.14.0->streamlit) (3.0.0)\n",
            "Requirement already satisfied: pygments<3.0.0,>=2.13.0 in /usr/local/lib/python3.10/dist-packages (from rich<14,>=10.14.0->streamlit) (2.16.1)\n",
            "Collecting smmap<6,>=3.0.1 (from gitdb<5,>=4.0.1->gitpython!=3.1.19,<4,>=3.0.7->streamlit)\n",
            "  Downloading smmap-5.0.1-py3-none-any.whl (24 kB)\n",
            "Requirement already satisfied: MarkupSafe>=2.0 in /usr/local/lib/python3.10/dist-packages (from jinja2->altair<6,>=4.0->streamlit) (2.1.3)\n",
            "Requirement already satisfied: attrs>=22.2.0 in /usr/local/lib/python3.10/dist-packages (from jsonschema>=3.0->altair<6,>=4.0->streamlit) (23.1.0)\n",
            "Requirement already satisfied: jsonschema-specifications>=2023.03.6 in /usr/local/lib/python3.10/dist-packages (from jsonschema>=3.0->altair<6,>=4.0->streamlit) (2023.11.1)\n",
            "Requirement already satisfied: referencing>=0.28.4 in /usr/local/lib/python3.10/dist-packages (from jsonschema>=3.0->altair<6,>=4.0->streamlit) (0.31.1)\n",
            "Requirement already satisfied: rpds-py>=0.7.1 in /usr/local/lib/python3.10/dist-packages (from jsonschema>=3.0->altair<6,>=4.0->streamlit) (0.13.2)\n",
            "Requirement already satisfied: mdurl~=0.1 in /usr/local/lib/python3.10/dist-packages (from markdown-it-py>=2.2.0->rich<14,>=10.14.0->streamlit) (0.1.2)\n",
            "Installing collected packages: watchdog, validators, smmap, pydeck, gitdb, gitpython, streamlit\n",
            "Successfully installed gitdb-4.0.11 gitpython-3.1.40 pydeck-0.8.1b0 smmap-5.0.1 streamlit-1.29.0 validators-0.22.0 watchdog-3.0.0\n"
          ]
        }
      ]
    },
    {
      "cell_type": "code",
      "source": [
        "pip install  databutton"
      ],
      "metadata": {
        "colab": {
          "base_uri": "https://localhost:8080/",
          "height": 1000
        },
        "id": "68XzTnBVedV7",
        "outputId": "7d0a3e18-8b22-439f-8df6-62fe7bc27f0d"
      },
      "execution_count": null,
      "outputs": [
        {
          "output_type": "stream",
          "name": "stdout",
          "text": [
            "Collecting databutton\n",
            "  Downloading databutton-0.36.6-py3-none-any.whl (22 kB)\n",
            "Requirement already satisfied: PyJWT<3.0.0,>=2.2.0 in /usr/lib/python3/dist-packages (from databutton) (2.3.0)\n",
            "Requirement already satisfied: PyYAML<7.0,>=6.0 in /usr/local/lib/python3.10/dist-packages (from databutton) (6.0.1)\n",
            "Collecting certifi<2023.0.0,>=2022.12.7 (from databutton)\n",
            "  Downloading certifi-2022.12.7-py3-none-any.whl (155 kB)\n",
            "\u001b[2K     \u001b[90m━━━━━━━━━━━━━━━━━━━━━━━━━━━━━━━━━━━━━━━━\u001b[0m \u001b[32m155.3/155.3 kB\u001b[0m \u001b[31m3.7 MB/s\u001b[0m eta \u001b[36m0:00:00\u001b[0m\n",
            "\u001b[?25hCollecting cryptography<41.0.0,>=40.0.1 (from databutton)\n",
            "  Downloading cryptography-40.0.2-cp36-abi3-manylinux_2_28_x86_64.whl (3.7 MB)\n",
            "\u001b[2K     \u001b[90m━━━━━━━━━━━━━━━━━━━━━━━━━━━━━━━━━━━━━━━━\u001b[0m \u001b[32m3.7/3.7 MB\u001b[0m \u001b[31m46.3 MB/s\u001b[0m eta \u001b[36m0:00:00\u001b[0m\n",
            "\u001b[?25hCollecting httpx<1,>=0.20.0 (from databutton)\n",
            "  Downloading httpx-0.25.2-py3-none-any.whl (74 kB)\n",
            "\u001b[2K     \u001b[90m━━━━━━━━━━━━━━━━━━━━━━━━━━━━━━━━━━━━━━━━\u001b[0m \u001b[32m75.0/75.0 kB\u001b[0m \u001b[31m7.1 MB/s\u001b[0m eta \u001b[36m0:00:00\u001b[0m\n",
            "\u001b[?25hRequirement already satisfied: pandas<3,>=0.25 in /usr/local/lib/python3.10/dist-packages (from databutton) (1.5.3)\n",
            "Requirement already satisfied: pydantic<2.0.0,>=1.8.0 in /usr/local/lib/python3.10/dist-packages (from databutton) (1.10.13)\n",
            "Requirement already satisfied: streamlit<2.0.0,>=1.20.0 in /usr/local/lib/python3.10/dist-packages (from databutton) (1.29.0)\n",
            "Requirement already satisfied: tenacity<9.0.0,>=8.0.0 in /usr/local/lib/python3.10/dist-packages (from databutton) (8.2.3)\n",
            "Requirement already satisfied: cffi>=1.12 in /usr/local/lib/python3.10/dist-packages (from cryptography<41.0.0,>=40.0.1->databutton) (1.16.0)\n",
            "Requirement already satisfied: anyio in /usr/local/lib/python3.10/dist-packages (from httpx<1,>=0.20.0->databutton) (3.7.1)\n",
            "Collecting httpcore==1.* (from httpx<1,>=0.20.0->databutton)\n",
            "  Downloading httpcore-1.0.2-py3-none-any.whl (76 kB)\n",
            "\u001b[2K     \u001b[90m━━━━━━━━━━━━━━━━━━━━━━━━━━━━━━━━━━━━━━━━\u001b[0m \u001b[32m76.9/76.9 kB\u001b[0m \u001b[31m9.8 MB/s\u001b[0m eta \u001b[36m0:00:00\u001b[0m\n",
            "\u001b[?25hRequirement already satisfied: idna in /usr/local/lib/python3.10/dist-packages (from httpx<1,>=0.20.0->databutton) (3.6)\n",
            "Requirement already satisfied: sniffio in /usr/local/lib/python3.10/dist-packages (from httpx<1,>=0.20.0->databutton) (1.3.0)\n",
            "Collecting h11<0.15,>=0.13 (from httpcore==1.*->httpx<1,>=0.20.0->databutton)\n",
            "  Downloading h11-0.14.0-py3-none-any.whl (58 kB)\n",
            "\u001b[2K     \u001b[90m━━━━━━━━━━━━━━━━━━━━━━━━━━━━━━━━━━━━━━━━\u001b[0m \u001b[32m58.3/58.3 kB\u001b[0m \u001b[31m7.4 MB/s\u001b[0m eta \u001b[36m0:00:00\u001b[0m\n",
            "\u001b[?25hRequirement already satisfied: python-dateutil>=2.8.1 in /usr/local/lib/python3.10/dist-packages (from pandas<3,>=0.25->databutton) (2.8.2)\n",
            "Requirement already satisfied: pytz>=2020.1 in /usr/local/lib/python3.10/dist-packages (from pandas<3,>=0.25->databutton) (2023.3.post1)\n",
            "Requirement already satisfied: numpy>=1.21.0 in /usr/local/lib/python3.10/dist-packages (from pandas<3,>=0.25->databutton) (1.23.5)\n",
            "Requirement already satisfied: typing-extensions>=4.2.0 in /usr/local/lib/python3.10/dist-packages (from pydantic<2.0.0,>=1.8.0->databutton) (4.5.0)\n",
            "Requirement already satisfied: altair<6,>=4.0 in /usr/local/lib/python3.10/dist-packages (from streamlit<2.0.0,>=1.20.0->databutton) (4.2.2)\n",
            "Requirement already satisfied: blinker<2,>=1.0.0 in /usr/lib/python3/dist-packages (from streamlit<2.0.0,>=1.20.0->databutton) (1.4)\n",
            "Requirement already satisfied: cachetools<6,>=4.0 in /usr/local/lib/python3.10/dist-packages (from streamlit<2.0.0,>=1.20.0->databutton) (5.3.2)\n",
            "Requirement already satisfied: click<9,>=7.0 in /usr/local/lib/python3.10/dist-packages (from streamlit<2.0.0,>=1.20.0->databutton) (8.1.7)\n",
            "Requirement already satisfied: importlib-metadata<7,>=1.4 in /usr/local/lib/python3.10/dist-packages (from streamlit<2.0.0,>=1.20.0->databutton) (6.8.0)\n",
            "Requirement already satisfied: packaging<24,>=16.8 in /usr/local/lib/python3.10/dist-packages (from streamlit<2.0.0,>=1.20.0->databutton) (23.2)\n",
            "Requirement already satisfied: pillow<11,>=7.1.0 in /usr/local/lib/python3.10/dist-packages (from streamlit<2.0.0,>=1.20.0->databutton) (9.4.0)\n",
            "Requirement already satisfied: protobuf<5,>=3.20 in /usr/local/lib/python3.10/dist-packages (from streamlit<2.0.0,>=1.20.0->databutton) (3.20.3)\n",
            "Requirement already satisfied: pyarrow>=6.0 in /usr/local/lib/python3.10/dist-packages (from streamlit<2.0.0,>=1.20.0->databutton) (9.0.0)\n",
            "Requirement already satisfied: requests<3,>=2.27 in /usr/local/lib/python3.10/dist-packages (from streamlit<2.0.0,>=1.20.0->databutton) (2.31.0)\n",
            "Requirement already satisfied: rich<14,>=10.14.0 in /usr/local/lib/python3.10/dist-packages (from streamlit<2.0.0,>=1.20.0->databutton) (13.7.0)\n",
            "Requirement already satisfied: toml<2,>=0.10.1 in /usr/local/lib/python3.10/dist-packages (from streamlit<2.0.0,>=1.20.0->databutton) (0.10.2)\n",
            "Requirement already satisfied: tzlocal<6,>=1.1 in /usr/local/lib/python3.10/dist-packages (from streamlit<2.0.0,>=1.20.0->databutton) (5.2)\n",
            "Requirement already satisfied: validators<1,>=0.2 in /usr/local/lib/python3.10/dist-packages (from streamlit<2.0.0,>=1.20.0->databutton) (0.22.0)\n",
            "Requirement already satisfied: gitpython!=3.1.19,<4,>=3.0.7 in /usr/local/lib/python3.10/dist-packages (from streamlit<2.0.0,>=1.20.0->databutton) (3.1.40)\n",
            "Requirement already satisfied: pydeck<1,>=0.8.0b4 in /usr/local/lib/python3.10/dist-packages (from streamlit<2.0.0,>=1.20.0->databutton) (0.8.1b0)\n",
            "Requirement already satisfied: tornado<7,>=6.0.3 in /usr/local/lib/python3.10/dist-packages (from streamlit<2.0.0,>=1.20.0->databutton) (6.3.2)\n",
            "Requirement already satisfied: watchdog>=2.1.5 in /usr/local/lib/python3.10/dist-packages (from streamlit<2.0.0,>=1.20.0->databutton) (3.0.0)\n",
            "Requirement already satisfied: entrypoints in /usr/local/lib/python3.10/dist-packages (from altair<6,>=4.0->streamlit<2.0.0,>=1.20.0->databutton) (0.4)\n",
            "Requirement already satisfied: jinja2 in /usr/local/lib/python3.10/dist-packages (from altair<6,>=4.0->streamlit<2.0.0,>=1.20.0->databutton) (3.1.2)\n",
            "Requirement already satisfied: jsonschema>=3.0 in /usr/local/lib/python3.10/dist-packages (from altair<6,>=4.0->streamlit<2.0.0,>=1.20.0->databutton) (4.19.2)\n",
            "Requirement already satisfied: toolz in /usr/local/lib/python3.10/dist-packages (from altair<6,>=4.0->streamlit<2.0.0,>=1.20.0->databutton) (0.12.0)\n",
            "Requirement already satisfied: pycparser in /usr/local/lib/python3.10/dist-packages (from cffi>=1.12->cryptography<41.0.0,>=40.0.1->databutton) (2.21)\n",
            "Requirement already satisfied: gitdb<5,>=4.0.1 in /usr/local/lib/python3.10/dist-packages (from gitpython!=3.1.19,<4,>=3.0.7->streamlit<2.0.0,>=1.20.0->databutton) (4.0.11)\n",
            "Requirement already satisfied: zipp>=0.5 in /usr/local/lib/python3.10/dist-packages (from importlib-metadata<7,>=1.4->streamlit<2.0.0,>=1.20.0->databutton) (3.17.0)\n",
            "Requirement already satisfied: six>=1.5 in /usr/local/lib/python3.10/dist-packages (from python-dateutil>=2.8.1->pandas<3,>=0.25->databutton) (1.16.0)\n",
            "Requirement already satisfied: charset-normalizer<4,>=2 in /usr/local/lib/python3.10/dist-packages (from requests<3,>=2.27->streamlit<2.0.0,>=1.20.0->databutton) (3.3.2)\n",
            "Requirement already satisfied: urllib3<3,>=1.21.1 in /usr/local/lib/python3.10/dist-packages (from requests<3,>=2.27->streamlit<2.0.0,>=1.20.0->databutton) (2.0.7)\n",
            "Requirement already satisfied: markdown-it-py>=2.2.0 in /usr/local/lib/python3.10/dist-packages (from rich<14,>=10.14.0->streamlit<2.0.0,>=1.20.0->databutton) (3.0.0)\n",
            "Requirement already satisfied: pygments<3.0.0,>=2.13.0 in /usr/local/lib/python3.10/dist-packages (from rich<14,>=10.14.0->streamlit<2.0.0,>=1.20.0->databutton) (2.16.1)\n",
            "Requirement already satisfied: exceptiongroup in /usr/local/lib/python3.10/dist-packages (from anyio->httpx<1,>=0.20.0->databutton) (1.2.0)\n",
            "Requirement already satisfied: smmap<6,>=3.0.1 in /usr/local/lib/python3.10/dist-packages (from gitdb<5,>=4.0.1->gitpython!=3.1.19,<4,>=3.0.7->streamlit<2.0.0,>=1.20.0->databutton) (5.0.1)\n",
            "Requirement already satisfied: MarkupSafe>=2.0 in /usr/local/lib/python3.10/dist-packages (from jinja2->altair<6,>=4.0->streamlit<2.0.0,>=1.20.0->databutton) (2.1.3)\n",
            "Requirement already satisfied: attrs>=22.2.0 in /usr/local/lib/python3.10/dist-packages (from jsonschema>=3.0->altair<6,>=4.0->streamlit<2.0.0,>=1.20.0->databutton) (23.1.0)\n",
            "Requirement already satisfied: jsonschema-specifications>=2023.03.6 in /usr/local/lib/python3.10/dist-packages (from jsonschema>=3.0->altair<6,>=4.0->streamlit<2.0.0,>=1.20.0->databutton) (2023.11.1)\n",
            "Requirement already satisfied: referencing>=0.28.4 in /usr/local/lib/python3.10/dist-packages (from jsonschema>=3.0->altair<6,>=4.0->streamlit<2.0.0,>=1.20.0->databutton) (0.31.1)\n",
            "Requirement already satisfied: rpds-py>=0.7.1 in /usr/local/lib/python3.10/dist-packages (from jsonschema>=3.0->altair<6,>=4.0->streamlit<2.0.0,>=1.20.0->databutton) (0.13.2)\n",
            "Requirement already satisfied: mdurl~=0.1 in /usr/local/lib/python3.10/dist-packages (from markdown-it-py>=2.2.0->rich<14,>=10.14.0->streamlit<2.0.0,>=1.20.0->databutton) (0.1.2)\n",
            "Installing collected packages: h11, certifi, httpcore, cryptography, httpx, databutton\n",
            "  Attempting uninstall: certifi\n",
            "    Found existing installation: certifi 2023.11.17\n",
            "    Uninstalling certifi-2023.11.17:\n",
            "      Successfully uninstalled certifi-2023.11.17\n",
            "  Attempting uninstall: cryptography\n",
            "    Found existing installation: cryptography 41.0.7\n",
            "    Uninstalling cryptography-41.0.7:\n",
            "      Successfully uninstalled cryptography-41.0.7\n",
            "\u001b[31mERROR: pip's dependency resolver does not currently take into account all the packages that are installed. This behaviour is the source of the following dependency conflicts.\n",
            "lida 0.0.10 requires fastapi, which is not installed.\n",
            "lida 0.0.10 requires kaleido, which is not installed.\n",
            "lida 0.0.10 requires python-multipart, which is not installed.\n",
            "lida 0.0.10 requires uvicorn, which is not installed.\n",
            "pyopenssl 23.3.0 requires cryptography<42,>=41.0.5, but you have cryptography 40.0.2 which is incompatible.\u001b[0m\u001b[31m\n",
            "\u001b[0mSuccessfully installed certifi-2022.12.7 cryptography-40.0.2 databutton-0.36.6 h11-0.14.0 httpcore-1.0.2 httpx-0.25.2\n"
          ]
        },
        {
          "output_type": "display_data",
          "data": {
            "application/vnd.colab-display-data+json": {
              "pip_warning": {
                "packages": [
                  "certifi"
                ]
              }
            }
          },
          "metadata": {}
        }
      ]
    },
    {
      "cell_type": "code",
      "source": [
        "pip install pyChatGPT"
      ],
      "metadata": {
        "colab": {
          "base_uri": "https://localhost:8080/"
        },
        "id": "eTBHYp8bfMIX",
        "outputId": "9677c220-629b-4c02-9263-6032b76ced86"
      },
      "execution_count": null,
      "outputs": [
        {
          "output_type": "stream",
          "name": "stdout",
          "text": [
            "Collecting pyChatGPT\n",
            "  Downloading pyChatGPT-0.4.3.3-py3-none-any.whl (23 kB)\n",
            "Collecting undetected-chromedriver>=3.2.1 (from pyChatGPT)\n",
            "  Downloading undetected-chromedriver-3.5.4.tar.gz (65 kB)\n",
            "\u001b[2K     \u001b[90m━━━━━━━━━━━━━━━━━━━━━━━━━━━━━━━━━━━━━━━━\u001b[0m \u001b[32m65.4/65.4 kB\u001b[0m \u001b[31m1.7 MB/s\u001b[0m eta \u001b[36m0:00:00\u001b[0m\n",
            "\u001b[?25h  Preparing metadata (setup.py) ... \u001b[?25l\u001b[?25hdone\n",
            "Collecting markdownify>=0.11.6 (from pyChatGPT)\n",
            "  Downloading markdownify-0.11.6-py3-none-any.whl (16 kB)\n",
            "Requirement already satisfied: beautifulsoup4<5,>=4.9 in /usr/local/lib/python3.10/dist-packages (from markdownify>=0.11.6->pyChatGPT) (4.11.2)\n",
            "Requirement already satisfied: six<2,>=1.15 in /usr/local/lib/python3.10/dist-packages (from markdownify>=0.11.6->pyChatGPT) (1.16.0)\n",
            "Collecting selenium>=4.9.0 (from undetected-chromedriver>=3.2.1->pyChatGPT)\n",
            "  Downloading selenium-4.15.2-py3-none-any.whl (10.2 MB)\n",
            "\u001b[2K     \u001b[90m━━━━━━━━━━━━━━━━━━━━━━━━━━━━━━━━━━━━━━━━\u001b[0m \u001b[32m10.2/10.2 MB\u001b[0m \u001b[31m58.0 MB/s\u001b[0m eta \u001b[36m0:00:00\u001b[0m\n",
            "\u001b[?25hRequirement already satisfied: requests in /usr/local/lib/python3.10/dist-packages (from undetected-chromedriver>=3.2.1->pyChatGPT) (2.31.0)\n",
            "Collecting websockets (from undetected-chromedriver>=3.2.1->pyChatGPT)\n",
            "  Downloading websockets-12.0-cp310-cp310-manylinux_2_5_x86_64.manylinux1_x86_64.manylinux_2_17_x86_64.manylinux2014_x86_64.whl (130 kB)\n",
            "\u001b[2K     \u001b[90m━━━━━━━━━━━━━━━━━━━━━━━━━━━━━━━━━━━━━━━━\u001b[0m \u001b[32m130.2/130.2 kB\u001b[0m \u001b[31m13.3 MB/s\u001b[0m eta \u001b[36m0:00:00\u001b[0m\n",
            "\u001b[?25hRequirement already satisfied: soupsieve>1.2 in /usr/local/lib/python3.10/dist-packages (from beautifulsoup4<5,>=4.9->markdownify>=0.11.6->pyChatGPT) (2.5)\n",
            "Requirement already satisfied: urllib3[socks]<3,>=1.26 in /usr/local/lib/python3.10/dist-packages (from selenium>=4.9.0->undetected-chromedriver>=3.2.1->pyChatGPT) (2.0.7)\n",
            "Collecting trio~=0.17 (from selenium>=4.9.0->undetected-chromedriver>=3.2.1->pyChatGPT)\n",
            "  Downloading trio-0.23.1-py3-none-any.whl (448 kB)\n",
            "\u001b[2K     \u001b[90m━━━━━━━━━━━━━━━━━━━━━━━━━━━━━━━━━━━━━━━━\u001b[0m \u001b[32m448.3/448.3 kB\u001b[0m \u001b[31m34.8 MB/s\u001b[0m eta \u001b[36m0:00:00\u001b[0m\n",
            "\u001b[?25hCollecting trio-websocket~=0.9 (from selenium>=4.9.0->undetected-chromedriver>=3.2.1->pyChatGPT)\n",
            "  Downloading trio_websocket-0.11.1-py3-none-any.whl (17 kB)\n",
            "Requirement already satisfied: certifi>=2021.10.8 in /usr/local/lib/python3.10/dist-packages (from selenium>=4.9.0->undetected-chromedriver>=3.2.1->pyChatGPT) (2022.12.7)\n",
            "Requirement already satisfied: charset-normalizer<4,>=2 in /usr/local/lib/python3.10/dist-packages (from requests->undetected-chromedriver>=3.2.1->pyChatGPT) (3.3.2)\n",
            "Requirement already satisfied: idna<4,>=2.5 in /usr/local/lib/python3.10/dist-packages (from requests->undetected-chromedriver>=3.2.1->pyChatGPT) (3.6)\n",
            "Requirement already satisfied: attrs>=20.1.0 in /usr/local/lib/python3.10/dist-packages (from trio~=0.17->selenium>=4.9.0->undetected-chromedriver>=3.2.1->pyChatGPT) (23.1.0)\n",
            "Requirement already satisfied: sortedcontainers in /usr/local/lib/python3.10/dist-packages (from trio~=0.17->selenium>=4.9.0->undetected-chromedriver>=3.2.1->pyChatGPT) (2.4.0)\n",
            "Collecting outcome (from trio~=0.17->selenium>=4.9.0->undetected-chromedriver>=3.2.1->pyChatGPT)\n",
            "  Downloading outcome-1.3.0.post0-py2.py3-none-any.whl (10 kB)\n",
            "Requirement already satisfied: sniffio>=1.3.0 in /usr/local/lib/python3.10/dist-packages (from trio~=0.17->selenium>=4.9.0->undetected-chromedriver>=3.2.1->pyChatGPT) (1.3.0)\n",
            "Requirement already satisfied: exceptiongroup>=1.0.0rc9 in /usr/local/lib/python3.10/dist-packages (from trio~=0.17->selenium>=4.9.0->undetected-chromedriver>=3.2.1->pyChatGPT) (1.2.0)\n",
            "Collecting wsproto>=0.14 (from trio-websocket~=0.9->selenium>=4.9.0->undetected-chromedriver>=3.2.1->pyChatGPT)\n",
            "  Downloading wsproto-1.2.0-py3-none-any.whl (24 kB)\n",
            "Requirement already satisfied: pysocks!=1.5.7,<2.0,>=1.5.6 in /usr/local/lib/python3.10/dist-packages (from urllib3[socks]<3,>=1.26->selenium>=4.9.0->undetected-chromedriver>=3.2.1->pyChatGPT) (1.7.1)\n",
            "Requirement already satisfied: h11<1,>=0.9.0 in /usr/local/lib/python3.10/dist-packages (from wsproto>=0.14->trio-websocket~=0.9->selenium>=4.9.0->undetected-chromedriver>=3.2.1->pyChatGPT) (0.14.0)\n",
            "Building wheels for collected packages: undetected-chromedriver\n",
            "  Building wheel for undetected-chromedriver (setup.py) ... \u001b[?25l\u001b[?25hdone\n",
            "  Created wheel for undetected-chromedriver: filename=undetected_chromedriver-3.5.4-py3-none-any.whl size=47055 sha256=ef20e41b5c5297840835451f34bd95847a7afe2502f7e777be7598b51ae28254\n",
            "  Stored in directory: /root/.cache/pip/wheels/0c/a6/72/5c948853baf75d52f1da173bd8fc9d7ad7615608e0ffaead6d\n",
            "Successfully built undetected-chromedriver\n",
            "Installing collected packages: wsproto, websockets, outcome, trio, markdownify, trio-websocket, selenium, undetected-chromedriver, pyChatGPT\n",
            "Successfully installed markdownify-0.11.6 outcome-1.3.0.post0 pyChatGPT-0.4.3.3 selenium-4.15.2 trio-0.23.1 trio-websocket-0.11.1 undetected-chromedriver-3.5.4 websockets-12.0 wsproto-1.2.0\n"
          ]
        }
      ]
    },
    {
      "cell_type": "code",
      "source": [],
      "metadata": {
        "colab": {
          "base_uri": "https://localhost:8080/",
          "height": 140
        },
        "id": "xfPFQnwHfb6O",
        "outputId": "510ef8ed-7eaa-4ecc-b90d-92e877a3a23d"
      },
      "execution_count": null,
      "outputs": [
        {
          "output_type": "error",
          "ename": "SyntaxError",
          "evalue": "ignored",
          "traceback": [
            "\u001b[0;36m  File \u001b[0;32m\"<ipython-input-5-5dfd6a6c722a>\"\u001b[0;36m, line \u001b[0;32m2\u001b[0m\n\u001b[0;31m    from import ChatGPT\u001b[0m\n\u001b[0m         ^\u001b[0m\n\u001b[0;31mSyntaxError\u001b[0m\u001b[0;31m:\u001b[0m invalid syntax\n"
          ]
        }
      ]
    },
    {
      "cell_type": "code",
      "source": [
        "import streamlit as st\n",
        "import databutton as db\n",
        "from import ChatGPT\n",
        "from deep_translator import googleTranslator\n",
        "\n",
        "session = \"eyJhbGciOiJkaXIiLCJlbmMiOiJBMjU2R0NNIn0..baaic0Fv0ddx1C4f.LjR77hUQlm4JIROkONHjGmqXl0xfH3ymlWhbyqQyxXvH8zQuXoyyw3Ty_AMjdJKdkWM8PZEE7Q17y9m2QWruAUXea-NiG9bVmV1ncU-2RQjivBND5zAhYv9bip0jmLg7giXkERy04dES1YfLDuplGLi-2iyOkrCe82Is0Bv9ORLIkZqSNJprM0XCxIEVT7APgXxElbVU1V55fYFH2RVw9Gctp3bUX5fuiSOZjtlJsDOL03jVdd1dSPqzguubLVCsdlyD42e0i6HEESo-90SeNAPaNPlY5gOTFYsxtDKF_bK_opDyYNRvbN5KxRWogeD_9YR20t1Te0SLsEvFydXyhWa1-VYeP_VoAT4vLkvK7qEE0RY1qJB4xfnUARABrdpid5_8pTxmzCwi00y8AhQl599umI9bn69gx_3Y1unUUNxfLk91mYvJw16WNuYAbha-WDEMfRRZVeTw_p9oGLha4g4gQSdV5FcOa19iDjB18POhEllzgUWc1jinY__QWC_aPgGCYDzUrJ9LT5_p-nwEuaFHX2vW8qv3qv1TzChx9WJj6XPcj8g1BnVWUThDvDMY9pDmp72XK3tf0LKhIi8vviP3fF75mReYQNoaUXyN3am1QcF1X2hr7fMDWH1vg3W6mCmyFU1PAwobwmAHDbxpN8zdkkcc_5Cyqh7Oue0jnYCI_JGqewKUDSjqkgusWHulwigVZULcYKLOeVEgVA0VuT6DqCW37CmTAniZXwhvqaSbMw6ULsJ2-sbsgqzwMneXMEa8m7k7qb91nX96CSm6nePQPwkADiGnfBkwVVex8pK0koJCBm6HILeU1pvtjQgmwD0v6cTi7qQ0FbRZofTfL9YFeRBg6XOWQ5PcYR92UGQbo_mL3o8ORK2vXzTw_RZ-waP19KocGBpSNyhYZPsK2SLb6OghWe4v1mJ_szUC7NWMkNPIpP2IjKiCOIB2ufBw3SNTsp4Tio0v9GlJDRLtTLJLbjrY4Be3A9-AaKW4oCBBwNJRioK5tK1m1Zqtgp91cejGmwyg8PYUj31Hg9boszx3DQ_0A3WnXYpIDFjkJkGqHZfye9Rb26Ux0zwoW2bVWzDncBxPxpqT3X_23Ndmp6KDNqxxMEJEMQSNhHkDbb91DDn8S2cZ-QsfdYJwF8vjv94IFdwuom8xyqqn4VJaExXtAuXxqvTcygw9k__ZZUeVVQN8GMd9EqvLTi23GJI0UYHcONFa_PPfX6hRNMMT7uGYv401T4B604amSm9Hq15-BD-qMg3Dl7b3Innb38pKEz8Lorr-EDGmbXg4wGhOrP38vYpK9TEbjvLJlBo3kqooFTX6ca64SN08iKMa_fJEgee_TKWdBJFVcIZkCQvl_b78kRog4qwDYqz4yfD7438ctvFJIFw88P0iEvgTeFF51qyuf8m1ZDXzKPhxjYOVO5ITParBfpEqfeH_f2jqmeUxU4PHd7zM9fcpyOdaLXvj449eee2GA-oz-lmI5fr4ptGChPRJCPutHAbtLVHaPjga5QCnieJKUUUvf8WNusxTsm-J8iib3hHmMKx6Ac1DgpWtEALjCgtGopTfScoNIuYw-d69qxQ_CHhRS4iwlZAb3vlLNETfNTyMZix-SKDANVKt1Sq_TXfU01H6IDXdTRSTVP5jm1QRRnGBeSi67cROyoA8hU6n092NNx6VwBHegJL2xFB6tSXPGP_IlS6ubMr1fZFj5YoFmR5fYwxNCKIyd95NscuOawNydUlVY5onYqqS6lb46X4zyRvpjErobXbB9Unl7HAJTjNvpUxORgVQu2eSWeMnPhFgJtoKRBfQuqfMLMniTtD_kR-Ms4EDluw1jOUmcSdwxz-8KiyGYxgn-t9zdmiWn1mw1hArHl_wyiL0wBaIMnwk931g6kaRcq2RptGg7Ezb63pt98a_iBBXbvbi_yGCIIx_KnV8odHRskBEx90Wk77z6Ucp_t-_QelHKTXar7ho5RNxXGrV1wjgUaOzS-9bvgLdYmX6ZI1GS_SZg3EQWqffexmJcQQjj2zKd4Sjvuy7J94HlwdeuhVFImgHeb5VvcmZcDVW_aXwBiEIwbN38tBZtW0Sdly0ly2yLlsObPHV9qv7Z5izKJi_CJ_so4evAkohCd2yjX7k3r6PVtKBaMegUoQgST4iHsMq6cy0C7407Mc1zqEk1pY9-z0ZrGpXH2dMMlmcAxhdElaoKd89SCPqx5JhL4GAM-aLTfunDzKoM_rJDDT54tRG8bec_zo40wjMxmDYERfRD4qetmRsWmaMc4QjqfsZt6zQAf1_3FM4F6CZfFgBfpGJ98UXJE_rBqbvten5CKG_ZqkTQEmhagI1Dy0Zr58e4EFbxtmhaZB4yg-yjYPdL4Yte9AH-mTwWzxQdJ6HEo47ld2hMgD0fJ7faoLXRT_BOQekWYA9VFKgxbpiP7qH0SZYLwZ5-N-p2PdugxHDmn9Q88pjvNsYrB65d3EbRR55_XNBlzyXIuR5AAVNmCV20_JICt1fG_GrLMJshzeyazFicOn5fkSPO6E8egnIL3852N2PC-rs69519edfnO3FPbs_C3NB4IvzPsLCd-PNEkQPfVv3twVdR3pZ0ohKGPJTz3saqwiSKfqyaHeLD3_V_SHZh_DCAu6JvnesT2vLX0LbTefvCbPTZuAN5PilZ2kDsss8G6Jma2JozLisaemPrIIPuMt5-KL0at61foUI0SsfllZ_ZD_XuGn71A0JzsfGgv56i2wbkpKXPluAmQ6H_gOFWkPzeJipXyEfOpH3uOag-vbPtQfyqLYqflZePdMC6ldq-lps7308VxJTweLq-b6U29_esonW4Hvnx9RmLyETREWOU2q36d_NGux7hTyD0GmPFJD4ERATc344BNO3cwwnEr_7ysWrB0qGdJBkK10ICf2VWBcq1nms9KvrrPTuGfU_R0_Ed-ACOi8SQ2ecbxNpQixTQLEzTl8xI18-W7fJdSxVeX8FpSRG_Fsd_WiD7sFcDrxhGJsD6BoZdoJyj0XHABMVbjDqAtSOsdpJZAYhkJfSZaKCaL-EE6lG-bjkV_X9YIpj7CI.-E8gFvljJOowRw3ymc1xvA\"\n",
        "\n",
        "api =  ChatGPT(session)\n",
        "\n",
        "x= api.send_message(\"Who are you?\")\n",
        "st.write(x[\"message\"])"
      ],
      "metadata": {
        "id": "yNEiXUAHf03k",
        "outputId": "a5f5dbfa-5076-4eb4-9dec-a2e3d6076805",
        "colab": {
          "base_uri": "https://localhost:8080/",
          "height": 140
        }
      },
      "execution_count": null,
      "outputs": [
        {
          "output_type": "error",
          "ename": "SyntaxError",
          "evalue": "ignored",
          "traceback": [
            "\u001b[0;36m  File \u001b[0;32m\"<ipython-input-8-335fc47b92d5>\"\u001b[0;36m, line \u001b[0;32m3\u001b[0m\n\u001b[0;31m    from import ChatGPT\u001b[0m\n\u001b[0m         ^\u001b[0m\n\u001b[0;31mSyntaxError\u001b[0m\u001b[0;31m:\u001b[0m invalid syntax\n"
          ]
        }
      ]
    },
    {
      "cell_type": "code",
      "source": [
        "import streamlit as st\n",
        "import databutton as db\n",
        "from pyChatGPT import ChatGPT\n",
        "from deep_translator import googleTranslator\n",
        "\n",
        "session = \"eyJhbGciOiJkaXIiLCJlbmMiOiJBMjU2R0NNIn0..baaic0Fv0ddx1C4f.LjR77hUQlm4JIROkONHjGmqXl0xfH3ymlWhbyqQyxXvH8zQuXoyyw3Ty_AMjdJKdkWM8PZEE7Q17y9m2QWruAUXea-NiG9bVmV1ncU-2RQjivBND5zAhYv9bip0jmLg7giXkERy04dES1YfLDuplGLi-2iyOkrCe82Is0Bv9ORLIkZqSNJprM0XCxIEVT7APgXxElbVU1V55fYFH2RVw9Gctp3bUX5fuiSOZjtlJsDOL03jVdd1dSPqzguubLVCsdlyD42e0i6HEESo-90SeNAPaNPlY5gOTFYsxtDKF_bK_opDyYNRvbN5KxRWogeD_9YR20t1Te0SLsEvFydXyhWa1-VYeP_VoAT4vLkvK7qEE0RY1qJB4xfnUARABrdpid5_8pTxmzCwi00y8AhQl599umI9bn69gx_3Y1unUUNxfLk91mYvJw16WNuYAbha-WDEMfRRZVeTw_p9oGLha4g4gQSdV5FcOa19iDjB18POhEllzgUWc1jinY__QWC_aPgGCYDzUrJ9LT5_p-nwEuaFHX2vW8qv3qv1TzChx9WJj6XPcj8g1BnVWUThDvDMY9pDmp72XK3tf0LKhIi8vviP3fF75mReYQNoaUXyN3am1QcF1X2hr7fMDWH1vg3W6mCmyFU1PAwobwmAHDbxpN8zdkkcc_5Cyqh7Oue0jnYCI_JGqewKUDSjqkgusWHulwigVZULcYKLOeVEgVA0VuT6DqCW37CmTAniZXwhvqaSbMw6ULsJ2-sbsgqzwMneXMEa8m7k7qb91nX96CSm6nePQPwkADiGnfBkwVVex8pK0koJCBm6HILeU1pvtjQgmwD0v6cTi7qQ0FbRZofTfL9YFeRBg6XOWQ5PcYR92UGQbo_mL3o8ORK2vXzTw_RZ-waP19KocGBpSNyhYZPsK2SLb6OghWe4v1mJ_szUC7NWMkNPIpP2IjKiCOIB2ufBw3SNTsp4Tio0v9GlJDRLtTLJLbjrY4Be3A9-AaKW4oCBBwNJRioK5tK1m1Zqtgp91cejGmwyg8PYUj31Hg9boszx3DQ_0A3WnXYpIDFjkJkGqHZfye9Rb26Ux0zwoW2bVWzDncBxPxpqT3X_23Ndmp6KDNqxxMEJEMQSNhHkDbb91DDn8S2cZ-QsfdYJwF8vjv94IFdwuom8xyqqn4VJaExXtAuXxqvTcygw9k__ZZUeVVQN8GMd9EqvLTi23GJI0UYHcONFa_PPfX6hRNMMT7uGYv401T4B604amSm9Hq15-BD-qMg3Dl7b3Innb38pKEz8Lorr-EDGmbXg4wGhOrP38vYpK9TEbjvLJlBo3kqooFTX6ca64SN08iKMa_fJEgee_TKWdBJFVcIZkCQvl_b78kRog4qwDYqz4yfD7438ctvFJIFw88P0iEvgTeFF51qyuf8m1ZDXzKPhxjYOVO5ITParBfpEqfeH_f2jqmeUxU4PHd7zM9fcpyOdaLXvj449eee2GA-oz-lmI5fr4ptGChPRJCPutHAbtLVHaPjga5QCnieJKUUUvf8WNusxTsm-J8iib3hHmMKx6Ac1DgpWtEALjCgtGopTfScoNIuYw-d69qxQ_CHhRS4iwlZAb3vlLNETfNTyMZix-SKDANVKt1Sq_TXfU01H6IDXdTRSTVP5jm1QRRnGBeSi67cROyoA8hU6n092NNx6VwBHegJL2xFB6tSXPGP_IlS6ubMr1fZFj5YoFmR5fYwxNCKIyd95NscuOawNydUlVY5onYqqS6lb46X4zyRvpjErobXbB9Unl7HAJTjNvpUxORgVQu2eSWeMnPhFgJtoKRBfQuqfMLMniTtD_kR-Ms4EDluw1jOUmcSdwxz-8KiyGYxgn-t9zdmiWn1mw1hArHl_wyiL0wBaIMnwk931g6kaRcq2RptGg7Ezb63pt98a_iBBXbvbi_yGCIIx_KnV8odHRskBEx90Wk77z6Ucp_t-_QelHKTXar7ho5RNxXGrV1wjgUaOzS-9bvgLdYmX6ZI1GS_SZg3EQWqffexmJcQQjj2zKd4Sjvuy7J94HlwdeuhVFImgHeb5VvcmZcDVW_aXwBiEIwbN38tBZtW0Sdly0ly2yLlsObPHV9qv7Z5izKJi_CJ_so4evAkohCd2yjX7k3r6PVtKBaMegUoQgST4iHsMq6cy0C7407Mc1zqEk1pY9-z0ZrGpXH2dMMlmcAxhdElaoKd89SCPqx5JhL4GAM-aLTfunDzKoM_rJDDT54tRG8bec_zo40wjMxmDYERfRD4qetmRsWmaMc4QjqfsZt6zQAf1_3FM4F6CZfFgBfpGJ98UXJE_rBqbvten5CKG_ZqkTQEmhagI1Dy0Zr58e4EFbxtmhaZB4yg-yjYPdL4Yte9AH-mTwWzxQdJ6HEo47ld2hMgD0fJ7faoLXRT_BOQekWYA9VFKgxbpiP7qH0SZYLwZ5-N-p2PdugxHDmn9Q88pjvNsYrB65d3EbRR55_XNBlzyXIuR5AAVNmCV20_JICt1fG_GrLMJshzeyazFicOn5fkSPO6E8egnIL3852N2PC-rs69519edfnO3FPbs_C3NB4IvzPsLCd-PNEkQPfVv3twVdR3pZ0ohKGPJTz3saqwiSKfqyaHeLD3_V_SHZh_DCAu6JvnesT2vLX0LbTefvCbPTZuAN5PilZ2kDsss8G6Jma2JozLisaemPrIIPuMt5-KL0at61foUI0SsfllZ_ZD_XuGn71A0JzsfGgv56i2wbkpKXPluAmQ6H_gOFWkPzeJipXyEfOpH3uOag-vbPtQfyqLYqflZePdMC6ldq-lps7308VxJTweLq-b6U29_esonW4Hvnx9RmLyETREWOU2q36d_NGux7hTyD0GmPFJD4ERATc344BNO3cwwnEr_7ysWrB0qGdJBkK10ICf2VWBcq1nms9KvrrPTuGfU_R0_Ed-ACOi8SQ2ecbxNpQixTQLEzTl8xI18-W7fJdSxVeX8FpSRG_Fsd_WiD7sFcDrxhGJsD6BoZdoJyj0XHABMVbjDqAtSOsdpJZAYhkJfSZaKCaL-EE6lG-bjkV_X9YIpj7CI.-E8gFvljJOowRw3ymc1xvA\"\n",
        "\n",
        "api =  ChatGPT(session)\n",
        "\n",
        "x= api.send_message(\"Who are you?\")\n",
        "st.write(x[\"message\"])\n"
      ],
      "metadata": {
        "colab": {
          "base_uri": "https://localhost:8080/",
          "height": 612
        },
        "id": "haUdto4Lp4MW",
        "outputId": "6077deab-307c-495d-f2e5-e8fff4348c52"
      },
      "execution_count": 9,
      "outputs": [
        {
          "output_type": "error",
          "ename": "ImportError",
          "evalue": "ignored",
          "traceback": [
            "\u001b[0;31m---------------------------------------------------------------------------\u001b[0m",
            "\u001b[0;31mImportError\u001b[0m                               Traceback (most recent call last)",
            "\u001b[0;32m<ipython-input-9-b4b78e9facc5>\u001b[0m in \u001b[0;36m<cell line: 4>\u001b[0;34m()\u001b[0m\n\u001b[1;32m      2\u001b[0m \u001b[0;32mimport\u001b[0m \u001b[0mdatabutton\u001b[0m \u001b[0;32mas\u001b[0m \u001b[0mdb\u001b[0m\u001b[0;34m\u001b[0m\u001b[0;34m\u001b[0m\u001b[0m\n\u001b[1;32m      3\u001b[0m \u001b[0;32mfrom\u001b[0m \u001b[0mpyChatGPT\u001b[0m \u001b[0;32mimport\u001b[0m \u001b[0mChatGPT\u001b[0m\u001b[0;34m\u001b[0m\u001b[0;34m\u001b[0m\u001b[0m\n\u001b[0;32m----> 4\u001b[0;31m \u001b[0;32mfrom\u001b[0m \u001b[0mdeep_translator\u001b[0m \u001b[0;32mimport\u001b[0m \u001b[0mgoogleTranslator\u001b[0m\u001b[0;34m\u001b[0m\u001b[0;34m\u001b[0m\u001b[0m\n\u001b[0m\u001b[1;32m      5\u001b[0m \u001b[0;34m\u001b[0m\u001b[0m\n\u001b[1;32m      6\u001b[0m \u001b[0msession\u001b[0m \u001b[0;34m=\u001b[0m \u001b[0;34m\"eyJhbGciOiJkaXIiLCJlbmMiOiJBMjU2R0NNIn0..baaic0Fv0ddx1C4f.LjR77hUQlm4JIROkONHjGmqXl0xfH3ymlWhbyqQyxXvH8zQuXoyyw3Ty_AMjdJKdkWM8PZEE7Q17y9m2QWruAUXea-NiG9bVmV1ncU-2RQjivBND5zAhYv9bip0jmLg7giXkERy04dES1YfLDuplGLi-2iyOkrCe82Is0Bv9ORLIkZqSNJprM0XCxIEVT7APgXxElbVU1V55fYFH2RVw9Gctp3bUX5fuiSOZjtlJsDOL03jVdd1dSPqzguubLVCsdlyD42e0i6HEESo-90SeNAPaNPlY5gOTFYsxtDKF_bK_opDyYNRvbN5KxRWogeD_9YR20t1Te0SLsEvFydXyhWa1-VYeP_VoAT4vLkvK7qEE0RY1qJB4xfnUARABrdpid5_8pTxmzCwi00y8AhQl599umI9bn69gx_3Y1unUUNxfLk91mYvJw16WNuYAbha-WDEMfRRZVeTw_p9oGLha4g4gQSdV5FcOa19iDjB18POhEllzgUWc1jinY__QWC_aPgGCYDzUrJ9LT5_p-nwEuaFHX2vW8qv3qv1TzChx9WJj6XPcj8g1BnVWUThDvDMY9pDmp72XK3tf0LKhIi8vviP3fF75mReYQNoaUXyN3am1QcF1X2hr7fMDWH1vg3W6mCmyFU1PAwobwmAHDbxpN8zdkkcc_5Cyqh7Oue0jnYCI_JGqewKUDSjqkgusWHulwigVZULcYKLOeVEgVA0VuT6DqCW37CmTAniZXwhvqaSbMw6ULsJ2-sbsgqzwMneXMEa8m7k7qb91nX96CSm6nePQPwkADiGnfBkwVVex8pK0koJCBm6HILeU1pvtjQgmwD0v6cTi7qQ0FbRZofTfL9YFeRBg6XOWQ5PcYR92UGQbo_mL3o8ORK2vXzTw_RZ-waP19KocGBpSNyhYZPsK2SLb6OghWe4v1mJ_szUC7NWMkNPIpP2IjKiCOIB2ufBw3SNTsp4Tio0v9GlJDRLtTLJLbjrY4Be3A9-AaKW4oCBBwNJRioK5tK1m1Zqtgp91cejGmwyg8PYUj31Hg9boszx3DQ_0A3WnXYpIDFjkJkGqHZfye9Rb26Ux0zwoW2bVWzDncBxPxpqT3X_23Ndmp6KDNqxxMEJEMQSNhHkDbb91DDn8S2cZ-QsfdYJwF8vjv94IFdwuom8xyqqn4VJaExXtAuXxqvTcygw9k__ZZUeVVQN8GMd9EqvLTi23GJI0UYHcONFa_PPfX6hRNMMT7uGYv401T4B604amSm9Hq15-BD-qMg3Dl7b3Innb38pKEz8Lorr-EDGmbXg4wGhOrP38vYpK9TEbjvLJlBo3kqooFTX6ca64SN08iKMa_fJEgee_TKWdBJFVcIZkCQvl_b78kRog4qwDYqz4yfD...\n",
            "\u001b[0;31mImportError\u001b[0m: cannot import name 'googleTranslator' from 'deep_translator' (/usr/local/lib/python3.10/dist-packages/deep_translator/__init__.py)",
            "",
            "\u001b[0;31m---------------------------------------------------------------------------\u001b[0;32m\nNOTE: If your import is failing due to a missing package, you can\nmanually install dependencies using either !pip or !apt.\n\nTo view examples of installing some common dependencies, click the\n\"Open Examples\" button below.\n\u001b[0;31m---------------------------------------------------------------------------\u001b[0m\n"
          ],
          "errorDetails": {
            "actions": [
              {
                "action": "open_url",
                "actionText": "Open Examples",
                "url": "/notebooks/snippets/importing_libraries.ipynb"
              }
            ]
          }
        }
      ]
    },
    {
      "cell_type": "code",
      "source": [],
      "metadata": {
        "id": "uRfwJAEwqjAE"
      },
      "execution_count": null,
      "outputs": []
    }
  ]
}