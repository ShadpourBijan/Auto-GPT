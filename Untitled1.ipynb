{
  "nbformat": 4,
  "nbformat_minor": 0,
  "metadata": {
    "colab": {
      "provenance": [],
      "authorship_tag": "ABX9TyNpW/mfRFfIj3V4z1eMtZZ4",
      "include_colab_link": true
    },
    "kernelspec": {
      "name": "python3",
      "display_name": "Python 3"
    },
    "language_info": {
      "name": "python"
    }
  },
  "cells": [
    {
      "cell_type": "markdown",
      "metadata": {
        "id": "view-in-github",
        "colab_type": "text"
      },
      "source": [
        "<a href=\"https://colab.research.google.com/github/ShadpourBijan/Auto-GPT/blob/master/Untitled1.ipynb\" target=\"_parent\"><img src=\"https://colab.research.google.com/assets/colab-badge.svg\" alt=\"Open In Colab\"/></a>"
      ]
    },
    {
      "cell_type": "code",
      "execution_count": 1,
      "metadata": {
        "colab": {
          "base_uri": "https://localhost:8080/"
        },
        "id": "XVGmltRon4RL",
        "outputId": "9e027cd8-bf49-44a4-a709-d04b6873cadd"
      },
      "outputs": [
        {
          "output_type": "stream",
          "name": "stdout",
          "text": [
            "Collecting pyChatGPT==0.4.3.3\n",
            "  Downloading pyChatGPT-0.4.3.3-py3-none-any.whl (23 kB)\n",
            "Collecting undetected-chromedriver>=3.2.1 (from pyChatGPT==0.4.3.3)\n",
            "  Downloading undetected-chromedriver-3.5.4.tar.gz (65 kB)\n",
            "\u001b[?25l     \u001b[90m━━━━━━━━━━━━━━━━━━━━━━━━━━━━━━━━━━━━━━━━\u001b[0m \u001b[32m0.0/65.4 kB\u001b[0m \u001b[31m?\u001b[0m eta \u001b[36m-:--:--\u001b[0m\r\u001b[2K     \u001b[90m━━━━━━━━━━━━━━━━━━━━━━━━━━━━━━━━━━━━━━━━\u001b[0m \u001b[32m65.4/65.4 kB\u001b[0m \u001b[31m3.1 MB/s\u001b[0m eta \u001b[36m0:00:00\u001b[0m\n",
            "\u001b[?25h  Preparing metadata (setup.py) ... \u001b[?25l\u001b[?25hdone\n",
            "Collecting markdownify>=0.11.6 (from pyChatGPT==0.4.3.3)\n",
            "  Downloading markdownify-0.11.6-py3-none-any.whl (16 kB)\n",
            "Requirement already satisfied: beautifulsoup4<5,>=4.9 in /usr/local/lib/python3.10/dist-packages (from markdownify>=0.11.6->pyChatGPT==0.4.3.3) (4.11.2)\n",
            "Requirement already satisfied: six<2,>=1.15 in /usr/local/lib/python3.10/dist-packages (from markdownify>=0.11.6->pyChatGPT==0.4.3.3) (1.16.0)\n",
            "Collecting selenium>=4.9.0 (from undetected-chromedriver>=3.2.1->pyChatGPT==0.4.3.3)\n",
            "  Downloading selenium-4.15.2-py3-none-any.whl (10.2 MB)\n",
            "\u001b[2K     \u001b[90m━━━━━━━━━━━━━━━━━━━━━━━━━━━━━━━━━━━━━━━━\u001b[0m \u001b[32m10.2/10.2 MB\u001b[0m \u001b[31m50.5 MB/s\u001b[0m eta \u001b[36m0:00:00\u001b[0m\n",
            "\u001b[?25hRequirement already satisfied: requests in /usr/local/lib/python3.10/dist-packages (from undetected-chromedriver>=3.2.1->pyChatGPT==0.4.3.3) (2.31.0)\n",
            "Collecting websockets (from undetected-chromedriver>=3.2.1->pyChatGPT==0.4.3.3)\n",
            "  Downloading websockets-12.0-cp310-cp310-manylinux_2_5_x86_64.manylinux1_x86_64.manylinux_2_17_x86_64.manylinux2014_x86_64.whl (130 kB)\n",
            "\u001b[2K     \u001b[90m━━━━━━━━━━━━━━━━━━━━━━━━━━━━━━━━━━━━━━━━\u001b[0m \u001b[32m130.2/130.2 kB\u001b[0m \u001b[31m12.1 MB/s\u001b[0m eta \u001b[36m0:00:00\u001b[0m\n",
            "\u001b[?25hRequirement already satisfied: soupsieve>1.2 in /usr/local/lib/python3.10/dist-packages (from beautifulsoup4<5,>=4.9->markdownify>=0.11.6->pyChatGPT==0.4.3.3) (2.5)\n",
            "Requirement already satisfied: urllib3[socks]<3,>=1.26 in /usr/local/lib/python3.10/dist-packages (from selenium>=4.9.0->undetected-chromedriver>=3.2.1->pyChatGPT==0.4.3.3) (2.0.7)\n",
            "Collecting trio~=0.17 (from selenium>=4.9.0->undetected-chromedriver>=3.2.1->pyChatGPT==0.4.3.3)\n",
            "  Downloading trio-0.23.1-py3-none-any.whl (448 kB)\n",
            "\u001b[2K     \u001b[90m━━━━━━━━━━━━━━━━━━━━━━━━━━━━━━━━━━━━━━━━\u001b[0m \u001b[32m448.3/448.3 kB\u001b[0m \u001b[31m26.4 MB/s\u001b[0m eta \u001b[36m0:00:00\u001b[0m\n",
            "\u001b[?25hCollecting trio-websocket~=0.9 (from selenium>=4.9.0->undetected-chromedriver>=3.2.1->pyChatGPT==0.4.3.3)\n",
            "  Downloading trio_websocket-0.11.1-py3-none-any.whl (17 kB)\n",
            "Requirement already satisfied: certifi>=2021.10.8 in /usr/local/lib/python3.10/dist-packages (from selenium>=4.9.0->undetected-chromedriver>=3.2.1->pyChatGPT==0.4.3.3) (2023.11.17)\n",
            "Requirement already satisfied: charset-normalizer<4,>=2 in /usr/local/lib/python3.10/dist-packages (from requests->undetected-chromedriver>=3.2.1->pyChatGPT==0.4.3.3) (3.3.2)\n",
            "Requirement already satisfied: idna<4,>=2.5 in /usr/local/lib/python3.10/dist-packages (from requests->undetected-chromedriver>=3.2.1->pyChatGPT==0.4.3.3) (3.6)\n",
            "Requirement already satisfied: attrs>=20.1.0 in /usr/local/lib/python3.10/dist-packages (from trio~=0.17->selenium>=4.9.0->undetected-chromedriver>=3.2.1->pyChatGPT==0.4.3.3) (23.1.0)\n",
            "Requirement already satisfied: sortedcontainers in /usr/local/lib/python3.10/dist-packages (from trio~=0.17->selenium>=4.9.0->undetected-chromedriver>=3.2.1->pyChatGPT==0.4.3.3) (2.4.0)\n",
            "Collecting outcome (from trio~=0.17->selenium>=4.9.0->undetected-chromedriver>=3.2.1->pyChatGPT==0.4.3.3)\n",
            "  Downloading outcome-1.3.0.post0-py2.py3-none-any.whl (10 kB)\n",
            "Requirement already satisfied: sniffio>=1.3.0 in /usr/local/lib/python3.10/dist-packages (from trio~=0.17->selenium>=4.9.0->undetected-chromedriver>=3.2.1->pyChatGPT==0.4.3.3) (1.3.0)\n",
            "Requirement already satisfied: exceptiongroup>=1.0.0rc9 in /usr/local/lib/python3.10/dist-packages (from trio~=0.17->selenium>=4.9.0->undetected-chromedriver>=3.2.1->pyChatGPT==0.4.3.3) (1.2.0)\n",
            "Collecting wsproto>=0.14 (from trio-websocket~=0.9->selenium>=4.9.0->undetected-chromedriver>=3.2.1->pyChatGPT==0.4.3.3)\n",
            "  Downloading wsproto-1.2.0-py3-none-any.whl (24 kB)\n",
            "Requirement already satisfied: pysocks!=1.5.7,<2.0,>=1.5.6 in /usr/local/lib/python3.10/dist-packages (from urllib3[socks]<3,>=1.26->selenium>=4.9.0->undetected-chromedriver>=3.2.1->pyChatGPT==0.4.3.3) (1.7.1)\n",
            "Collecting h11<1,>=0.9.0 (from wsproto>=0.14->trio-websocket~=0.9->selenium>=4.9.0->undetected-chromedriver>=3.2.1->pyChatGPT==0.4.3.3)\n",
            "  Downloading h11-0.14.0-py3-none-any.whl (58 kB)\n",
            "\u001b[2K     \u001b[90m━━━━━━━━━━━━━━━━━━━━━━━━━━━━━━━━━━━━━━━━\u001b[0m \u001b[32m58.3/58.3 kB\u001b[0m \u001b[31m7.0 MB/s\u001b[0m eta \u001b[36m0:00:00\u001b[0m\n",
            "\u001b[?25hBuilding wheels for collected packages: undetected-chromedriver\n",
            "  Building wheel for undetected-chromedriver (setup.py) ... \u001b[?25l\u001b[?25hdone\n",
            "  Created wheel for undetected-chromedriver: filename=undetected_chromedriver-3.5.4-py3-none-any.whl size=47055 sha256=3c2b1fe4303fc7ef68de443fb59a92114392954e5ba838962e261ed6e0b845ce\n",
            "  Stored in directory: /root/.cache/pip/wheels/0c/a6/72/5c948853baf75d52f1da173bd8fc9d7ad7615608e0ffaead6d\n",
            "Successfully built undetected-chromedriver\n",
            "Installing collected packages: websockets, outcome, h11, wsproto, trio, markdownify, trio-websocket, selenium, undetected-chromedriver, pyChatGPT\n",
            "Successfully installed h11-0.14.0 markdownify-0.11.6 outcome-1.3.0.post0 pyChatGPT-0.4.3.3 selenium-4.15.2 trio-0.23.1 trio-websocket-0.11.1 undetected-chromedriver-3.5.4 websockets-12.0 wsproto-1.2.0\n"
          ]
        }
      ],
      "source": [
        "pip install pyChatGPT==0.4.3.3"
      ]
    },
    {
      "cell_type": "code",
      "source": [
        "pip install streamlit"
      ],
      "metadata": {
        "colab": {
          "base_uri": "https://localhost:8080/"
        },
        "id": "VUb3h5CbohM4",
        "outputId": "215e04dc-3d25-45ea-ab99-a5f2c6eec0dd"
      },
      "execution_count": 2,
      "outputs": [
        {
          "output_type": "stream",
          "name": "stdout",
          "text": [
            "Collecting streamlit\n",
            "  Downloading streamlit-1.29.0-py2.py3-none-any.whl (8.4 MB)\n",
            "\u001b[2K     \u001b[90m━━━━━━━━━━━━━━━━━━━━━━━━━━━━━━━━━━━━━━━━\u001b[0m \u001b[32m8.4/8.4 MB\u001b[0m \u001b[31m55.0 MB/s\u001b[0m eta \u001b[36m0:00:00\u001b[0m\n",
            "\u001b[?25hRequirement already satisfied: altair<6,>=4.0 in /usr/local/lib/python3.10/dist-packages (from streamlit) (4.2.2)\n",
            "Requirement already satisfied: blinker<2,>=1.0.0 in /usr/lib/python3/dist-packages (from streamlit) (1.4)\n",
            "Requirement already satisfied: cachetools<6,>=4.0 in /usr/local/lib/python3.10/dist-packages (from streamlit) (5.3.2)\n",
            "Requirement already satisfied: click<9,>=7.0 in /usr/local/lib/python3.10/dist-packages (from streamlit) (8.1.7)\n",
            "Requirement already satisfied: importlib-metadata<7,>=1.4 in /usr/local/lib/python3.10/dist-packages (from streamlit) (6.8.0)\n",
            "Requirement already satisfied: numpy<2,>=1.19.3 in /usr/local/lib/python3.10/dist-packages (from streamlit) (1.23.5)\n",
            "Requirement already satisfied: packaging<24,>=16.8 in /usr/local/lib/python3.10/dist-packages (from streamlit) (23.2)\n",
            "Requirement already satisfied: pandas<3,>=1.3.0 in /usr/local/lib/python3.10/dist-packages (from streamlit) (1.5.3)\n",
            "Requirement already satisfied: pillow<11,>=7.1.0 in /usr/local/lib/python3.10/dist-packages (from streamlit) (9.4.0)\n",
            "Requirement already satisfied: protobuf<5,>=3.20 in /usr/local/lib/python3.10/dist-packages (from streamlit) (3.20.3)\n",
            "Requirement already satisfied: pyarrow>=6.0 in /usr/local/lib/python3.10/dist-packages (from streamlit) (9.0.0)\n",
            "Requirement already satisfied: python-dateutil<3,>=2.7.3 in /usr/local/lib/python3.10/dist-packages (from streamlit) (2.8.2)\n",
            "Requirement already satisfied: requests<3,>=2.27 in /usr/local/lib/python3.10/dist-packages (from streamlit) (2.31.0)\n",
            "Requirement already satisfied: rich<14,>=10.14.0 in /usr/local/lib/python3.10/dist-packages (from streamlit) (13.7.0)\n",
            "Requirement already satisfied: tenacity<9,>=8.1.0 in /usr/local/lib/python3.10/dist-packages (from streamlit) (8.2.3)\n",
            "Requirement already satisfied: toml<2,>=0.10.1 in /usr/local/lib/python3.10/dist-packages (from streamlit) (0.10.2)\n",
            "Requirement already satisfied: typing-extensions<5,>=4.3.0 in /usr/local/lib/python3.10/dist-packages (from streamlit) (4.5.0)\n",
            "Requirement already satisfied: tzlocal<6,>=1.1 in /usr/local/lib/python3.10/dist-packages (from streamlit) (5.2)\n",
            "Collecting validators<1,>=0.2 (from streamlit)\n",
            "  Downloading validators-0.22.0-py3-none-any.whl (26 kB)\n",
            "Collecting gitpython!=3.1.19,<4,>=3.0.7 (from streamlit)\n",
            "  Downloading GitPython-3.1.40-py3-none-any.whl (190 kB)\n",
            "\u001b[2K     \u001b[90m━━━━━━━━━━━━━━━━━━━━━━━━━━━━━━━━━━━━━━━━\u001b[0m \u001b[32m190.6/190.6 kB\u001b[0m \u001b[31m18.9 MB/s\u001b[0m eta \u001b[36m0:00:00\u001b[0m\n",
            "\u001b[?25hCollecting pydeck<1,>=0.8.0b4 (from streamlit)\n",
            "  Downloading pydeck-0.8.1b0-py2.py3-none-any.whl (4.8 MB)\n",
            "\u001b[2K     \u001b[90m━━━━━━━━━━━━━━━━━━━━━━━━━━━━━━━━━━━━━━━━\u001b[0m \u001b[32m4.8/4.8 MB\u001b[0m \u001b[31m96.2 MB/s\u001b[0m eta \u001b[36m0:00:00\u001b[0m\n",
            "\u001b[?25hRequirement already satisfied: tornado<7,>=6.0.3 in /usr/local/lib/python3.10/dist-packages (from streamlit) (6.3.2)\n",
            "Collecting watchdog>=2.1.5 (from streamlit)\n",
            "  Downloading watchdog-3.0.0-py3-none-manylinux2014_x86_64.whl (82 kB)\n",
            "\u001b[2K     \u001b[90m━━━━━━━━━━━━━━━━━━━━━━━━━━━━━━━━━━━━━━━━\u001b[0m \u001b[32m82.1/82.1 kB\u001b[0m \u001b[31m9.8 MB/s\u001b[0m eta \u001b[36m0:00:00\u001b[0m\n",
            "\u001b[?25hRequirement already satisfied: entrypoints in /usr/local/lib/python3.10/dist-packages (from altair<6,>=4.0->streamlit) (0.4)\n",
            "Requirement already satisfied: jinja2 in /usr/local/lib/python3.10/dist-packages (from altair<6,>=4.0->streamlit) (3.1.2)\n",
            "Requirement already satisfied: jsonschema>=3.0 in /usr/local/lib/python3.10/dist-packages (from altair<6,>=4.0->streamlit) (4.19.2)\n",
            "Requirement already satisfied: toolz in /usr/local/lib/python3.10/dist-packages (from altair<6,>=4.0->streamlit) (0.12.0)\n",
            "Collecting gitdb<5,>=4.0.1 (from gitpython!=3.1.19,<4,>=3.0.7->streamlit)\n",
            "  Downloading gitdb-4.0.11-py3-none-any.whl (62 kB)\n",
            "\u001b[2K     \u001b[90m━━━━━━━━━━━━━━━━━━━━━━━━━━━━━━━━━━━━━━━━\u001b[0m \u001b[32m62.7/62.7 kB\u001b[0m \u001b[31m7.6 MB/s\u001b[0m eta \u001b[36m0:00:00\u001b[0m\n",
            "\u001b[?25hRequirement already satisfied: zipp>=0.5 in /usr/local/lib/python3.10/dist-packages (from importlib-metadata<7,>=1.4->streamlit) (3.17.0)\n",
            "Requirement already satisfied: pytz>=2020.1 in /usr/local/lib/python3.10/dist-packages (from pandas<3,>=1.3.0->streamlit) (2023.3.post1)\n",
            "Requirement already satisfied: six>=1.5 in /usr/local/lib/python3.10/dist-packages (from python-dateutil<3,>=2.7.3->streamlit) (1.16.0)\n",
            "Requirement already satisfied: charset-normalizer<4,>=2 in /usr/local/lib/python3.10/dist-packages (from requests<3,>=2.27->streamlit) (3.3.2)\n",
            "Requirement already satisfied: idna<4,>=2.5 in /usr/local/lib/python3.10/dist-packages (from requests<3,>=2.27->streamlit) (3.6)\n",
            "Requirement already satisfied: urllib3<3,>=1.21.1 in /usr/local/lib/python3.10/dist-packages (from requests<3,>=2.27->streamlit) (2.0.7)\n",
            "Requirement already satisfied: certifi>=2017.4.17 in /usr/local/lib/python3.10/dist-packages (from requests<3,>=2.27->streamlit) (2023.11.17)\n",
            "Requirement already satisfied: markdown-it-py>=2.2.0 in /usr/local/lib/python3.10/dist-packages (from rich<14,>=10.14.0->streamlit) (3.0.0)\n",
            "Requirement already satisfied: pygments<3.0.0,>=2.13.0 in /usr/local/lib/python3.10/dist-packages (from rich<14,>=10.14.0->streamlit) (2.16.1)\n",
            "Collecting smmap<6,>=3.0.1 (from gitdb<5,>=4.0.1->gitpython!=3.1.19,<4,>=3.0.7->streamlit)\n",
            "  Downloading smmap-5.0.1-py3-none-any.whl (24 kB)\n",
            "Requirement already satisfied: MarkupSafe>=2.0 in /usr/local/lib/python3.10/dist-packages (from jinja2->altair<6,>=4.0->streamlit) (2.1.3)\n",
            "Requirement already satisfied: attrs>=22.2.0 in /usr/local/lib/python3.10/dist-packages (from jsonschema>=3.0->altair<6,>=4.0->streamlit) (23.1.0)\n",
            "Requirement already satisfied: jsonschema-specifications>=2023.03.6 in /usr/local/lib/python3.10/dist-packages (from jsonschema>=3.0->altair<6,>=4.0->streamlit) (2023.11.2)\n",
            "Requirement already satisfied: referencing>=0.28.4 in /usr/local/lib/python3.10/dist-packages (from jsonschema>=3.0->altair<6,>=4.0->streamlit) (0.31.1)\n",
            "Requirement already satisfied: rpds-py>=0.7.1 in /usr/local/lib/python3.10/dist-packages (from jsonschema>=3.0->altair<6,>=4.0->streamlit) (0.13.2)\n",
            "Requirement already satisfied: mdurl~=0.1 in /usr/local/lib/python3.10/dist-packages (from markdown-it-py>=2.2.0->rich<14,>=10.14.0->streamlit) (0.1.2)\n",
            "Installing collected packages: watchdog, validators, smmap, pydeck, gitdb, gitpython, streamlit\n",
            "Successfully installed gitdb-4.0.11 gitpython-3.1.40 pydeck-0.8.1b0 smmap-5.0.1 streamlit-1.29.0 validators-0.22.0 watchdog-3.0.0\n"
          ]
        }
      ]
    },
    {
      "cell_type": "code",
      "source": [
        "pip install deep_translator"
      ],
      "metadata": {
        "colab": {
          "base_uri": "https://localhost:8080/"
        },
        "id": "pdlB8rA6pvIf",
        "outputId": "31ccc2b5-2dfd-4c31-90c8-65d8fcac8379"
      },
      "execution_count": 5,
      "outputs": [
        {
          "output_type": "stream",
          "name": "stdout",
          "text": [
            "Requirement already satisfied: deep_translator in /usr/local/lib/python3.10/dist-packages (1.11.4)\n",
            "Requirement already satisfied: beautifulsoup4<5.0.0,>=4.9.1 in /usr/local/lib/python3.10/dist-packages (from deep_translator) (4.11.2)\n",
            "Requirement already satisfied: requests<3.0.0,>=2.23.0 in /usr/local/lib/python3.10/dist-packages (from deep_translator) (2.31.0)\n",
            "Requirement already satisfied: soupsieve>1.2 in /usr/local/lib/python3.10/dist-packages (from beautifulsoup4<5.0.0,>=4.9.1->deep_translator) (2.5)\n",
            "Requirement already satisfied: charset-normalizer<4,>=2 in /usr/local/lib/python3.10/dist-packages (from requests<3.0.0,>=2.23.0->deep_translator) (3.3.2)\n",
            "Requirement already satisfied: idna<4,>=2.5 in /usr/local/lib/python3.10/dist-packages (from requests<3.0.0,>=2.23.0->deep_translator) (3.6)\n",
            "Requirement already satisfied: urllib3<3,>=1.21.1 in /usr/local/lib/python3.10/dist-packages (from requests<3.0.0,>=2.23.0->deep_translator) (2.0.7)\n",
            "Requirement already satisfied: certifi>=2017.4.17 in /usr/local/lib/python3.10/dist-packages (from requests<3.0.0,>=2.23.0->deep_translator) (2023.11.17)\n"
          ]
        }
      ]
    },
    {
      "cell_type": "code",
      "source": [
        "import streamlit as st\n",
        "from pyChatGPT import ChatGPT\n",
        "from deep_translator import googleTranslator\n",
        "\n",
        "session = \"eyJhbGciOiJkaXIiLCJlbmMiOiJBMjU2R0NNIn0..baaic0Fv0ddx1C4f.LjR77hUQlm4JIROkONHjGmqXl0xfH3ymlWhbyqQyxXvH8zQuXoyyw3Ty_AMjdJKdkWM8PZEE7Q17y9m2QWruAUXea-NiG9bVmV1ncU-2RQjivBND5zAhYv9bip0jmLg7giXkERy04dES1YfLDuplGLi-2iyOkrCe82Is0Bv9ORLIkZqSNJprM0XCxIEVT7APgXxElbVU1V55fYFH2RVw9Gctp3bUX5fuiSOZjtlJsDOL03jVdd1dSPqzguubLVCsdlyD42e0i6HEESo-90SeNAPaNPlY5gOTFYsxtDKF_bK_opDyYNRvbN5KxRWogeD_9YR20t1Te0SLsEvFydXyhWa1-VYeP_VoAT4vLkvK7qEE0RY1qJB4xfnUARABrdpid5_8pTxmzCwi00y8AhQl599umI9bn69gx_3Y1unUUNxfLk91mYvJw16WNuYAbha-WDEMfRRZVeTw_p9oGLha4g4gQSdV5FcOa19iDjB18POhEllzgUWc1jinY__QWC_aPgGCYDzUrJ9LT5_p-nwEuaFHX2vW8qv3qv1TzChx9WJj6XPcj8g1BnVWUThDvDMY9pDmp72XK3tf0LKhIi8vviP3fF75mReYQNoaUXyN3am1QcF1X2hr7fMDWH1vg3W6mCmyFU1PAwobwmAHDbxpN8zdkkcc_5Cyqh7Oue0jnYCI_JGqewKUDSjqkgusWHulwigVZULcYKLOeVEgVA0VuT6DqCW37CmTAniZXwhvqaSbMw6ULsJ2-sbsgqzwMneXMEa8m7k7qb91nX96CSm6nePQPwkADiGnfBkwVVex8pK0koJCBm6HILeU1pvtjQgmwD0v6cTi7qQ0FbRZofTfL9YFeRBg6XOWQ5PcYR92UGQbo_mL3o8ORK2vXzTw_RZ-waP19KocGBpSNyhYZPsK2SLb6OghWe4v1mJ_szUC7NWMkNPIpP2IjKiCOIB2ufBw3SNTsp4Tio0v9GlJDRLtTLJLbjrY4Be3A9-AaKW4oCBBwNJRioK5tK1m1Zqtgp91cejGmwyg8PYUj31Hg9boszx3DQ_0A3WnXYpIDFjkJkGqHZfye9Rb26Ux0zwoW2bVWzDncBxPxpqT3X_23Ndmp6KDNqxxMEJEMQSNhHkDbb91DDn8S2cZ-QsfdYJwF8vjv94IFdwuom8xyqqn4VJaExXtAuXxqvTcygw9k__ZZUeVVQN8GMd9EqvLTi23GJI0UYHcONFa_PPfX6hRNMMT7uGYv401T4B604amSm9Hq15-BD-qMg3Dl7b3Innb38pKEz8Lorr-EDGmbXg4wGhOrP38vYpK9TEbjvLJlBo3kqooFTX6ca64SN08iKMa_fJEgee_TKWdBJFVcIZkCQvl_b78kRog4qwDYqz4yfD7438ctvFJIFw88P0iEvgTeFF51qyuf8m1ZDXzKPhxjYOVO5ITParBfpEqfeH_f2jqmeUxU4PHd7zM9fcpyOdaLXvj449eee2GA-oz-lmI5fr4ptGChPRJCPutHAbtLVHaPjga5QCnieJKUUUvf8WNusxTsm-J8iib3hHmMKx6Ac1DgpWtEALjCgtGopTfScoNIuYw-d69qxQ_CHhRS4iwlZAb3vlLNETfNTyMZix-SKDANVKt1Sq_TXfU01H6IDXdTRSTVP5jm1QRRnGBeSi67cROyoA8hU6n092NNx6VwBHegJL2xFB6tSXPGP_IlS6ubMr1fZFj5YoFmR5fYwxNCKIyd95NscuOawNydUlVY5onYqqS6lb46X4zyRvpjErobXbB9Unl7HAJTjNvpUxORgVQu2eSWeMnPhFgJtoKRBfQuqfMLMniTtD_kR-Ms4EDluw1jOUmcSdwxz-8KiyGYxgn-t9zdmiWn1mw1hArHl_wyiL0wBaIMnwk931g6kaRcq2RptGg7Ezb63pt98a_iBBXbvbi_yGCIIx_KnV8odHRskBEx90Wk77z6Ucp_t-_QelHKTXar7ho5RNxXGrV1wjgUaOzS-9bvgLdYmX6ZI1GS_SZg3EQWqffexmJcQQjj2zKd4Sjvuy7J94HlwdeuhVFImgHeb5VvcmZcDVW_aXwBiEIwbN38tBZtW0Sdly0ly2yLlsObPHV9qv7Z5izKJi_CJ_so4evAkohCd2yjX7k3r6PVtKBaMegUoQgST4iHsMq6cy0C7407Mc1zqEk1pY9-z0ZrGpXH2dMMlmcAxhdElaoKd89SCPqx5JhL4GAM-aLTfunDzKoM_rJDDT54tRG8bec_zo40wjMxmDYERfRD4qetmRsWmaMc4QjqfsZt6zQAf1_3FM4F6CZfFgBfpGJ98UXJE_rBqbvten5CKG_ZqkTQEmhagI1Dy0Zr58e4EFbxtmhaZB4yg-yjYPdL4Yte9AH-mTwWzxQdJ6HEo47ld2hMgD0fJ7faoLXRT_BOQekWYA9VFKgxbpiP7qH0SZYLwZ5-N-p2PdugxHDmn9Q88pjvNsYrB65d3EbRR55_XNBlzyXIuR5AAVNmCV20_JICt1fG_GrLMJshzeyazFicOn5fkSPO6E8egnIL3852N2PC-rs69519edfnO3FPbs_C3NB4IvzPsLCd-PNEkQPfVv3twVdR3pZ0ohKGPJTz3saqwiSKfqyaHeLD3_V_SHZh_DCAu6JvnesT2vLX0LbTefvCbPTZuAN5PilZ2kDsss8G6Jma2JozLisaemPrIIPuMt5-KL0at61foUI0SsfllZ_ZD_XuGn71A0JzsfGgv56i2wbkpKXPluAmQ6H_gOFWkPzeJipXyEfOpH3uOag-vbPtQfyqLYqflZePdMC6ldq-lps7308VxJTweLq-b6U29_esonW4Hvnx9RmLyETREWOU2q36d_NGux7hTyD0GmPFJD4ERATc344BNO3cwwnEr_7ysWrB0qGdJBkK10ICf2VWBcq1nms9KvrrPTuGfU_R0_Ed-ACOi8SQ2ecbxNpQixTQLEzTl8xI18-W7fJdSxVeX8FpSRG_Fsd_WiD7sFcDrxhGJsD6BoZdoJyj0XHABMVbjDqAtSOsdpJZAYhkJfSZaKCaL-EE6lG-bjkV_X9YIpj7CI.-E8gFvljJOowRw3ymc1xvA\"\n",
        "\n",
        "api =  ChatGPT (session)\n",
        "\n",
        "x= api.send_message(\"Who are you?\")\n",
        "st.write(x)"
      ],
      "metadata": {
        "colab": {
          "base_uri": "https://localhost:8080/",
          "height": 612
        },
        "id": "1yd-NLHhp03M",
        "outputId": "9cf8a44f-0a44-4de3-bb47-b985e318ca04"
      },
      "execution_count": 7,
      "outputs": [
        {
          "output_type": "error",
          "ename": "ImportError",
          "evalue": "ignored",
          "traceback": [
            "\u001b[0;31m---------------------------------------------------------------------------\u001b[0m",
            "\u001b[0;31mImportError\u001b[0m                               Traceback (most recent call last)",
            "\u001b[0;32m<ipython-input-7-e9ee9dc99f23>\u001b[0m in \u001b[0;36m<cell line: 3>\u001b[0;34m()\u001b[0m\n\u001b[1;32m      1\u001b[0m \u001b[0;32mimport\u001b[0m \u001b[0mstreamlit\u001b[0m \u001b[0;32mas\u001b[0m \u001b[0mst\u001b[0m\u001b[0;34m\u001b[0m\u001b[0;34m\u001b[0m\u001b[0m\n\u001b[1;32m      2\u001b[0m \u001b[0;32mfrom\u001b[0m \u001b[0mpyChatGPT\u001b[0m \u001b[0;32mimport\u001b[0m \u001b[0mChatGPT\u001b[0m\u001b[0;34m\u001b[0m\u001b[0;34m\u001b[0m\u001b[0m\n\u001b[0;32m----> 3\u001b[0;31m \u001b[0;32mfrom\u001b[0m \u001b[0mdeep_translator\u001b[0m \u001b[0;32mimport\u001b[0m \u001b[0mgoogleTranslator\u001b[0m\u001b[0;34m\u001b[0m\u001b[0;34m\u001b[0m\u001b[0m\n\u001b[0m\u001b[1;32m      4\u001b[0m \u001b[0;34m\u001b[0m\u001b[0m\n\u001b[1;32m      5\u001b[0m \u001b[0msession\u001b[0m \u001b[0;34m=\u001b[0m \u001b[0;34m\"eyJhbGciOiJkaXIiLCJlbmMiOiJBMjU2R0NNIn0..baaic0Fv0ddx1C4f.LjR77hUQlm4JIROkONHjGmqXl0xfH3ymlWhbyqQyxXvH8zQuXoyyw3Ty_AMjdJKdkWM8PZEE7Q17y9m2QWruAUXea-NiG9bVmV1ncU-2RQjivBND5zAhYv9bip0jmLg7giXkERy04dES1YfLDuplGLi-2iyOkrCe82Is0Bv9ORLIkZqSNJprM0XCxIEVT7APgXxElbVU1V55fYFH2RVw9Gctp3bUX5fuiSOZjtlJsDOL03jVdd1dSPqzguubLVCsdlyD42e0i6HEESo-90SeNAPaNPlY5gOTFYsxtDKF_bK_opDyYNRvbN5KxRWogeD_9YR20t1Te0SLsEvFydXyhWa1-VYeP_VoAT4vLkvK7qEE0RY1qJB4xfnUARABrdpid5_8pTxmzCwi00y8AhQl599umI9bn69gx_3Y1unUUNxfLk91mYvJw16WNuYAbha-WDEMfRRZVeTw_p9oGLha4g4gQSdV5FcOa19iDjB18POhEllzgUWc1jinY__QWC_aPgGCYDzUrJ9LT5_p-nwEuaFHX2vW8qv3qv1TzChx9WJj6XPcj8g1BnVWUThDvDMY9pDmp72XK3tf0LKhIi8vviP3fF75mReYQNoaUXyN3am1QcF1X2hr7fMDWH1vg3W6mCmyFU1PAwobwmAHDbxpN8zdkkcc_5Cyqh7Oue0jnYCI_JGqewKUDSjqkgusWHulwigVZULcYKLOeVEgVA0VuT6DqCW37CmTAniZXwhvqaSbMw6ULsJ2-sbsgqzwMneXMEa8m7k7qb91nX96CSm6nePQPwkADiGnfBkwVVex8pK0koJCBm6HILeU1pvtjQgmwD0v6cTi7qQ0FbRZofTfL9YFeRBg6XOWQ5PcYR92UGQbo_mL3o8ORK2vXzTw_RZ-waP19KocGBpSNyhYZPsK2SLb6OghWe4v1mJ_szUC7NWMkNPIpP2IjKiCOIB2ufBw3SNTsp4Tio0v9GlJDRLtTLJLbjrY4Be3A9-AaKW4oCBBwNJRioK5tK1m1Zqtgp91cejGmwyg8PYUj31Hg9boszx3DQ_0A3WnXYpIDFjkJkGqHZfye9Rb26Ux0zwoW2bVWzDncBxPxpqT3X_23Ndmp6KDNqxxMEJEMQSNhHkDbb91DDn8S2cZ-QsfdYJwF8vjv94IFdwuom8xyqqn4VJaExXtAuXxqvTcygw9k__ZZUeVVQN8GMd9EqvLTi23GJI0UYHcONFa_PPfX6hRNMMT7uGYv401T4B604amSm9Hq15-BD-qMg3Dl7b3Innb38pKEz8Lorr-EDGmbXg4wGhOrP38vYpK9TEbjvLJlBo3kqooFTX6ca64SN08iKMa_fJEgee_TKWdBJFVcIZkCQvl_b78kRog4qwDYqz4yfD...\n",
            "\u001b[0;31mImportError\u001b[0m: cannot import name 'googleTranslator' from 'deep_translator' (/usr/local/lib/python3.10/dist-packages/deep_translator/__init__.py)",
            "",
            "\u001b[0;31m---------------------------------------------------------------------------\u001b[0;32m\nNOTE: If your import is failing due to a missing package, you can\nmanually install dependencies using either !pip or !apt.\n\nTo view examples of installing some common dependencies, click the\n\"Open Examples\" button below.\n\u001b[0;31m---------------------------------------------------------------------------\u001b[0m\n"
          ],
          "errorDetails": {
            "actions": [
              {
                "action": "open_url",
                "actionText": "Open Examples",
                "url": "/notebooks/snippets/importing_libraries.ipynb"
              }
            ]
          }
        }
      ]
    },
    {
      "cell_type": "code",
      "source": [
        "pip install deep_translator"
      ],
      "metadata": {
        "colab": {
          "base_uri": "https://localhost:8080/"
        },
        "id": "nef0tyoIovMa",
        "outputId": "66639d21-10d9-40b6-9fb4-dfe53a78f906"
      },
      "execution_count": 4,
      "outputs": [
        {
          "output_type": "stream",
          "name": "stdout",
          "text": [
            "Requirement already satisfied: deep_translator in /usr/local/lib/python3.10/dist-packages (1.11.4)\n",
            "Requirement already satisfied: beautifulsoup4<5.0.0,>=4.9.1 in /usr/local/lib/python3.10/dist-packages (from deep_translator) (4.11.2)\n",
            "Requirement already satisfied: requests<3.0.0,>=2.23.0 in /usr/local/lib/python3.10/dist-packages (from deep_translator) (2.31.0)\n",
            "Requirement already satisfied: soupsieve>1.2 in /usr/local/lib/python3.10/dist-packages (from beautifulsoup4<5.0.0,>=4.9.1->deep_translator) (2.5)\n",
            "Requirement already satisfied: charset-normalizer<4,>=2 in /usr/local/lib/python3.10/dist-packages (from requests<3.0.0,>=2.23.0->deep_translator) (3.3.2)\n",
            "Requirement already satisfied: idna<4,>=2.5 in /usr/local/lib/python3.10/dist-packages (from requests<3.0.0,>=2.23.0->deep_translator) (3.6)\n",
            "Requirement already satisfied: urllib3<3,>=1.21.1 in /usr/local/lib/python3.10/dist-packages (from requests<3.0.0,>=2.23.0->deep_translator) (2.0.7)\n",
            "Requirement already satisfied: certifi>=2017.4.17 in /usr/local/lib/python3.10/dist-packages (from requests<3.0.0,>=2.23.0->deep_translator) (2023.11.17)\n"
          ]
        }
      ]
    }
  ]
}